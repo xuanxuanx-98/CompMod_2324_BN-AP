{
 "cells": [
  {
   "cell_type": "code",
   "execution_count": 1,
   "metadata": {},
   "outputs": [
    {
     "name": "stderr",
     "output_type": "stream",
     "text": [
      "/home/xuanxuanx/Python/venvs/MultiV/lib/python3.7/site-packages/tqdm/auto.py:21: TqdmWarning: IProgress not found. Please update jupyter and ipywidgets. See https://ipywidgets.readthedocs.io/en/stable/user_install.html\n",
      "  from .autonotebook import tqdm as notebook_tqdm\n"
     ]
    }
   ],
   "source": [
    "import numpy as np\n",
    "import pandas as pd\n",
    "import itertools\n",
    "import spacy\n",
    "\n",
    "from tqdm import tqdm\n",
    "\n",
    "import warnings\n",
    "\n",
    "warnings.filterwarnings(\"ignore\")"
   ]
  },
  {
   "cell_type": "code",
   "execution_count": 28,
   "metadata": {},
   "outputs": [],
   "source": [
    "def get_sentences(file_path):\n",
    "    sentences = []\n",
    "    sentence = []\n",
    "\n",
    "    with open(file_path, 'r') as file:\n",
    "        for line in file:\n",
    "            if line.strip() == '':  # new sentence\n",
    "                if sentence:  # if the list is not empty\n",
    "                    sentences.append(sentence)\n",
    "                    sentence = []\n",
    "            else:\n",
    "                columns = line.strip().split('\\t')\n",
    "                if len(columns) > 1:  # to ensure there is a second column\n",
    "                    sentence.append(columns[1])  # append the word to the sentence\n",
    "\n",
    "    # append the last sentence if it's not empty\n",
    "    if sentence:\n",
    "        sentences.append(sentence)\n",
    "\n",
    "    return sentences"
   ]
  },
  {
   "cell_type": "code",
   "execution_count": 29,
   "metadata": {},
   "outputs": [],
   "source": [
    "sentences_aae = get_sentences(\"../data/twitter_aae/aa250_gold.conllu\")\n",
    "sentences_wh = get_sentences(\"../data/twitter_aae/wh250_gold.conllu\")"
   ]
  },
  {
   "cell_type": "code",
   "execution_count": 32,
   "metadata": {},
   "outputs": [
    {
     "data": {
      "text/plain": [
       "\"yea uu did some , put dat bx in dere ' ion fuck uh round !\""
      ]
     },
     "execution_count": 32,
     "metadata": {},
     "output_type": "execute_result"
    }
   ],
   "source": [
    "\" \".join(sentences_aae[0])"
   ]
  },
  {
   "cell_type": "code",
   "execution_count": 31,
   "metadata": {},
   "outputs": [
    {
     "data": {
      "text/plain": [
       "['ATMENTION',\n",
       " 'they',\n",
       " 'got',\n",
       " 'rid',\n",
       " 'of',\n",
       " 'the',\n",
       " 'hate',\n",
       " 'attendant',\n",
       " 'position',\n",
       " '!!!',\n",
       " 'I',\n",
       " \"don't\",\n",
       " 'know',\n",
       " 'what',\n",
       " \"I'm\",\n",
       " 'gonna',\n",
       " 'do']"
      ]
     },
     "execution_count": 31,
     "metadata": {},
     "output_type": "execute_result"
    }
   ],
   "source": [
    "sentences_wh[1]"
   ]
  }
 ],
 "metadata": {
  "kernelspec": {
   "display_name": "ToxBiasD",
   "language": "python",
   "name": "python3"
  },
  "language_info": {
   "codemirror_mode": {
    "name": "ipython",
    "version": 3
   },
   "file_extension": ".py",
   "mimetype": "text/x-python",
   "name": "python",
   "nbconvert_exporter": "python",
   "pygments_lexer": "ipython3",
   "version": "3.7.13"
  }
 },
 "nbformat": 4,
 "nbformat_minor": 2
}
