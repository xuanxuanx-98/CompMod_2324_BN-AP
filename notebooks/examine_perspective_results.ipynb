{
 "cells": [
  {
   "cell_type": "code",
   "execution_count": 1,
   "metadata": {},
   "outputs": [],
   "source": [
    "import numpy as np\n",
    "import pandas as pd\n",
    "import json\n",
    "import matplotlib.pyplot as plt\n",
    "from tqdm import tqdm\n",
    "from collections import Counter\n",
    "\n",
    "from sklearn.feature_extraction.text import CountVectorizer\n",
    "\n",
    "from transformers import pipeline\n",
    "\n",
    "from scipy import stats"
   ]
  },
  {
   "cell_type": "code",
   "execution_count": 2,
   "metadata": {},
   "outputs": [],
   "source": [
    "def process_batch(batchn):\n",
    "    og_scores = list(pd.read_csv(f\"../data/hatexplain_perspective/persp_score_original_{batchn}.csv\")[\"score\"])\n",
    "    aave_scores = list(pd.read_csv(f\"../data/hatexplain_perspective/persp_score_aave_{batchn}.csv\")[\"score\"])\n",
    "    nigerianD_scores = list(pd.read_csv(f\"../data/hatexplain_perspective/persp_score_nigerianD_{batchn}.csv\")[\"score\"])\n",
    "    indianD_scores = list(pd.read_csv(f\"../data/hatexplain_perspective/persp_score_indianD_{batchn}.csv\")[\"score\"])\n",
    "    singlish_scores = list(pd.read_csv(f\"../data/hatexplain_perspective/persp_score_singlish_{batchn}.csv\")[\"score\"])\n",
    "\n",
    "    og_errors = json.load(open(f\"../data/hatexplain_perspective/errors_original_{batchn}.json\"))\n",
    "    aave_errors = json.load(open(f\"../data/hatexplain_perspective/errors_aave_{batchn}.json\"))\n",
    "    nigerianD_errors = json.load(open(f\"../data/hatexplain_perspective/errors_nigerianD_{batchn}.json\"))\n",
    "    indianD_errors = json.load(open(f\"../data/hatexplain_perspective/errors_indianD_{batchn}.json\"))\n",
    "    singlish_errors = json.load(open(f\"../data/hatexplain_perspective/errors_singlish_{batchn}.json\"))\n",
    "            \n",
    "    for idx in og_errors:\n",
    "        og_scores.insert(idx, 0)    \n",
    "    for idx in aave_errors:\n",
    "        aave_scores.insert(idx, 0)\n",
    "    for idx in nigerianD_errors:\n",
    "        nigerianD_scores.insert(idx, 0)\n",
    "    for idx in indianD_errors:\n",
    "        indianD_scores.insert(idx, 0)\n",
    "    for idx in singlish_errors:\n",
    "        singlish_scores.insert(idx, 0)\n",
    "    \n",
    "    to_drop = sorted(list(set(og_errors + aave_errors + nigerianD_errors + indianD_errors + singlish_errors)), reverse=True)\n",
    "\n",
    "    for idx in to_drop:\n",
    "        del og_scores[idx]\n",
    "        del aave_scores[idx]\n",
    "        del nigerianD_scores[idx]\n",
    "        del indianD_scores[idx]\n",
    "        del singlish_scores[idx]\n",
    "\n",
    "    return og_scores, aave_scores, nigerianD_scores, indianD_scores, singlish_scores, to_drop"
   ]
  },
  {
   "cell_type": "code",
   "execution_count": 3,
   "metadata": {},
   "outputs": [],
   "source": [
    "og1, aave1, nigerianD1, indianD1, singlish1, to_drop1 = process_batch(\"batch1\")\n",
    "og2, aave2, nigerianD2, indianD2, singlish2, to_drop2 = process_batch(\"batch2\")\n",
    "og3, aave3, nigerianD3, indianD3, singlish3, to_drop3 = process_batch(\"batch3\")\n",
    "og4, aave4, nigerianD4, indianD4, singlish4, to_drop4 = process_batch(\"batch4\")"
   ]
  },
  {
   "cell_type": "code",
   "execution_count": 4,
   "metadata": {},
   "outputs": [],
   "source": [
    "og_scores = og1 + og2 + og3 + og4\n",
    "aave_scores = aave1 + aave2 + aave3 + aave4\n",
    "nigerianD_scores = nigerianD1 + nigerianD2 + nigerianD3 + nigerianD4\n",
    "indianD_scores = indianD1 + indianD2 + indianD3 + indianD4\n",
    "singlish_scores = singlish1 + singlish2 + singlish3 + singlish4\n",
    "\n",
    "to_drop2 = [i+5000 for i in to_drop2]\n",
    "to_drop3 = [i+10000 for i in to_drop3]\n",
    "to_drop4 = [i+15000 for i in to_drop4]\n",
    "to_drop = sorted(to_drop1 + to_drop2 + to_drop3 + to_drop4, reverse=True)"
   ]
  },
  {
   "cell_type": "code",
   "execution_count": null,
   "metadata": {},
   "outputs": [],
   "source": []
  },
  {
   "cell_type": "code",
   "execution_count": null,
   "metadata": {},
   "outputs": [],
   "source": []
  },
  {
   "cell_type": "code",
   "execution_count": 5,
   "metadata": {},
   "outputs": [],
   "source": [
    "def check_increase_decrease(og_scores, converted_scores):\n",
    "    increase = []\n",
    "    decrease = []\n",
    "\n",
    "    for i in range(len(og_scores)):\n",
    "        if converted_scores[i] > og_scores[i]:\n",
    "            increase.append((i, converted_scores[i] - og_scores[i]))\n",
    "        elif converted_scores[i] < og_scores[i]:\n",
    "            decrease.append((i, og_scores[i] - converted_scores[i]))\n",
    "\n",
    "    return increase, decrease"
   ]
  },
  {
   "cell_type": "code",
   "execution_count": 6,
   "metadata": {},
   "outputs": [
    {
     "name": "stdout",
     "output_type": "stream",
     "text": [
      "dialect more toxic 6560\n",
      "original more toxic 11172\n"
     ]
    }
   ],
   "source": [
    "aave_tox, og_tox = check_increase_decrease(og_scores, aave_scores)\n",
    "print(\"dialect more toxic\", len(aave_tox))\n",
    "print(\"original more toxic\", len(og_tox))"
   ]
  },
  {
   "cell_type": "code",
   "execution_count": 69,
   "metadata": {},
   "outputs": [],
   "source": [
    "def get_rule_importance(converted_df, converted_scores, og_scores, to_drop):\n",
    "    \"\"\"\n",
    "    Get the rules that are most likely to cause an increase or decrease in toxicity scores.\n",
    "\n",
    "    converted_df: dataFrame containing synthetic sentences and the rules and they were applied on\n",
    "    converted_scores: toxicity scores by PerspectiveAPI of the synthetic sentences\n",
    "    og_scores: toxicity scores by PerspectiveAPI of the source sentences, len(og_scores) == len(converted_scores)\n",
    "    to_drop: indexes of all sentences that were not processed by PerspectiveAPI\n",
    "    \"\"\"\n",
    "\n",
    "    # drop all not processed documents from document list\n",
    "    for idx in to_drop:\n",
    "        converted_df.drop(idx, inplace=True)\n",
    "    converted_df.reset_index(drop=True, inplace=True)\n",
    "\n",
    "    # get indexes of increased and decreased instances\n",
    "    converted_mtox, og_mtox = check_increase_decrease(og_scores, converted_scores)\n",
    "\n",
    "    # seperate rules applied on instances with in-/decreased scores\n",
    "    rules_increase_tox = []  # [[rule1, rule2, ...], [rule1, rule2, ...], ...]\n",
    "    rules_decrease_tox = []  # [[rule1, rule2, ...], [rule1, rule2, ...], ...]\n",
    "\n",
    "    # rules on instances for which toxicity increased\n",
    "    for idx, score_change in converted_mtox:\n",
    "        rules_increase_tox.append(converted_df[\"rules\"][idx])\n",
    "    # rules on instances for which toxicity decreased\n",
    "    for idx, score_change in og_mtox:\n",
    "        rules_decrease_tox.append(converted_df[\"rules\"][idx])\n",
    "\n",
    "    # how much did the scores in-/decreased\n",
    "    increase_degree = [score_change for (idx, score_change) in converted_mtox]\n",
    "    decrease_degree = [score_change for (idx, score_change) in og_mtox]\n",
    "\n",
    "    # create rule_sentence_matrix, in which each row represnets a sentence\n",
    "    # and each column represents a rule, like a bag of words matrix\n",
    "    vectorizer = (\n",
    "        CountVectorizer()\n",
    "    )  # used for creating the rule_sentence_matrix, like BoW\n",
    "\n",
    "    # convert rule list of each document to a single string for CountVectorizer()\n",
    "    rules_increase_tox_as_strings = [\" \".join(doc) for doc in rules_increase_tox]\n",
    "    # learn the \"vocabulary\" dictionary and return term-document matrix\n",
    "    X = vectorizer.fit_transform(rules_increase_tox_as_strings)\n",
    "    rule_sent_matrix_increase = pd.DataFrame(\n",
    "        X.toarray(), columns=vectorizer.get_feature_names_out()\n",
    "    )\n",
    "\n",
    "    # do the same for instances with decreased toxicity scores\n",
    "    rules_decrease_tox_as_strings = [\" \".join(doc) for doc in rules_decrease_tox]\n",
    "    X = vectorizer.fit_transform(rules_decrease_tox_as_strings)\n",
    "    rule_sent_matrix_decrease= pd.DataFrame(\n",
    "        X.toarray(), columns=vectorizer.get_feature_names_out()\n",
    "    )\n",
    "\n",
    "    # test each rule vector against in-/decrease degree, see if the relevance is significant\n",
    "    rules_cause_increase = []  # [{rule1_name, (r, p)}, {rule2_name, (r, p)} ...]\n",
    "\n",
    "    for i in range(len(rule_sent_matrix_increase.columns)):\n",
    "        column_name = rule_sent_matrix_increase.columns[i]\n",
    "\n",
    "        # apply a statistic test\n",
    "        r, p = stats.pointbiserialr(\n",
    "            rule_sent_matrix_increase[column_name], increase_degree\n",
    "        )\n",
    "        if p < 0.05:\n",
    "            significant = {column_name: (r, p)}\n",
    "            rules_cause_increase.append(significant)\n",
    "\n",
    "    rules_cause_increase = sorted(\n",
    "        rules_cause_increase, key=lambda x: list(x.values())[0][1]\n",
    "    )\n",
    "\n",
    "    # do the same for instances with decreased toxicity scores\n",
    "    rules_cause_decrease = []\n",
    "\n",
    "    for i in range(len(rule_sent_matrix_decrease.columns)):\n",
    "        column_name = rule_sent_matrix_decrease.columns[i]\n",
    "\n",
    "        # apply a statistic test\n",
    "        r, p = stats.pointbiserialr(\n",
    "            rule_sent_matrix_decrease[column_name], decrease_degree\n",
    "        )\n",
    "        if p < 0.05:\n",
    "            significant = {column_name: (r, p)}\n",
    "            rules_cause_decrease.append(significant)\n",
    "\n",
    "    rules_cause_decrease = sorted(\n",
    "        rules_cause_decrease, key=lambda x: list(x.values())[0][1]\n",
    "    )\n",
    "\n",
    "    return rule_sent_matrix_increase, rules_cause_increase, rule_sent_matrix_decrease, rules_cause_decrease"
   ]
  },
  {
   "cell_type": "code",
   "execution_count": 96,
   "metadata": {},
   "outputs": [],
   "source": [
    "def print_relevant_rules(rules_cause_increase, rules_cause_decrease):\n",
    "    rule_names_in = sorted([list(rule.keys())[0] for rule in rules_cause_increase])\n",
    "    rule_names_de = sorted([list(rule.keys())[0] for rule in rules_cause_decrease])\n",
    "\n",
    "    print(len(rule_names_in), rule_names_in)\n",
    "    print(len(rule_names_de), rule_names_de)\n",
    "\n",
    "    # check how similar is the rule_names_in and rule_names_de\n",
    "    intersection = sorted(list(set(rule_names_in).intersection(set(rule_names_de))))\n",
    "    print(len(intersection), intersection)\n",
    "\n",
    "    return True"
   ]
  },
  {
   "cell_type": "code",
   "execution_count": 97,
   "metadata": {},
   "outputs": [
    {
     "name": "stdout",
     "output_type": "stream",
     "text": [
      "22 ['acomp_focusing_like', 'aint_be', 'bare_past_tense', 'chaining_main_verbs', 'clefting', 'demonstrative_for_definite_articles', 'do_tense_marker', 'double_modals', 'drop_copula_be_np', 'for_to', 'generalized_third_person_s', 'mass_noun_plurals', 'null_referential_pronouns', 'past_been', 'plural_to_singular_human', 'progressives', 'proximal_distal_demonstratives', 'referential_thing', 'regularized_plurals', 'she_inanimate_objects', 'to_infinitive', 'zero_plural']\n",
      "28 ['aint_before_main', 'bare_past_tense', 'bare_perfect', 'clefting', 'completive_done', 'demonstrative_for_definite_articles', 'double_comparative', 'drop_aux_be_progressive', 'drop_copula_be_np', 'flat_adj_for_adv', 'for_to', 'future_sub_gon', 'generalized_third_person_s', 'mass_noun_plurals', 'null_genitive', 'null_relcl', 'plural_to_singular_human', 'progressives', 'proximal_distal_demonstratives', 'referential_thing', 'regularized_plurals', 'relativizer_doubling', 'their_they', 'uninflect', 'were_was', 'who_what', 'yall', 'zero_plural_after_quantifier']\n",
      "12 ['bare_past_tense', 'clefting', 'demonstrative_for_definite_articles', 'drop_copula_be_np', 'for_to', 'generalized_third_person_s', 'mass_noun_plurals', 'plural_to_singular_human', 'progressives', 'proximal_distal_demonstratives', 'referential_thing', 'regularized_plurals']\n"
     ]
    },
    {
     "data": {
      "text/plain": [
       "True"
      ]
     },
     "execution_count": 97,
     "metadata": {},
     "output_type": "execute_result"
    }
   ],
   "source": [
    "aave_full = pd.read_json(\"../data/hatexplain/aave_full.jsonl\", lines=True)\n",
    "(\n",
    "    rule_sent_matrix_increase,\n",
    "    rules_cause_increase,\n",
    "    rule_sent_matrix_decrease,\n",
    "    rules_cause_decrease,\n",
    ") = get_rule_importance(aave_full, aave_scores, og_scores, to_drop)\n",
    "\n",
    "print_relevant_rules(rules_cause_increase, rules_cause_decrease)"
   ]
  },
  {
   "cell_type": "code",
   "execution_count": 98,
   "metadata": {},
   "outputs": [
    {
     "name": "stdout",
     "output_type": "stream",
     "text": [
      "4 ['drop_inf_to', 'mass_noun_plurals', 'null_prepositions', 'progressives']\n",
      "13 ['corr_conjunction_doubling', 'demonstrative_no_number', 'drop_aux_be_progressive', 'drop_inf_to', 'mass_noun_plurals', 'more_much', 'null_prepositions', 'present_for_exp_perfect', 'regularized_plurals', 'remove_det_definite', 'to_infinitive', 'too_sub', 'uninflect']\n",
      "3 ['drop_inf_to', 'mass_noun_plurals', 'null_prepositions']\n"
     ]
    },
    {
     "data": {
      "text/plain": [
       "True"
      ]
     },
     "execution_count": 98,
     "metadata": {},
     "output_type": "execute_result"
    }
   ],
   "source": [
    "nigerianD_full = pd.read_json(\"../data/hatexplain/nigerianD_full.jsonl\", lines=True)\n",
    "(\n",
    "    rule_sent_matrix_increase,\n",
    "    rules_cause_increase,\n",
    "    rule_sent_matrix_decrease,\n",
    "    rules_cause_decrease,\n",
    ") = get_rule_importance(nigerianD_full, aave_scores, og_scores, to_drop)\n",
    "\n",
    "print_relevant_rules(rules_cause_increase, rules_cause_decrease)"
   ]
  },
  {
   "cell_type": "code",
   "execution_count": 84,
   "metadata": {},
   "outputs": [
    {
     "name": "stdout",
     "output_type": "stream",
     "text": [
      "9\n",
      "22\n",
      "4\n"
     ]
    },
    {
     "data": {
      "text/plain": [
       "True"
      ]
     },
     "execution_count": 84,
     "metadata": {},
     "output_type": "execute_result"
    }
   ],
   "source": [
    "indianD_full = pd.read_json(\"../data/hatexplain/indianD_full.jsonl\", lines=True)\n",
    "(\n",
    "    rule_sent_matrix_increase,\n",
    "    rules_cause_increase,\n",
    "    rule_sent_matrix_decrease,\n",
    "    rules_cause_decrease,\n",
    ") = get_rule_importance(indianD_full, aave_scores, og_scores, to_drop)\n",
    "\n",
    "print_relevant_rules(rules_cause_increase, rules_cause_decrease)"
   ]
  },
  {
   "cell_type": "code",
   "execution_count": 85,
   "metadata": {},
   "outputs": [
    {
     "name": "stdout",
     "output_type": "stream",
     "text": [
      "9\n",
      "20\n",
      "5\n"
     ]
    },
    {
     "data": {
      "text/plain": [
       "True"
      ]
     },
     "execution_count": 85,
     "metadata": {},
     "output_type": "execute_result"
    }
   ],
   "source": [
    "singlish_full = pd.read_json(\"../data/hatexplain/singlish_full.jsonl\", lines=True)\n",
    "(\n",
    "    rule_sent_matrix_increase,\n",
    "    rules_cause_increase,\n",
    "    rule_sent_matrix_decrease,\n",
    "    rules_cause_decrease,\n",
    ") = get_rule_importance(singlish_full, aave_scores, og_scores, to_drop)\n",
    "\n",
    "print_relevant_rules(rules_cause_increase, rules_cause_decrease)"
   ]
  },
  {
   "cell_type": "code",
   "execution_count": null,
   "metadata": {},
   "outputs": [],
   "source": []
  },
  {
   "cell_type": "code",
   "execution_count": null,
   "metadata": {},
   "outputs": [],
   "source": [
    "aave_full = pd.read_json(\"../data/hatexplain/aave_full.jsonl\", lines=True)\n",
    "for idx in to_drop:\n",
    "    aave_full.drop(idx, inplace=True)\n",
    "    aave_full.reset_index(drop=True, inplace=True)"
   ]
  },
  {
   "cell_type": "code",
   "execution_count": 151,
   "metadata": {},
   "outputs": [
    {
     "name": "stdout",
     "output_type": "stream",
     "text": [
      "6560\n",
      "11172\n"
     ]
    }
   ],
   "source": [
    "rules_increased_tox = []\n",
    "rules_decreased_tox = []\n",
    "\n",
    "for (idx, score_change) in aave_tox:\n",
    "    rules_increased_tox.append(aave_full[\"rules\"][idx])\n",
    "for (idx, score_change) in og_tox:\n",
    "    rules_decreased_tox.append(aave_full[\"rules\"][idx])\n",
    "\n",
    "print(len(rules_increased_tox))\n",
    "print(len(rules_decreased_tox))"
   ]
  },
  {
   "cell_type": "code",
   "execution_count": 152,
   "metadata": {},
   "outputs": [],
   "source": [
    "increase_degree = [score_change for (idx, score_change) in aave_tox]\n",
    "decrease_degree = [score_change for (idx, score_change) in og_tox]"
   ]
  },
  {
   "cell_type": "code",
   "execution_count": 153,
   "metadata": {},
   "outputs": [
    {
     "name": "stdout",
     "output_type": "stream",
     "text": [
      "Counter({'demonstrative_for_definite_articles': 1703, 'yall': 1460, 'regularized_plurals': 1435, 'uninflect': 1380, 'mass_noun_plurals': 1312, 'zero_plural': 948, 'null_relcl': 852, 'bare_past_tense': 819, 'drop_copula_be_NP': 789, 'indef_one': 661, 'progressives': 661, 'plural_to_singular_human': 660, 'generalized_third_person_s': 650, 'aint_before_main': 607, 'drop_aux_be_progressive': 561, 'negative_concord': 554, 'referential_thing': 539, 'double_modals': 520, 'proximal_distal_demonstratives': 507, 'for_to': 497, 'do_tense_marker': 457, 'past_for_past_participle': 413, 'drop_copula_be_AP': 408, 'bare_perfect': 406, 'acomp_focusing_like': 403, 'clefting': 371, 'aint_be': 340, 'possessives_for_pre': 325, 'regularized_past_tense': 324, 'linking_relcl': 320, 'shadow_pronouns': 316, 'null_referential_pronouns': 316, 'double_comparative': 258, 'no_gender_distinction': 257, 'em_subj_pronoun': 237, 'past_been': 214, 'drop_aux_yn': 206, 'participle_past_tense': 200, 'plural_interrogative': 198, 'drop_aux_have': 166, 'finna_future': 154, 'anaphoric_it': 145, 'irrealis_be_done': 143, 'who_what': 140, 'future_sub_gon': 136, 'drop_copula_be_locative': 135, 'completive_have_done': 132, 'corr_conjunction_doubling': 127, 'those_them': 120, 'your_you': 119, 'were_was': 118, 'she_inanimate_objects': 115, 'fixin_future': 106, 'relativizer_doubling': 105, 'say_complementizer': 104, 'chaining_main_verbs': 103, 'aint_have': 103, 'existential_it': 101, 'their_they': 99, 'completive_done': 98, 'present_modals': 97, 'their_them': 89, 'inverted_indirect_question': 88, 'zero_plural_after_quantifier': 86, 'relativizer_where': 85, 'existential_there': 82, 'to_infinitive': 77, 'if_would': 77, 'double_superlative': 77, 'will_would': 72, 'preposition_chopping': 70, 'analytic_superlative': 69, 'more_much': 63, 'too_sub': 62, 'his_he': 60, 'reflex_number': 58, 'it_dobj': 56, 'flat_adj_for_adv': 56, 'who_which': 55, 'regularized_reflexives': 55, 'our_us': 52, 'for_to_pupose': 50, 'who_at': 48, 'be_perfect': 35, 'synthetic_superlative': 32, 'simple_past_for_present_perfect': 31, 'conditional_were_was': 30, 'degree_adj_for_adv': 29, 'zero_degree': 23, 'that_infinitival_subclause': 19, 'come_future': 16, 'comparative_than': 16, 'negative_inversion': 14, 'present_for_neutral_future': 12, 'comparative_as_to': 11, 'invariant_tag_non_concord': 11, 'comparative_more_and': 11, 'existential_got': 10, 'what_comparative': 9, 'emphatic_reflex': 7, 'invariant_tag_can_or_not': 5, 'never_negator': 4, 'it_is_referential': 4, 'analytic_whose_relativizer': 4, 'null_genitive': 4, 'myself_coordinate_subjects': 2, 'drop_aux_wh': 1, 'me_coordinate_subjects': 1, 'got_gotten': 1, 'subord_conjunction_doubling': 1, 'standing_stood': 1})\n",
      "Counter({'yall': 2561, 'mass_noun_plurals': 2498, 'regularized_plurals': 2371, 'demonstrative_for_definite_articles': 2233, 'uninflect': 1956, 'double_modals': 1674, 'progressives': 1488, 'zero_plural': 1396, 'null_relcl': 1380, 'drop_copula_be_NP': 1336, 'indef_one': 1322, 'referential_thing': 1241, 'proximal_distal_demonstratives': 1198, 'do_tense_marker': 1175, 'generalized_third_person_s': 1129, 'plural_to_singular_human': 1095, 'for_to': 1045, 'aint_before_main': 938, 'bare_past_tense': 928, 'negative_concord': 887, 'possessives_for_pre': 838, 'past_for_past_participle': 838, 'drop_aux_be_progressive': 814, 'clefting': 783, 'acomp_focusing_like': 736, 'shadow_pronouns': 602, 'drop_copula_be_AP': 586, 'regularized_past_tense': 573, 'aint_be': 571, 'double_comparative': 550, 'bare_perfect': 542, 'plural_interrogative': 498, 'null_referential_pronouns': 495, 'past_been': 494, 'em_subj_pronoun': 429, 'linking_relcl': 428, 'no_gender_distinction': 358, 'participle_past_tense': 346, 'irrealis_be_done': 330, 'anaphoric_it': 311, 'fixin_future': 275, 'relativizer_doubling': 243, 'completive_have_done': 243, 'who_what': 231, 'drop_aux_yn': 229, 'completive_done': 224, 'corr_conjunction_doubling': 219, 'those_them': 217, 'drop_copula_be_locative': 216, 'say_complementizer': 208, 'future_sub_gon': 201, 'your_you': 195, 'drop_aux_have': 193, 'inverted_indirect_question': 185, 'finna_future': 183, 'their_they': 180, 'to_infinitive': 180, 'their_them': 172, 'she_inanimate_objects': 167, 'aint_have': 167, 'more_much': 157, 'existential_it': 143, 'relativizer_where': 141, 'analytic_superlative': 140, 'were_was': 138, 'if_would': 138, 'existential_there': 137, 'double_superlative': 128, 'will_would': 127, 'reflex_number': 123, 'present_modals': 111, 'who_at': 108, 'zero_plural_after_quantifier': 106, 'his_he': 104, 'our_us': 102, 'regularized_reflexives': 99, 'who_which': 98, 'preposition_chopping': 85, 'it_dobj': 84, 'flat_adj_for_adv': 80, 'for_to_pupose': 80, 'chaining_main_verbs': 77, 'too_sub': 65, 'conditional_were_was': 46, 'zero_degree': 45, 'be_perfect': 44, 'degree_adj_for_adv': 43, 'invariant_tag_non_concord': 38, 'synthetic_superlative': 36, 'simple_past_for_present_perfect': 31, 'comparative_as_to': 30, 'negative_inversion': 22, 'that_infinitival_subclause': 21, 'come_future': 20, 'never_negator': 15, 'what_comparative': 15, 'comparative_more_and': 14, 'present_for_neutral_future': 13, 'it_is_referential': 9, 'existential_got': 9, 'emphatic_reflex': 9, 'comparative_than': 8, 'invariant_tag_can_or_not': 6, 'got_gotten': 6, 'null_genitive': 6, 'subord_conjunction_doubling': 4, 'me_coordinate_subjects': 4, 'analytic_whose_relativizer': 2, 'standing_stood': 2, 'that_resultative_past_participle': 2})\n"
     ]
    }
   ],
   "source": [
    "# flat rules_incresed_tox\n",
    "rules_increased_tox_flat = [item for sublist in rules_increased_tox for item in sublist]\n",
    "rules_decreased_tox_flat = [item for sublist in rules_decreased_tox for item in sublist]\n",
    "# count rules_increased_tox\n",
    "rules_increased_tox_count = Counter(rules_increased_tox_flat)\n",
    "rules_decreased_tox_count = Counter(rules_decreased_tox_flat)\n",
    "print(rules_increased_tox_count)\n",
    "print(rules_decreased_tox_count)"
   ]
  },
  {
   "cell_type": "code",
   "execution_count": 154,
   "metadata": {},
   "outputs": [],
   "source": []
  },
  {
   "cell_type": "code",
   "execution_count": null,
   "metadata": {},
   "outputs": [],
   "source": []
  },
  {
   "cell_type": "code",
   "execution_count": null,
   "metadata": {},
   "outputs": [],
   "source": []
  },
  {
   "cell_type": "code",
   "execution_count": 155,
   "metadata": {},
   "outputs": [],
   "source": [
    "# extract increase degree of the first ten documents\n",
    "increase_degree = increase_degree\n",
    "\n",
    "# extract rules applied on the first ten documents \n",
    "documents = rules_increased_tox\n",
    "\n",
    "# Join the tokens into a single string for each document\n",
    "documents = [' '.join(doc) for doc in documents]\n",
    "\n",
    "# Create an instance of CountVectorizer\n",
    "vectorizer = CountVectorizer()\n",
    "\n",
    "# Learn the vocabulary dictionary and return term-document matrix\n",
    "X = vectorizer.fit_transform(documents)\n",
    "\n",
    "# Convert the matrix to a DataFrame\n",
    "df = pd.DataFrame(X.toarray(), columns=vectorizer.get_feature_names_out())\n"
   ]
  },
  {
   "cell_type": "code",
   "execution_count": 157,
   "metadata": {},
   "outputs": [
    {
     "name": "stdout",
     "output_type": "stream",
     "text": [
      "[0.009089769999999997, 0.03801739999999998, 0.00883510999999998, 0.014341570000000026, 0.04134330000000003, 0.04895963999999997, 0.002359570000000033, 0.01148884, 0.01001668, 0.035991159999999967, 0.016348769999999957, 0.0037847400000000087, 0.004738200000000026, 0.011696490000000004, 0.0019580099999999545, 0.0017992600000000247, 0.004525940000000062, 0.0010606279999999975, 0.02809222, 0.03726505999999996, 0.010727270000000066, 0.017664999999999986, 0.006862099999999982, 0.012755699999999981, 0.021856190000000053, 0.023967599999999978, 0.019393839999999996, 0.011336669999999993, 0.06810551999999992, 0.03530679999999997, 0.05605959999999999, 0.03359924999999997, 0.018657900000000005, 0.009476350000000022, 0.014845500000000067, 0.024875480000000005, 0.017735129999999988, 0.01400828000000004, 0.01571559999999994, 0.06324106000000007, 0.0007421719999999993, 0.037605, 0.07237009999999999, 0.00844986999999997, 0.022033359999999946, 0.010848329999999962, 0.02090852999999998, 0.027689189999999975, 0.01180449, 0.02131702000000002, 0.010147559999999944, 0.0006259100000000073, 0.0007070850000000031, 0.04856464999999999, 0.06318064000000001, 0.04441526000000007, 0.009674609999999972, 0.04672896000000004, 0.015931219999999996, 0.050426239999999956, 0.04533742000000002, 0.0038008399999999998, 0.005889159999999949, 0.010210880000000006, 0.002876939999999939, 0.028536969999999995, 0.046070000000000055, 0.002994180000000013, 0.03478822999999999, 0.002359649999999991, 0.005031049999999926, 0.016640239999999973, 0.013699499999999976, 0.006128071000000002, 0.02776034000000005, 0.0012212799999999913, 0.08322998000000001, 0.023747000000000074, 0.031834200000000035, 0.011813679999999993, 0.03672051000000004, 0.012073759999999989, 0.019251000000000018, 0.0007135700000000522, 0.006412799999999996, 0.02872834000000002, 0.026833470000000026, 0.010928500000000008, 0.03059723999999997, 0.03367266000000002, 0.014786259999999996, 0.005031049999999926, 0.02744603000000001, 0.015805159999999985, 0.02192997000000002, 0.011739429999999995, 0.04541227000000002, 0.007424949999999986, 0.014394879999999999, 0.02426924999999991, 0.04401749999999993, 0.006510799999999928, 0.00725275000000003, 0.020197719999999975, 0.01329619999999998, 0.06607527000000002, 0.01778405000000005, 0.10959205, 0.007726190000000022, 0.05143343999999994, 0.0005389399999999878, 0.004896940000000016, 0.04570445000000001, 0.019459049999999978, 0.0036364999999999315, 0.010012350000000003, 0.006780269999999977, 0.11446454, 0.011807860000000003, 0.013014729999999974, 0.011833399999999994, 0.03644648, 0.017653099999999977, 0.005499130000000019, 0.03860867000000001, 0.003616510000000017, 0.022352859999999974, 0.07283201, 0.001936139999999975, 0.03986278999999998, 0.01571559999999994, 0.062340300000000015, 0.014892099999999964, 0.010534930000000053, 0.04895963999999997, 0.007257959999999952, 0.011908299999999983, 0.0031264300000000134, 0.01155509999999993, 0.030813230000000025, 0.043925099999999995, 0.009885000000000033, 0.005337999999999954, 0.005543290000000034, 0.027764529999999954, 0.0025858500000000006, 0.005386539999999995, 0.001438489999999959, 0.038830069999999994, 0.011908299999999983, 0.010012350000000003, 0.006971869999999991, 0.010534930000000053, 0.033170879999999986, 0.05929913999999997, 0.02903553999999997, 0.003313339999999998, 0.005241259999999914, 0.01403173999999996, 0.017945504999999994, 0.030003009999999997, 0.01521729999999999, 0.011833399999999994, 0.017075810000000025, 0.011064930000000028, 0.005499130000000019, 0.01995935999999998, 0.002876939999999939, 0.026878950000000013, 0.010344599999999926, 0.012737160000000025, 0.00646283999999997, 0.01001668, 0.025093240000000017, 0.10101649999999995, 0.031157140000000028, 0.04058200000000001, 0.0075635300000000405, 0.005174400000000023, 0.02898020000000001, 0.010196030000000023, 0.03152199999999994, 0.0013379599999999991, 0.028388784000000007, 0.02814393999999998, 0.08632060000000003, 0.0058923200000000064, 0.0029183000000000403, 0.009491640000000023, 0.006929300000000027, 0.045865939999999994, 0.04835518, 0.03329458999999996, 0.006315999999999988, 0.0035331200000000007, 0.005937799999999993, 0.06918731, 0.042230659999999975, 0.013283799999999957, 0.094947316, 0.06916229000000002, 0.028548439999999897, 0.00020667000000000602, 0.018815819999999983, 0.023514300000000044, 0.0035393499999999967, 0.014209859999999963, 0.01585981000000003, 0.0028800499999999674, 0.006828930000000011, 0.033362800000000026, 0.015805159999999985, 0.0029183000000000403, 0.018396200000000085, 0.00748705999999999, 0.004391400000000045, 0.01697464999999998, 0.019444359999999994, 0.020293000000000005, 0.011248999999999953, 0.06578065, 0.013240215999999999, 0.00523336000000002, 0.04979195, 0.042802569999999984, 0.0007135700000000522, 0.04897386000000001, 0.013695369999999985, 0.031300969999999984, 0.0075635300000000405, 0.17734563999999997, 0.01039799999999999, 0.024977760000000016, 0.005031049999999926, 0.0047381499999999965, 0.0013265000000000082, 0.028813100000000036, 0.004738200000000026, 0.010534930000000053, 0.06991920000000007, 0.008384093999999995, 0.024085400000000035, 0.012480799999999959, 0.012273599999999996, 0.001574069999999983, 0.00573661999999997, 0.030850860000000035, 0.006140240000000019, 0.023142739999999995, 0.044845450000000064, 0.02012444000000002, 0.016504310000000022, 0.03537652000000002, 0.015265830000000036, 0.01778405000000005, 0.004734479999999985, 0.03818916999999994, 0.007809339999999998, 0.07584745000000004, 0.00531355, 0.04917157, 0.007702515000000007, 0.009502099999999986, 0.03805191000000002, 0.00480214000000001, 0.0039066899999999904, 0.03314035999999998, 0.02934321000000001, 0.03016953, 0.05192076000000001, 0.008004699999999976, 0.004287629999999987, 0.016362020000000033, 0.009121180000000062, 0.034601150000000025, 0.014600659999999932, 0.0037006299999999825, 0.001079159999999968, 0.005048700000000017, 0.011248999999999953, 0.017433350000000014, 0.019439839999999986, 0.03060143999999998, 0.03758788000000002, 0.006703599999999921, 0.009121180000000062, 0.005768059999999964, 0.06319816999999994, 0.020010670000000008, 0.0647299, 0.006412869999999904, 0.043081499999999995, 0.046756699999999984, 0.0007913959999999998, 0.08098205999999997, 0.017713539999999972, 0.05137365999999999, 0.021952640000000023, 0.0036378599999999928, 0.030813230000000025, 0.011416430000000033, 0.03021815, 0.010534930000000053, 0.007375789999999993, 0.001026240000000067, 0.044783620000000024, 0.01930455000000003, 0.045408859999999995, 0.0275281, 0.012847300000000006, 0.09533529999999996, 0.004319420000000018, 0.018811220000000017, 0.019658779999999987, 0.060414786, 0.0013379599999999991, 0.01756413000000001, 0.020216860000000003, 0.0664846, 0.00731097, 0.0036378599999999928, 0.10707633, 0.021983099999999922, 0.027037619999999984, 0.010250049999999983, 0.00375540000000002, 0.015233129999999984, 0.009633370000000085, 0.008206250000000082, 0.010424290000000003, 0.01531630000000006, 0.015023079999999966, 0.0038889679999999996, 0.008658665999999995, 0.009121119999999983, 0.07566323999999996, 0.20201950000000002, 0.11472406000000002, 0.006753169999999975, 0.0046980000000000355, 0.0038295500000000704, 0.005397800000000008, 0.02651482999999999, 0.005173509999999992, 0.01406847, 0.012273599999999996, 0.03030899999999999, 0.023004460000000004, 0.06428724000000008, 0.002876939999999939, 0.00143844999999998, 0.029263970000000028, 0.00859588, 0.0005102399999999951, 0.018484180000000017, 0.004287629999999987, 0.003465990000000002, 0.010889939999999987, 0.009043750000000017, 0.02225096999999998, 0.05675093999999997, 0.015034740000000046, 0.002771649999999959, 0.10127916999999997, 0.005031049999999926, 0.006753169999999975, 0.0028671000000000113, 0.007677379999999956, 0.00989627999999998, 0.023608480000000043, 0.006703599999999921, 0.006554260000000006, 0.058496979999999976, 0.006487189999999976, 0.04278489000000002, 0.004093060000000037, 0.02018350000000002, 0.00900734000000003, 0.04074237000000003, 0.012714349999999985, 0.009374750000000098, 0.025992619999999994, 0.010877399999999982, 0.03310953999999999, 0.0031264300000000134, 0.030360449999999983, 0.020213099999999984, 0.005518299999999976, 0.0015918700000000507, 0.007306529999999922, 0.003626100000000021, 0.0165613, 0.028256759999999992, 0.0038295500000000704, 0.016508539999999988, 0.033267749999999985, 0.011340940000000077, 0.016068399999999983, 0.008234920000000034, 0.03150699999999995, 0.0012295800000000079, 0.006655300000000031, 0.017765699999999995, 0.004105660000000011, 0.036891149999999984, 0.017935269999999948, 0.016336970000000006, 0.030361015999999998, 0.010885939999999983, 0.06896380000000002, 0.040463999999999944, 0.006510799999999928, 0.02932334999999997, 0.003849400000000003, 0.025532699999999964, 0.020529690000000045, 0.02710196000000001, 0.020243330000000004, 0.0545312, 0.023899699999999968, 0.02131702000000002, 0.029208200000000017, 0.026252759999999986, 0.007461310000000054, 0.03794763000000001, 0.05515129000000002, 0.0015982999999999414, 0.02889128999999996, 0.01446223000000002, 0.006455029999999973, 0.005031049999999926, 0.027834000000000025, 0.04940506, 0.016318300000000008, 0.04567664399999999, 0.03691750000000005, 0.03759837999999999, 0.02767782999999996, 0.03496603999999992, 0.006380339999999984, 0.028696539999999993, 0.027050740000000018, 0.009433599999999986, 0.005451700000000059, 0.011613599999999946, 0.01225757999999999, 0.008004699999999976, 0.028192580000000023, 0.08996879999999996, 0.012173600000000007, 0.0013374699999999518, 0.03818916999999994, 0.002374169999999995, 0.012862870000000026, 0.028892539999999967, 0.002876939999999939, 0.02264810000000006, 0.009486039999999973, 0.006929300000000027, 0.07455800000000001, 0.06182264999999998, 0.24727849000000002, 0.005937799999999993, 0.05165054000000002, 0.0026401499999999523, 0.025796599999999947, 0.004596054999999998, 0.012448667999999996, 0.02062744999999999, 0.03493175999999998, 0.019282900000000047, 0.049907459999999904, 0.025432799999999978, 0.08106302999999998, 0.04062516000000005, 0.004105660000000011, 0.011248999999999953, 0.008562899999999929, 0.022489189999999992, 0.009097130000000009, 0.007534550000000029, 0.21584488, 0.011416430000000033, 0.008994359999999979, 0.04135317000000005, 0.03284295999999998, 0.005889240000000018, 0.011443885, 0.005889159999999949, 0.03758788000000002, 0.012684030000000068, 0.0007135700000000522, 0.01041976, 0.03932970000000002, 0.051132650000000016, 0.00037556999999999174, 0.012450139999999998, 0.008324689999999968, 0.0022938000000000125, 0.02280853000000005, 0.006703599999999921, 0.006828930000000011, 0.0494213, 0.06028654, 0.018811220000000017, 0.015159900000000004, 0.012103499999999934, 0.03192431000000007, 0.011163460000000014, 0.06492086000000002, 0.06813939999999996, 0.015598450000000041, 0.01741586000000006, 0.11851624, 0.01129104000000003, 0.02039784, 0.01918691, 0.06975569999999998, 0.002454869999999998, 0.009332534999999996, 0.014540730000000002, 0.026898140000000015, 0.02872834000000002, 0.007834950000000007, 0.04140066000000009, 0.000513140000000023, 0.010685060000000024, 0.05410349999999997, 0.09896869999999991, 0.020557559999999975, 0.020479000000000025, 0.0026414100000000107, 0.005499130000000019, 0.006140240000000019, 0.02509986000000003, 0.005198979999999992, 0.006154780000000026, 0.04826005000000001, 0.040423390000000003, 0.013860170000000005, 0.0005808999999999953, 0.016451500000000063, 0.0770342, 0.006296990000000002, 0.0047381499999999965, 0.0028853000000000073, 0.030813230000000025, 0.06040003999999999, 0.010837999999999959, 0.040805040000000015, 0.04603094000000002, 0.029117029999999988, 0.030259992, 0.03850504999999993, 0.006835156999999998, 0.0029381299999999833, 0.05025370000000001, 0.012389499999999998, 0.011698429999999982, 0.04526134999999998, 0.0055397399999999875, 0.05331785, 0.008418650000000028, 0.007382349999999982, 0.015426780000000029, 0.03179035000000008, 0.01129104000000003, 0.06645555, 0.03415999000000003, 0.22791836000000001, 0.023123579999999977, 0.0042704000000000075, 0.031807940000000035, 0.04810320000000001, 0.005218859999999936, 0.04331613999999995, 0.042471690000000006, 0.008919850000000062, 0.014460040000000007, 0.010283350000000024, 0.02225095000000002, 0.005469637999999999, 0.12823728, 0.0494213, 0.008571779999999973, 0.022583520000000024, 0.007686799999999994, 0.004029959999999999, 0.008408360000000004, 0.0023074499999999887, 0.005671360000000014, 0.0015492599999999968, 0.009484959999999987, 0.03070576, 0.012862870000000026, 0.03332721999999999, 0.009111270000000005, 0.003958246999999998, 0.004422099999999984, 0.030381659999999977, 0.0063822000000000045, 0.01847539999999992, 0.03551960000000004, 0.01337737, 0.030661739999999993, 0.019951900000000022, 0.013283799999999957, 0.03127357000000003, 0.017008030000000007, 0.02027829999999997, 0.003849400000000003, 0.0042478499999999975, 0.008058399999999966, 0.006771809999999934, 0.12376874999999998, 0.0047381499999999965, 0.022880759999999944, 0.038800329999999994, 0.0007135700000000522, 0.0037847400000000087, 0.013728300000000027, 0.010037269999999987, 0.009638150000000012, 0.023548059999999982, 0.00526127000000004, 0.0018503300000000111, 0.012173600000000007, 0.014975699999999925, 0.016278899999999985, 0.005391000000000035, 0.01021354999999996, 0.018146899999999966, 0.027764529999999954, 0.021557819999999978, 0.012562750000000011, 0.010710589999999964, 0.013619229999999982, 0.022758630000000002, 0.008932249999999975, 0.014173800000000014, 0.06207609999999997, 0.01423580000000002, 0.0042704000000000075, 0.006730499999999973, 0.03127357000000003, 0.0039010999999999907, 0.01017174000000004, 0.009491640000000023, 0.00561155999999996, 0.0004896999999999818, 0.028892539999999967, 0.001886700000000019, 0.008199400000000079, 0.0011562299999999803, 0.028892539999999967, 0.009425699999999981, 0.06581086999999997, 0.1147988, 0.00957320000000006, 0.01101165000000004, 0.11933756000000001, 0.010283350000000024, 0.010806969999999999, 0.007306529999999922, 0.12265654000000001, 0.006354100000000029, 0.020331100000000046, 0.003958870000000059, 0.03339396, 0.01291078000000001, 0.0015982999999999414, 0.006703599999999921, 0.01059930000000009, 0.020013659999999933, 0.005768059999999964, 0.05447943999999999, 0.003267380000000014, 0.00445993999999994, 0.06396899999999994, 0.0011797799999999636, 0.005889159999999949, 0.009963399999999956, 0.033829429999999994, 0.014003549999999976, 0.010320799999999963, 0.005206849999999985, 0.024456439999999968, 0.09930929, 0.017718869999999998, 0.04754003000000001, 0.03668253999999993, 0.0028671000000000113, 0.04883473999999999, 0.017664999999999986, 0.02944570000000002, 0.008127930000000005, 0.04255459, 0.004360360000000001, 0.051116125999999984, 0.012850030999999998, 0.020624699999999996, 0.0010722000000000786, 0.06765252999999993, 0.13630525000000004, 0.030299189999999976, 0.052638880000000055, 0.0036063200000000517, 0.020197719999999975, 0.03095355999999999, 0.04474993999999999, 0.023004460000000004, 0.0031264300000000134, 0.02411770999999996, 0.006686950000000025, 0.014210999999999974, 0.017601499999999937, 0.005937799999999993, 0.036435500000000065, 0.025365599999999988, 0.03223198999999999, 0.006655300000000031, 0.009121180000000062, 0.0016048200000000068, 0.05565299999999995, 0.013407019999999992, 0.009503539999999977, 0.06324106000000007, 0.06240289999999998, 0.014904660000000014, 0.022414360000000022, 0.006753169999999975, 0.02630815000000003, 0.009963399999999956, 0.023967599999999978, 0.023295540000000003, 0.0007127399999999895, 0.09073193999999996, 0.013819870000000012, 0.12069108999999995, 0.02830286000000004, 0.015596199999999949, 0.007726190000000022, 0.05135184000000004, 0.027333809999999986, 0.011431009999999964, 0.030525875999999993, 0.013048769999999987, 0.07710618000000002, 0.00936576, 0.00857522999999999, 0.04318573999999997, 0.05290418000000008, 0.01648814999999998, 0.007738899999999993, 0.016327330000000084, 0.07625013, 0.010344599999999926, 0.008058599999999916, 0.04379627, 0.0036364999999999315, 0.0423346, 0.03751384000000002, 0.0040129000000000414, 0.003942069999999992, 0.08332128999999999, 0.019918710000000006, 0.03794763000000001, 0.046786439999999985, 0.005451700000000059, 0.017080340000000027, 0.00375540000000002, 1.6999999999989246e-05, 0.0015492599999999968, 0.03289222000000003, 0.024832049999999994, 0.004744540000000019, 0.06359946000000005, 0.014826600000000023, 0.022627740000000007, 0.09009744000000003, 0.007951730000000046, 0.004013889999999992, 0.015198530000000043, 0.011340940000000077, 0.00713256000000001, 0.04325736000000002, 0.006873999999999991, 0.08175765999999995, 0.013109870000000023, 0.004568899999999987, 0.020386910000000036, 0.07868353, 0.08363135999999999, 0.02139974, 0.011783840000000045, 0.022380650000000002, 0.02424733999999995, 0.09677944999999999, 0.009954550000000006, 0.0046363799999999955, 0.002030640000000028, 0.00036485999999991137, 0.015098399999999956, 0.006354100000000029, 0.01329619999999998, 0.008165460000000069, 0.004896820000000024, 0.00014590000000003212, 0.006927580000000044, 0.005199000000000009, 0.05836433000000002, 0.011725119999999978, 0.030844079999999996, 0.018569700000000022, 0.010413719999999987, 0.03587019999999996, 0.08261867, 0.012255470000000018, 0.010323629999999973, 0.02489577999999998, 0.027166030000000008, 0.004105660000000011, 0.0014589100000000355, 0.023608480000000043, 0.06716644000000005, 0.0020360299999999665, 0.030747579999999997, 0.0387632, 0.03590380000000004, 0.009346900000000019, 0.09201863999999998, 0.00014590000000003212, 0.030173329999999943, 0.019951900000000022, 0.03765254000000007, 0.04427150000000002, 0.006768400000000008, 0.04064076999999999, 0.05392145999999998, 0.03010182, 0.0012021000000000392, 0.02309690999999997, 0.005518299999999976, 0.012944789999999984, 0.0015918700000000507, 0.016993880000000017, 0.024822089999999963, 0.0033742800000000073, 0.005042840000000048, 0.004206050000000017, 0.009963399999999956, 0.004744540000000019, 0.03227612999999996, 0.015002799999999983, 0.03303731999999998, 0.003958870000000059, 0.014255999999999991, 0.03686707, 0.03420772999999999, 0.006104620000000005, 0.06248620000000005, 0.03687514000000003, 0.008669280000000001, 0.0028271899999999933, 0.006520570000000059, 0.013154390000000071, 0.00649540000000004, 0.018268700000000027, 0.027638433000000004, 0.025796599999999947, 0.011267950000000027, 0.01521729999999999, 0.008919800000000033, 0.017103079999999937, 0.03670113, 0.012173600000000007, 0.02339131, 0.01659638000000002, 0.01301125000000003, 0.05259328999999999, 0.04428143000000001, 0.0011797799999999636, 0.01779189999999997, 0.03492995999999998, 0.033610609999999985, 0.0076124899999999995, 0.008206250000000082, 0.025913059999999988, 0.0023074499999999887, 0.03254699999999999, 0.01521729999999999, 0.01499963999999998, 0.01170759999999993, 0.025951599999999964, 0.0017957399999999346, 0.036137500000000045, 0.00494813999999999, 0.03687514000000003, 0.008020099999999974, 0.006154780000000026, 0.0046980000000000355, 0.03248856999999994, 0.06396899999999994, 0.025519579999999986, 0.04830262000000002, 0.018004770000000003, 0.09136134999999998, 0.016068399999999983, 0.000514950000000014, 0.09365371, 0.0023074499999999887, 0.015167509999999995, 0.017006859999999985, 0.01531630000000006, 0.016327330000000084, 0.006520570000000059, 0.019670129999999952, 0.03173270000000006, 0.004744540000000019, 0.003651599999999977, 0.005104440000000016, 0.0046980000000000355, 0.02669936000000006, 0.008206250000000082, 0.03616234000000007, 0.06580209999999997, 0.007974979999999965, 0.005596999999999963, 0.006510799999999928, 0.03592312999999997, 0.004744540000000019, 0.058635259999999995, 0.03085428000000001, 0.012735350000000034, 0.10081984, 0.00445993999999994, 0.0545322, 0.013427149999999943, 0.04402713999999999, 0.032236299999999996, 0.01129104000000003, 0.0011562299999999803, 0.12060753999999996, 0.03947155000000002, 0.0354546, 0.014077360000000039, 0.011925949999999963, 0.012450139999999998, 0.00465637999999996, 0.005818259999999964, 0.03684369999999998, 0.03727876000000001, 0.007576840000000029, 0.041588389999999975, 0.011739429999999995, 0.031788099999999986, 0.0025998999999999883, 0.005442590000000004, 0.014904660000000014, 0.10656309000000003, 0.00494813999999999, 0.04863426999999998, 0.03475795999999998, 0.018761850000000024, 0.041930400000000034, 0.010791900000000076, 0.0025599000000000594, 0.008839629999999987, 0.00883510999999998, 0.02772544999999993, 0.005391000000000035, 0.07301403000000001, 0.030405819999999917, 0.004034699999999947, 0.028418269999999968, 0.03586197000000002, 0.03394442, 0.00851339000000001, 0.007068740000000018, 0.05484330000000004, 0.06599908999999998, 0.026183999999999985, 0.0007724499999999801, 0.00569063000000003, 0.005889240000000018, 0.05474637999999998, 0.019951900000000022, 0.018657900000000005, 0.04745321999999996, 0.009332510000000016, 0.031252979999999986, 0.051733699999999994, 0.0020360299999999665, 0.04042249999999992, 0.025432799999999978, 0.006929300000000027, 0.14553861999999995, 0.047521679999999955, 0.06391349999999996, 0.021252539999999986, 0.006046287000000004, 0.010807210000000067, 0.0027081999999999384, 0.006455439999999979, 0.0009896600000000033, 0.042139289999999996, 0.03830705000000001, 0.01839421, 0.009885000000000033, 0.029875600000000002, 0.03675103000000002, 0.027381990000000023, 0.041898959999999985, 0.026388060000000046, 0.0038543899999999853, 0.02993867, 0.026578600000000008, 0.04177112999999999, 0.01245563999999999, 0.006412799999999996, 0.059542772, 0.015796299999999985, 0.004167709999999991, 0.01857844, 0.0036378599999999928, 0.017351870000000047, 0.016094449999999982, 0.04054749999999996, 0.006140240000000019, 0.025660919999999976, 0.028429949999999926, 0.005671360000000014, 0.024146, 0.013600459999999981, 0.03901379999999999, 0.014173800000000014, 0.0056209500000000134, 0.012704309999999996, 0.031164239999999954, 0.012737160000000025, 0.020529690000000045, 0.028429949999999926, 0.06428724000000008, 0.01999055999999999, 0.04258490000000004, 0.05672520000000003, 0.0020360299999999665, 0.020211490000000054, 0.03256377999999999, 0.030977350000000015, 0.023972260000000023, 6.799999999973494e-06, 0.02630600000000005, 0.0843718, 0.031329510000000005, 0.007329970000000019, 0.02630600000000005, 0.01301125000000003, 0.028860799999999992, 0.003626100000000021, 0.03010067999999999, 0.009557600000000055, 0.01423580000000002, 0.014460040000000007, 0.012037039999999999, 0.031788099999999986, 0.03675103000000002, 0.01995479999999994, 0.025365599999999988, 0.031788099999999986, 0.0010761900000000324, 0.023525530000000017, 0.02311019999999997, 0.014904660000000014, 0.0012295800000000079, 0.020211490000000054, 0.02949164999999998, 0.018929419999999975, 0.0033843699999999144, 0.007205909999999982, 0.04417169999999998, 0.012004499999999974, 0.012461480000000025, 0.0036364999999999315, 0.001224549999999991, 0.013316019999999984, 0.014439969999999969, 0.005451700000000059, 0.0023074499999999887, 0.017535930000000033, 0.04224810000000001, 0.06041888000000001, 0.02932665999999995, 0.0008677400000000057, 0.010488427000000002, 0.013476740000000015, 0.006455439999999979, 0.0032581100000000918, 9.310000000001262e-05, 0.030884699999999987, 0.013540869999999983, 0.007306529999999922, 0.005671360000000014, 0.0039010999999999907, 0.027960800000000008, 0.004539420000000016, 0.01403173999999996, 0.0006777700000000081, 0.06844404000000004, 0.0010333760000000025, 0.023988430000000005, 0.0023118699999999937, 0.012755699999999981, 0.020529690000000045, 0.007694420000000035, 0.013670419999999961, 0.011565359999999969, 0.03302126, 0.029263970000000028, 0.034893330000000056, 0.011925949999999963, 0.025483469999999953, 0.023374929999999905, 0.01342388, 0.035591430000000035, 0.02165144999999999, 0.004137400000000013, 0.03379217000000001, 0.007164259999999978, 0.04005415000000001, 0.0005166800000000055, 0.025281219999999993, 0.014861230000000003, 0.054310209999999914, 0.0034996999999999945, 0.004709240000000003, 0.01861443000000007, 0.020299820000000024, 0.12778605999999998, 0.008309300000000075, 0.025238899999999953, 0.0005389399999999878, 0.0011632799999999888, 0.01059930000000009, 0.009633370000000085, 0.03808849999999997, 0.006412799999999996, 0.037322579999999994, 0.04408173999999998, 0.005596999999999963, 0.0023074499999999887, 0.004644809999999999, 0.013379649999999993, 0.008892459999999991, 0.008004699999999976, 0.0004713900000000021, 0.05184109999999997, 0.10343548999999999, 0.009121119999999983, 0.05035255999999999, 0.01170759999999993, 0.06315364000000001, 0.14253479000000002, 0.08569326, 0.011347529999999995, 0.02004826999999998, 0.00725275000000003, 0.03124173000000008, 0.03465604999999994, 0.012735350000000034, 0.005031049999999926, 0.02998769000000001, 0.02203763999999997, 0.02479970000000009, 0.015805159999999985, 0.03619402999999999, 0.01337737, 0.0455238, 0.004651700000000036, 0.01569267000000002, 0.01905140000000005, 0.004431507000000001, 0.023590430000000023, 0.10279246, 0.0389432999999999, 0.0009896600000000033, 0.0038228499999999888, 0.04489466, 0.0019147500000000761, 0.054293780000000014, 0.005889159999999949, 0.0165613, 0.05664419999999998, 0.00014425000000001242, 0.029181810000000002, 0.0015955699999999906, 0.06568426999999999, 0.005218859999999936, 0.014904660000000014, 0.011086579999999957, 0.022859030000000002, 0.05448295999999997, 0.024442949999999963, 0.010199669999999994, 0.06939370000000006, 0.0076650899999999855, 0.028192370000000022, 0.00026530000000002385, 0.018914359999999963, 0.04054340000000001, 0.04566397999999999, 0.04733831000000005, 0.0039010999999999907, 0.0031837000000000115, 0.04408173999999998, 0.0039010999999999907, 0.0007070859999999991, 0.00748705999999999, 0.006154780000000026, 0.015023079999999966, 0.012704309999999996, 0.005889159999999949, 0.041295700000000046, 0.09336490000000008, 0.006941920000000004, 0.04393750000000002, 0.05555188999999999, 0.03647487999999999, 0.024536370000000085, 0.018997629999999988, 0.03672922000000001, 0.02442379, 0.013208530000000052, 0.04065009999999997, 0.00797665000000003, 0.017860079999999945, 0.0015894099999999023, 0.0019147500000000761, 0.023721839999999994, 0.07728590000000002, 0.039071089999999975, 0.08133353999999993, 0.030096180000000028, 0.01646930000000002, 0.01918691, 0.0008267039999999976, 0.010762250000000001, 0.0005102499999999344, 0.005962950000000022, 0.032391559999999986, 0.02054297999999999, 0.07416880000000003, 0.03666246000000006, 0.008771130000000016, 0.004928700000000008, 0.001374199999999992, 0.07940781999999996, 0.007686799999999994, 0.01669796000000001, 0.0010721999999999676, 0.019410240000000023, 0.0013374699999999518, 0.023514300000000044, 0.012735350000000034, 0.0055655600000000804, 0.01839226000000005, 0.01669796000000001, 0.05479580000000006, 0.015467130000000051, 0.008199400000000079, 0.017653099999999977, 0.011231670000000027, 0.0556894, 0.009121180000000062, 0.0012021000000000392, 0.013864499999999946, 0.013014729999999974, 0.0047381499999999965, 0.001591800000000032, 0.004928700000000008, 0.49490852, 0.08784201000000003, 0.03016953, 0.03377042999999999, 0.010491760000000017, 0.024536370000000085, 0.005497864999999998, 0.012369525, 0.007306529999999922, 0.0047381499999999965, 0.029616839999999978, 0.012389499999999998, 0.04613992, 0.0025998999999999883, 0.010885939999999983, 0.0018503300000000111, 0.007534550000000029, 0.056608729999999996, 0.022598889999999983, 0.0014885399999999827, 0.03666246000000006, 0.005119859999999976, 0.003958870000000059, 0.03666246000000006, 0.034601150000000025, 0.001591800000000032, 0.00445993999999994, 0.01036019999999993, 0.06255842, 0.037863489999999944, 0.014975699999999925, 0.0039066899999999904, 0.013046149999999979, 0.02651482999999999, 0.06409343999999995, 0.008919800000000033, 0.06360775000000002, 0.029263970000000028, 0.0035331200000000007, 0.017013999999999974, 0.0099186, 0.004167489999999996, 0.0012051600000000384, 0.01059930000000009, 0.12252229000000003, 0.011183429999999994, 0.005818259999999964, 0.049985290000000016, 0.04025404999999999, 0.015522068, 0.006140240000000019, 0.02685000000000004, 0.023004460000000004, 0.03996920000000004, 0.017364539999999984, 0.033833529999999945, 0.00036485999999991137, 0.013427149999999943, 0.03363839999999996, 0.034258960000000005, 0.01851629999999993, 0.006104620000000005, 0.0032581100000000918, 0.013482539999999987, 0.011340940000000077, 0.0026401499999999523, 0.002226513999999999, 0.007068740000000018, 0.048828299999999936, 0.010424290000000003, 0.01374815000000007, 0.01850430000000003, 0.010196030000000023, 0.018988499999999964, 0.010604730000000007, 0.022725830000000002, 0.013942499999999969, 0.047579609999999994, 0.023348850000000004, 0.002876939999999939, 0.008252129999999996, 0.04845076000000001, 0.00036485999999991137, 0.03907710000000009, 0.0019147999999999943, 0.006651459999999998, 0.0029381299999999833, 0.010511669999999973, 0.00011784600000000131, 0.04088077999999998, 0.016939900000000008, 0.008932249999999975, 0.00047139100000000156, 0.0165613, 0.0076650899999999855, 0.018766229999999995, 0.025432799999999978, 0.07545334000000001, 0.04791146000000002, 0.003901200000000049, 0.01789233999999995, 0.01368419000000004, 0.03016953, 0.04215180000000002, 0.001367649999999998, 0.005937799999999993, 0.028519180000000033, 0.00445993999999994, 0.01739352999999999, 0.04006893999999994, 0.004351680000000024, 0.030855491999999998, 0.014985020000000016, 0.005937799999999993, 0.017584109999999986, 0.009767199999999976, 0.003667929999999986, 0.015658420000000006, 0.020403459999999984, 0.041950180000000004, 0.04657156000000007, 0.01138306, 0.01978025, 0.03173270000000006, 0.0037006299999999825, 0.01839226000000005, 0.00531355, 0.0010721999999999676, 0.014903, 0.00531355, 0.09965217000000004, 0.003942786000000004, 0.06636332, 0.005218859999999936, 0.024045969999999972, 0.011888379999999976, 0.002940940000000003, 0.012004499999999974, 0.007698719999999992, 0.006412869999999904, 0.01813609999999999, 0.015176350000000005, 0.14051277, 0.030965240000000005, 0.08776993, 0.07295814000000006, 0.01155510000000004, 0.019410240000000023, 0.023030930000000005, 0.030822000000000016, 0.032619419999999955, 0.01363542000000001, 0.004422099999999984, 0.06838149999999998, 0.014903, 0.011445700000000003, 0.012074980000000013, 0.008990439999999933, 0.005016630000000077, 0.034285740000000064, 0.0165613, 0.015233129999999984, 0.0007294700000000098, 0.015994989999999987, 0.0022910999999999904, 0.004928700000000008, 0.04791146000000002, 0.008127930000000005, 0.023965769999999997, 0.05479580000000006, 0.01363542000000001, 0.052722686, 0.0004467300000000063, 0.007698719999999992, 0.012704309999999996, 0.022525499999999976, 0.008004699999999976, 0.0023074499999999887, 0.027733940000000068, 0.006412799999999996, 0.029541669999999964, 0.010870349999999918, 0.05222110000000002, 0.02809879999999998, 0.040516830000000004, 0.005016630000000077, 0.04671976, 0.059155569999999935, 0.00224951000000001, 0.08125990999999999, 0.038731700000000036, 0.005198979999999992, 0.01101165000000004, 0.00718768000000003, 0.08114646000000003, 0.010807210000000067, 0.055329646, 0.005660160000000025, 0.0013374699999999518, 0.006164520000000007, 0.045469239999999966, 0.00961217999999997, 0.01985790000000004, 0.006377849999999963, 0.02718140999999999, 0.01051370000000007, 0.04031646, 0.004185339999999926, 0.016068399999999983, 0.03571615, 0.0005102499999999344, 0.011163460000000014, 0.023447990000000085, 0.012074980000000013, 0.008058399999999966, 0.025322869999999997, 0.13630525000000004, 0.02080660000000001, 0.011803289999999994, 0.01669796000000001, 0.004977270000000034, 0.005173509999999992, 0.04003045000000002, 0.023972260000000023, 0.03737641, 0.0013816999999999302, 0.014783209999999936, 0.001886700000000019, 0.059028639999999966, 0.049635923, 0.018993393999999997, 0.09826932999999999, 0.012737160000000025, 0.021557819999999978, 0.01602904000000005, 0.029541669999999964, 0.03616234000000007, 0.03907710000000009, 0.012388379999999977, 0.017756669999999974, 0.04210900000000001, 0.03643763999999999, 0.00989627999999998, 0.0023595599999999828, 0.04931226, 0.022961539999999947, 0.02333636, 0.014144050000000075, 0.017143330000000012, 0.021369269999999996, 0.0024739049999999985, 0.023775660000000032, 0.006977659999999997, 0.005386539999999995, 0.00494813999999999, 0.003616510000000017, 0.010320799999999963, 0.04065009999999997, 0.004748349999999998, 0.039459969999999955, 0.07943820000000001, 0.007953829999999995, 0.012833349999999966, 0.035843599999999975, 0.0844263999999999, 0.016318300000000008, 0.05837199999999998, 0.08331, 0.008301559999999986, 0.042230659999999975, 0.04632494999999992, 0.06971422999999999, 0.015596199999999949, 0.017150489999999963, 0.04831805, 0.021952640000000023, 0.00531355, 0.01096416, 0.03303731999999998, 0.006709159999999992, 0.05814543999999999, 0.0037108579999999974, 0.0522532, 0.0010722000000000786, 0.012971319999999953, 0.0010722000000000786, 0.0057625700000000085, 0.022033359999999946, 0.02426924999999991, 0.00357567999999997, 0.024907000000000012, 0.01461610000000002, 0.012550799999999973, 0.04362454000000002, 0.08436917999999999, 0.006937320000000025, 0.07227212999999999, 0.010848329999999962, 0.007505229999999974, 0.001374199999999992, 0.001374239999999971, 0.005708200000000052, 0.001026240000000067, 0.00811240000000002, 0.009998669999999987, 0.03661459999999994, 0.006331130000000004, 0.07508271999999999, 0.00569063000000003, 0.0007143000000000566, 0.006703599999999921, 0.07059580000000004, 0.039144820000000025, 0.009390950000000009, 0.009476350000000022, 0.016816880000000034, 0.006966870000000014, 0.01683329999999994, 0.005391000000000035, 0.00531355, 0.0014885399999999827, 0.020529690000000045, 0.004287640000000037, 0.01531630000000006, 0.006768400000000008, 0.011813679999999993, 0.02418240000000005, 0.0036749000000000365, 0.03335147999999999, 0.038833090000000015, 0.011715859999999967, 0.008505129999999972, 0.0007294400000000256, 0.021952640000000023, 0.011833399999999994, 0.006703599999999921, 0.00561155999999996, 0.004573638000000005, 0.024174968000000005, 0.03458760000000005, 0.012970150000000014, 0.014899179999999998, 0.01019958999999998, 0.014903, 0.014394879999999999, 0.00146099999999999, 0.015334639999999955, 0.006520570000000059, 0.12652386000000004, 0.01636435, 0.0389432999999999, 0.006651459999999998, 0.028944849999999966, 0.03238383, 0.016451500000000063, 0.020115969999999983, 0.025796599999999947, 0.03069398000000001, 0.09470403000000005, 0.004338704999999998, 0.02447330999999997, 0.022035959999999966, 0.0010722000000000786, 0.01563523, 0.0013374699999999518, 0.05154997, 0.01813609999999999, 0.14455619999999997, 0.003651599999999977, 0.004975000000000007, 0.03167869000000001, 3.379999999997274e-06, 0.011099100000000028, 0.013364619999999994, 0.004459860000000093, 0.025078570000000022, 0.09027331999999999, 0.01488777999999999, 0.01692446999999997, 0.0190766, 0.02364349999999993, 0.001033375000000003, 0.018569700000000022, 0.025651069999999998, 0.07273913999999998, 0.027050740000000018, 0.01598668000000003, 0.047728749999999986, 0.01949993, 0.008892459999999991, 0.019553680000000018, 0.01598714999999995, 0.008411277000000002, 0.003958870000000059, 0.048995916, 0.012654939999999976, 0.02004826999999998, 0.00014425000000001242, 0.0014885399999999827, 0.03146683, 0.007909399999999955, 0.012461480000000025, 0.023004460000000004, 0.04045569999999998, 0.0015918700000000507, 0.052343189999999984, 0.0059092299999999875, 0.008789660000000032, 0.01329619999999998, 0.020801319999999957, 0.06500745000000002, 0.013716430000000002, 0.013884940000000012, 0.05187335999999998, 0.023004460000000004, 0.015516909999999995, 0.0005102399999999951, 0.12123155999999996, 0.05721582999999997, 0.01794359999999995, 0.010830579999999979, 0.005889159999999949, 0.08262689999999995, 0.051255649999999986, 0.026868400000000014, 0.01374815000000007, 0.029616839999999978, 0.006520570000000059, 0.013109870000000023, 0.034099999999999964, 0.010870349999999918, 0.0018600660000000074, 0.005386539999999995, 0.008004699999999976, 0.06548052999999998, 0.0036364999999999315, 0.025881399999999943, 0.00024739199999999906, 0.006992169999999992, 0.0012051600000000384, 0.04296749, 0.05529565999999997, 0.028394370000000002, 0.012704309999999996, 0.04288750000000008, 0.019829600000000003, 0.008575270000000024, 0.01779189999999997, 0.01837957000000001, 0.0005689199999999728, 0.006482600000000005, 0.08436917999999999, 0.0033843699999999144, 0.020557559999999975, 0.006753169999999975, 0.009633370000000085, 0.01813609999999999, 0.018655800000000056, 0.0031837000000000115, 0.031051386, 0.01423580000000002, 0.0036364999999999315, 0.04486102000000003, 0.02447330999999997, 0.012211200000000089, 0.00569063000000003, 0.033799599999999985, 0.003901200000000049, 0.03687514000000003, 0.007428029999999974, 0.005241259999999914, 0.00020406000000006141, 0.015549050000000009, 0.014051530000000034, 0.006510799999999928, 0.009633370000000085, 0.00143844999999998, 0.051260823, 0.01546184000000006, 0.010534930000000053, 0.040553240000000046, 0.0013786600000000315, 0.005391000000000035, 0.02514011000000005, 0.023757990000000007, 0.043026480000000034, 0.03447782999999993, 0.015467130000000051, 0.10636887, 0.04887422999999996, 0.015623399999999954, 0.006858699999999995, 0.028565839999999953, 0.015825509999999987, 0.045357260000000066, 0.015805159999999985, 0.007327729999999977, 0.043196830000000075, 0.07820479999999996, 0.06583349999999999, 0.014144050000000075, 0.04766196999999994, 0.01598714999999995, 0.008677396000000004, 0.03666246000000006, 0.027733940000000068, 0.023795599999999972, 0.0031837000000000115, 0.0007143000000000566, 0.006128071000000002, 0.006033359999999988, 0.0015492599999999968, 0.016318300000000008, 0.05380556999999997, 0.003901200000000049, 0.017433350000000014, 0.04555679999999998, 0.04806998999999995, 0.018246140000000022, 0.002599489999999982, 0.00780230000000004, 0.026459760000000054, 0.005117700000000003, 0.01598714999999995, 0.008838565, 0.017016560000000014, 0.00780230000000004, 0.024146, 0.017008030000000007, 0.04134654999999998, 0.0013463499999999962, 0.01301125000000003, 0.02903553999999997, 0.0009896600000000033, 0.013113600000000059, 0.01133655999999994, 0.061955859999999974, 0.000721339999999987, 0.01418047, 0.004907349999999977, 0.01757770000000003, 0.004029959999999999, 0.0023118699999999937, 0.08626559999999994, 0.013014729999999974, 0.0063638000000000305, 0.008687099999999948, 0.030300409999999944, 0.009354629999999975, 0.03626753000000005, 0.14200344999999992, 0.005518299999999976, 0.010569486999999995, 0.005708200000000052, 0.011416430000000033, 0.004744540000000019, 0.025796599999999947, 0.03732097000000001, 0.02178057, 0.0009896600000000033, 0.004904479999999989, 0.006673309999999988, 0.007068740000000018, 0.005016630000000077, 0.032236299999999996, 0.03029134, 0.010511669999999973, 0.015791940000000004, 0.007424393999999997, 0.00357567999999997, 0.00043387000000000286, 0.015508359999999999, 0.016831400000000052, 0.04212130000000003, 0.01301125000000003, 0.0014255399999999474, 0.01779189999999997, 0.005889159999999949, 0.06107952, 0.000433869999999989, 0.003901200000000049, 0.029979270000000002, 0.010710589999999964, 0.007306529999999922, 0.005045420000000023, 0.0030623100000000125, 0.0030637300000000423, 0.01954684000000001, 0.009963399999999956, 0.009043750000000017, 0.003651599999999977, 0.040564619999999996, 0.005391000000000035, 0.021983099999999922, 0.017373880000000008, 0.02017566000000004, 0.0015492599999999968, 0.008782049999999986, 0.12431246999999995, 0.019836549999999953, 0.057636800000000044, 0.05349769999999998, 0.0039536000000000016, 0.023548059999999982, 0.005662089999999953, 0.003471219999999997, 0.002940940000000003, 0.005388449999999989, 0.02351236000000001, 0.05580225999999999, 0.013521499999999964, 0.00439139999999999, 0.005119859999999976, 0.020529690000000045, 0.01499963999999998, 0.03260247999999999, 0.052098100000000036, 0.001374239999999971, 0.008206250000000082, 0.040463999999999944, 0.00569063000000003, 0.08526217000000003, 0.060794070000000006, 0.007359859999999996, 0.023452669999999953, 0.04791146000000002, 0.008077799999999996, 0.01779189999999997, 0.017013999999999974, 0.013587450000000001, 0.033362800000000026, 0.021369269999999996, 0.07447813999999997, 0.0048344000000000165, 0.01761201000000001, 0.025506970000000018, 0.009286459999999996, 0.008004699999999976, 0.010848329999999962, 0.005962950000000022, 0.028077920000000034, 0.019793129999999992, 0.034856560000000036, 0.0128256699999999, 0.024755339999999987, 0.004098800000000069, 0.016939900000000008, 0.005218859999999936, 0.01888919, 0.027702299999999985, 0.05080724000000003, 0.031067200000000073, 0.005962950000000022, 0.004609160000000001, 0.12215679999999995, 0.07586011999999998, 0.014186829999999984, 0.010012350000000003, 0.003771120999999999, 0.020953599999999906, 0.07576442, 0.11557016000000003, 0.06579104000000002, 0.024086949999999996, 0.05421049999999994, 0.004947808000000005, 0.014815210000000023, 0.02426924999999991, 0.05330726000000008, 0.00291783000000001, 0.004391400000000045, 0.006412869999999904, 0.008199400000000079, 0.004907349999999977, 0.0019147999999999943, 0.08105185000000004, 0.015257939999999914, 0.0005663100000000143, 0.04288750000000008, 0.016664599999999974, 0.02274013000000008, 0.012704309999999996, 0.007812320000000039, 0.009557600000000055, 0.015805159999999985, 0.056321259999999984, 0.023721839999999994, 0.06022285999999999, 0.006140240000000019, 0.01957454999999997, 0.008919850000000062, 0.011275860000000026, 0.02503686999999999, 0.002451089999999989, 0.0013786600000000315, 0.009091200000000021, 0.015596199999999949, 0.0025599599999999167, 0.02012351000000001, 0.024442949999999963, 0.008717260000000004, 0.008004699999999976, 0.04622351999999996, 0.006455340000000032, 0.0010722000000000786, 0.018729039999999975, 0.08229805000000001, 0.010791900000000076, 0.005016630000000077, 0.0037515799999999766, 0.031121460000000045, 0.02493024999999993, 0.009491640000000023, 0.001653404000000011, 0.019821664000000003, 0.01701238999999999, 0.03124173000000008, 0.08133353999999993, 0.01096048999999999, 0.030075300000000027, 0.017348130000000017, 0.00048415999999995574, 0.018242300000000045, 0.036137500000000045, 0.006970699999999996, 0.015133799999999975, 0.010473500000000024, 0.07550875999999995, 0.025093240000000017, 0.04606849999999996, 0.0031655699999999926, 0.01756228000000004, 0.012461480000000025, 0.017713539999999972, 0.014803160000000037, 0.004316050000000016, 0.01613310000000001, 0.006154780000000026, 0.0004896999999999818, 0.006010530000000014, 0.00494813999999999, 0.0010722000000000786, 0.004342900000000038, 0.0008753500000000525, 0.006140240000000019, 0.006412799999999996, 0.007035199999999964, 0.01986536, 0.0011562299999999803, 0.009476350000000022, 0.03174656000000001, 0.03451894, 0.03414310000000004, 0.08991194999999996, 0.012684030000000068, 0.016831400000000052, 0.03152199999999994, 0.01995479999999994, 0.004459860000000093, 0.0015982999999999414, 0.001374199999999992, 0.025365599999999988, 0.002359570000000033, 0.002708580000000016, 0.09177396000000004, 0.005548700000000073, 0.04065009999999997, 0.03301909999999997, 0.07696193000000001, 0.01537021999999999, 0.017676970000000014, 0.005518299999999976, 0.002876939999999939, 0.005596999999999963, 0.003105219999999964, 0.048177940000000086, 0.00957320000000006, 0.01861443000000007, 0.025796599999999947, 0.005818259999999964, 0.04478503, 0.03173063000000004, 0.02998769000000001, 0.04575779999999996, 0.014341570000000026, 0.049971370000000015, 0.0004467300000000063, 0.021952640000000023, 0.004729449999999968, 0.01598668000000003, 0.03340254000000009, 0.018607159999999956, 0.016451500000000063, 0.011955099999999996, 0.01685685, 0.01531630000000006, 0.012627300000000008, 0.00531355, 0.011296860000000075, 0.016895969999999982, 0.025819140000000074, 0.011896200000000023, 0.018649609999999983, 0.030813230000000025, 0.005119859999999976, 0.36327207000000006, 0.010037269999999987, 0.05304863999999998, 0.06844404000000004, 0.023822800000000033, 0.009734269999999934, 0.0009896600000000033, 0.004459860000000093, 0.040533560000000024, 0.03348816999999993, 0.008127930000000005, 0.0039010999999999907, 0.011547352999999996, 0.02737328, 0.015623399999999954, 0.009558079999999969, 0.016353190000000017, 0.01839226000000005, 0.06434129, 0.010848329999999962, 0.006414840000000033, 0.043102710000000044, 0.00601236000000005, 0.03379485000000004, 0.009153443999999997, 0.0036378599999999928, 0.004098800000000069, 0.058499100000000026, 0.04666570000000003, 0.04949463999999992, 0.012557970000000002, 0.01041976, 0.031121460000000045, 0.01076525000000006, 0.36507623, 0.01692446999999997, 0.02509986000000003, 0.0047853500000000215, 0.018004770000000003, 0.06505785000000003, 0.038258019999999976, 0.015497860000000002, 0.014101256, 0.026575569999999993, 0.021976899999999966, 0.02776706000000001, 0.019870019999999988, 0.04453430000000003, 0.007898179999999977, 0.005962950000000022, 0.03087128, 0.035470699999999966, 0.036700629999999956, 0.09026915000000002, 0.03450893999999993, 0.012704309999999996, 0.011613599999999946, 0.0013463499999999962, 0.06345391, 0.021952640000000023, 0.002634880000000006, 0.018672519999999998, 0.017653099999999977, 0.07793930000000004, 0.005889159999999949, 0.005285439999999975, 0.004775102999999999, 0.02415586000000003, 0.028565839999999953, 0.03110679999999999, 0.01301125000000003, 0.00844986999999997, 0.042428010000000016, 0.00867809, 0.04478503, 0.005889159999999949, 3.22400000000167e-05, 0.03364750000000005, 0.01129104000000003, 0.034948919999999994, 0.006655300000000031, 0.020776420000000018, 0.033867750000000085, 0.00020406000000006141, 0.02080660000000001, 0.04505455000000001, 0.02139974, 0.006679542000000004, 0.015538510000000005, 0.015002799999999983, 0.006213959999999963, 0.06207609999999997, 0.016068399999999983, 0.0155362, 0.04845076000000001, 0.00023569600000000052, 0.021148080000000014, 0.013265660000000012, 0.001026240000000067, 0.024582400000000004, 0.0025998999999999883, 0.012522729999999982, 0.005285439999999975, 0.046786439999999985, 0.050320319999999974, 0.016327330000000084, 0.011296860000000075, 0.018766229999999995, 0.008020099999999974, 0.0455238, 0.03060143999999998, 0.0005102399999999951, 0.020213099999999984, 0.004744540000000019, 0.05176086000000002, 0.06548916000000005, 0.0015918700000000507, 0.003901200000000049, 0.03457054000000004, 0.008127930000000005, 0.035278980000000015, 0.006193389999999965, 0.07678944999999998, 0.015233129999999984, 0.04895963999999997, 0.009097980000000006, 0.059097672, 0.04221873999999998, 0.02214875000000005, 0.011196730000000044, 0.0033843699999999144, 0.013807820000000026, 0.013209869999999957, 0.0010721999999999676, 0.025886209999999965, 0.013670419999999961, 0.0015918700000000507, 0.02004826999999998, 0.02080660000000001, 0.0007724499999999801, 0.03786109999999998, 0.004734479999999985, 0.0255185, 0.09082905000000008, 0.021601199999999987, 0.005810800000000005, 0.010870349999999918, 0.05319934999999998, 0.015576729999999983, 0.0027142199999999894, 0.016367200000000026, 0.03898204999999999, 0.03180289000000003, 0.024813539999999967, 0.00143844999999998, 0.005349199999999943, 0.0011797900000000139, 0.09316084000000002, 0.005689982000000003, 0.005031049999999926, 0.020197719999999975, 0.012215899999999946, 0.05749985999999996, 0.029270569999999996, 0.08841295999999998, 0.0019147999999999943, 0.031164239999999954, 0.012532629999999989, 0.0016964189999999994, 0.009690100000000035, 0.024442839999999966, 0.03892874000000002, 0.03647487999999999, 0.040284070000000005, 0.04355918999999997, 0.021260539999999994, 0.00375540000000002, 0.012215499999999935, 0.02019470000000001, 0.022525499999999976, 0.017013999999999974, 0.04023873, 0.02185210999999998, 0.002876939999999939, 0.0099186, 0.11823065999999999, 0.0009896600000000033, 0.011340940000000077, 0.009633370000000085, 0.0030637300000000423, 0.03284295999999998, 0.003958870000000059, 0.09151423000000003, 0.030003009999999997, 0.016864129999999977, 0.0011562299999999803, 0.030844079999999996, 0.0165613, 0.0328444699999999, 0.012735350000000034, 0.027490790000000098, 0.03395683999999999, 0.055694740000000076, 0.003849400000000003, 0.012550799999999973, 0.0077370700000000125, 0.0033843699999999144, 0.06922486, 0.03195073000000004, 0.04940506, 0.0015492599999999968, 0.042230659999999975, 0.03274654999999993, 0.03980855999999999, 0.03012018999999999, 0.05813945000000001, 0.07173989999999997, 0.07110273, 0.02098314000000001, 0.012923499999999977, 0.009121180000000062, 0.020213099999999984, 0.011887670000000017, 0.013014729999999974, 0.003901200000000049, 0.07649526000000001, 0.07145162999999999, 0.0034231999999999596, 0.0010722000000000786, 0.0047381499999999965, 0.032447000000000004, 0.0030637300000000423, 0.06948152999999996, 0.08419032999999998, 0.05640670000000003, 0.052638880000000055, 0.0036378599999999928, 0.06135214, 0.008004699999999976, 0.014204980000000006, 0.012968780000000013, 0.00564758999999998, 0.014892099999999964, 0.058502910000000075, 0.02285358999999998, 0.02311019999999997, 0.007834950000000007, 0.018729060000000075, 0.008919850000000062, 0.02949164999999998, 0.006828930000000011, 0.02941480000000002, 0.019362860000000093, 0.012737160000000025, 0.05127499999999999, 0.024977760000000016, 0.021881999999999957, 0.05497518000000001, 0.0345782, 0.0165613, 0.10887703999999998, 0.009998669999999987, 0.03127357000000003, 0.010837819999999998, 0.010125059999999964, 0.004342900000000038, 0.006412799999999996, 0.005302559999999956, 0.031894199999999984, 0.05522713999999995, 0.04459488, 0.025254600000000016, 0.003606329999999991, 0.0048344000000000165, 0.012550799999999973, 0.05171669999999995, 0.011248999999999953, 0.0190766, 0.010604730000000007, 0.017433350000000014, 0.03553192999999999, 0.021784579999999998, 0.026459760000000054, 0.0036441579999999998, 0.08137228999999996, 0.04456254000000001, 0.018004770000000003, 0.009885000000000033, 0.04817547999999999, 0.0685366, 0.022725190000000006, 0.03251381999999997, 0.009066450000000004, 0.029647919999999994, 0.06655962000000004, 0.08159042999999999, 0.03786109999999998, 0.002359570000000033, 0.043443239999999994, 0.012971319999999953, 0.038513940000000024, 0.09792340999999999, 0.0015079269999999992, 0.003616510000000017, 0.008818700999999998, 0.01757770000000003, 0.036393430000000004, 0.03616234000000007, 0.02192997000000002, 0.04149904999999998, 0.01403173999999996, 0.009885000000000033, 0.005768059999999964, 0.02685000000000004, 0.03796052, 0.006140240000000019, 0.008888099999999954, 0.0001033299999999987, 0.034801250000000006, 0.025330699999999984, 0.04184242000000005, 0.001076149999999998, 0.011079479999999989, 0.05774712999999998, 0.001224549999999991, 0.07817269999999998, 0.06951421999999996, 0.029839799999999972, 0.03684122000000001, 0.03367266000000002, 0.04140066000000009, 0.0001256619999999986, 0.016640239999999973, 0.02793699999999999, 0.12001693999999996, 0.049472740000000015, 0.002076170000000044, 0.03348816999999993, 0.030120639999999976, 0.024492259999999932, 0.014210999999999974, 0.040943839999999954, 0.01101165000000004, 0.019578929999999994, 0.0018847399999999959, 0.05051956000000002, 0.016654490000000077, 0.011296860000000075, 0.00037556999999999174, 0.011955099999999996, 0.0004467300000000063, 0.020557559999999975, 0.06711754000000003, 0.0345782, 0.014904660000000014, 0.0004467300000000063, 0.001591800000000032, 0.0032997299999999972, 0.008018570000000003, 0.020488409999999957, 0.076685, 0.034547209999999995, 0.023831380000000013, 0.011340940000000077, 0.026024189999999947, 0.018453839999999944, 0.01995935999999998, 0.020213099999999984, 0.0013816999999999302, 0.017175459999999976, 0.0015311799999999653, 0.03485561000000004, 0.03461734999999999, 0.0017957399999999346, 0.006412799999999996, 0.0023123999999999922, 0.0005131000000000441, 0.010848329999999962, 0.003901200000000049, 0.08951288000000002, 0.005527779999999982, 0.0076650899999999855, 0.021833439999999982, 0.0028020500000000004, 0.008350100000000027, 0.01499963999999998, 0.001746089999999978, 0.010721307999999999, 0.007789080000000004, 0.004907349999999977, 0.003710854999999999, 0.044003899999999985, 0.005386539999999995, 0.004952679999999987, 0.048377840000000005, 0.005386539999999995, 0.013109870000000023, 0.04694321000000001, 0.04807064000000005, 0.03173367000000005, 0.04189286999999997, 0.05171669999999995, 0.00037556999999999174, 0.01155509999999993, 0.022525499999999976, 0.004316050000000016, 0.11024482999999996, 0.025322869999999997, 0.0007127999999999579, 0.013117219999999985, 0.0025998999999999883, 0.013728300000000027, 0.0013860199999999878, 0.008926779999999968, 0.022525499999999976, 0.005662089999999953, 0.004700417999999998, 0.004781449999999965, 0.015040700000000018, 0.0013265000000000082, 0.07207180000000002, 0.01155509999999993, 0.058974269999999995, 0.03763224999999998, 0.007240059999999993, 0.03997083000000001, 0.025951599999999964, 0.021952640000000023, 0.061813750000000056, 0.001156170000000012, 0.04736277, 0.009557600000000055, 0.007257959999999952, 0.018063162, 0.013651930000000034, 0.013331259999999956, 0.12928704999999996, 0.018188239999999967, 0.009491640000000023, 0.010399500000000006, 0.08225360000000004, 0.038731700000000036, 0.014803909999999976, 0.0017192799999999897, 0.03498886999999995, 0.017008030000000007, 0.0007135700000000522, 0.033307790000000004, 0.06342853000000004, 0.018529500000000032, 0.01683329999999994, 0.025944020000000012, 0.025483469999999953, 0.025432799999999978, 0.043710709999999986, 0.004316050000000016, 0.016094449999999982, 0.020331100000000046, 0.020776420000000018, 0.017600659999999935, 0.025254600000000016, 0.057356660000000004, 0.004528140000000014, 0.006412799999999996, 0.022639809999999982, 0.07722572999999999, 0.08029512, 0.016640239999999973, 0.020458790000000004, 0.008562899999999929, 0.000513140000000023, 0.02678625999999995, 0.0165613, 0.054997519999999994, 0.0077370700000000125, 0.039170600000000055, 6.44800000000334e-05, 0.013014729999999974, 0.011296860000000075, 0.07041159999999996, 0.02590397, 0.0036364999999999315, 0.0032717699999999517, 0.036609840000000005, 0.02059261000000001, 3.0599999999991745e-05, 0.11775630000000004, 0.05981380000000003, 0.004131969999999985, 0.014168349999999996, 0.005285439999999975, 0.010885939999999983, 0.0025599000000000594, 0.002277360000000006, 0.0128256699999999, 0.028587469999999948, 3.22400000000167e-05, 0.01660341999999998, 0.002163970000000015, 0.004907349999999977, 0.023514300000000044, 0.03123910000000002, 0.0042794700000000005, 0.030381659999999977, 0.03221759999999996, 0.019951900000000022, 0.011503099999999988, 0.049472740000000015, 0.00812256999999994, 0.00014425000000001242, 0.02703015000000003, 0.02062744999999999, 0.012923499999999977, 0.0010761899999999769, 0.002708580000000016, 0.0013786600000000315, 0.01521729999999999, 0.019951900000000022, 0.028581919999999983, 0.04591450999999999, 0.0034996999999999945, 0.04006893999999994, 0.02503955000000002, 0.07215350000000004, 0.029168499999999986, 0.006147950000000013, 0.0034712400000000143, 0.023972260000000023, 0.03008825000000004, 0.020115969999999983, 0.025432799999999978, 0.04189286999999997, 0.0033843699999999144, 0.044374450000000065, 0.01155510000000004, 0.013924359999999997, 0.05095523000000002, 0.05047495000000002, 0.0020548300000000075, 0.003923609999999994, 0.005662089999999953, 0.08578862999999992, 0.01285151000000001, 0.025483469999999953, 0.034362840000000006, 0.02557870000000001, 0.03976177000000003, 0.012480799999999959, 0.00357567999999997, 0.001886700000000019, 0.004738200000000026, 0.029329550000000038, 0.005451700000000059, 0.012352720000000011, 0.007798489999999991, 0.004158039999999974, 0.05040728, 0.029206460000000045, 0.008411271999999997, 0.012532629999999989, 0.00012516000000001304, 0.01841313999999994, 0.026833470000000026, 0.08522496000000002, 0.02564379, 0.0550756, 0.006110649999999995, 0.027894980000000014, 0.010837999999999959, 0.023030930000000005, 0.018569700000000022, 0.002634880000000006, 0.002150580000000013, 0.01329619999999998, 0.0031911299999999865, 0.01480906999999998, 0.008004699999999976, 0.12372462499999999, 0.011275860000000026, 0.0016048200000000068, 0.020269199999999987, 0.0015894099999999023, 0.006771809999999934, 0.004977270000000034, 0.0015918700000000507, 0.002068689999999984, 0.010980869999999976, 0.059823000000000015, 0.00494813999999999, 0.028715800000000014, 0.04737981999999999, 0.017448780000000053, 0.026479099999999978, 0.025078570000000022, 0.005768059999999964, 0.00531355, 0.018453839999999944, 0.040952199999999994, 0.005962999999999941, 0.025144390000000016, 0.024536370000000085, 0.03060322999999998, 0.02424733999999995, 0.026036630000000005, 0.01363542000000001, 0.025365599999999988, 0.022743469999999988, 0.0165613, 0.0053025700000000064, 0.00566013999999998, 0.014750900000000011, 0.00036485999999991137, 0.02061966999999998, 0.06573391000000006, 0.058908499999999975, 0.054310209999999914, 0.02315520999999998, 0.010791900000000076, 0.022602439999999974, 0.06105130999999997, 0.02590397, 0.03871740000000001, 0.01850430000000003, 0.004342900000000038, 0.00036485999999991137, 0.035076459999999976, 0.04966376, 0.020269199999999987, 0.0015492599999999968, 0.06232855999999998, 0.010637790000000001, 0.003951329999999975, 0.03192431000000007, 0.03568694, 0.06683223999999999, 0.0005389399999999878, 0.009332510000000016, 0.0026530000000000165, 0.0004467300000000063, 0.028813100000000036, 0.006771809999999934, 0.10698301000000005, 0.026216099999999964, 0.00531355, 0.0017354759999999997, 0.02211787999999998, 0.007726190000000022, 0.019179224999999994, 0.005344640000000012, 0.020216860000000003, 0.0030245500000000147, 0.031114640000000027, 0.018612760000000006, 0.0016048200000000068, 0.007306529999999922, 0.0029356999999999855, 0.03087850999999997, 0.0646833, 0.0039536000000000016, 0.01056390000000007, 0.015990300000000013, 0.004199210000000009, 0.0009896600000000033, 0.003651599999999977, 0.012215899999999946, 0.03619402999999999, 0.0005145100000000236, 0.014077360000000039, 0.032297640000000016, 0.016320940000000006, 0.012103499999999934, 0.006975830000000016, 0.011198370000000013, 0.021983099999999922, 0.01076525000000006, 0.00864564000000001, 0.008919800000000033, 0.0007135700000000522, 0.005913559999999984, 0.05014307999999999, 0.052391040000000055, 0.0190766, 0.046910883, 0.055929280000000026, 0.02512375, 0.03168309999999999, 0.035996079999999986, 0.0007135700000000522, 0.03869810000000007, 0.0013860299999999826, 0.024582400000000004, 0.039426059999999985, 0.014200400000000002, 0.01170759999999993, 0.0036525499999999766, 0.010147559999999944, 0.036609840000000005, 0.051405919999999994, 0.0012051600000000384, 0.0015982999999999414, 0.003958870000000059, 0.03765254000000007, 0.004911780000000032, 0.009803649999999997, 0.01925513000000001, 0.005889240000000018, 0.00989627999999998, 0.02811312999999993, 0.016864129999999977, 0.03522136999999999, 0.017735129999999988, 0.03485561000000004, 0.03479633000000004, 0.01155510000000004, 0.21253965000000002, 0.015699510000000028, 0.003901200000000049, 0.047034080000000034, 0.014144050000000075, 0.026900820000000047, 0.00570594999999996, 0.03140029, 0.017150500000000013, 0.026291799999999976, 0.013847059999999994, 0.005388449999999989, 0.043633895000000006, 0.006717500000000043, 0.012617769999999973, 0.002925879999999992, 0.0015918299999999608, 0.005030209999999979, 0.01337737, 0.02264810000000006, 0.02830286000000004, 0.018815819999999983, 0.06579104000000002, 0.00291783000000001, 0.005962999999999941, 0.020704130000000043, 0.029246060000000018, 0.011955099999999996, 0.008040180000000008, 0.0015918299999999608, 0.04296507000000005, 0.01692446999999997, 0.02585700000000002, 0.06773182999999999, 0.006929300000000027, 0.047234090000000006, 0.04587176999999998, 0.0048344000000000165, 0.006703599999999921, 0.0336514, 0.0015918700000000507, 0.02534597999999999, 0.005596999999999963, 0.01155509999999993, 0.0664846, 0.02630600000000005, 0.015257939999999914, 0.045310840000000074, 0.009118160000000042, 0.01995296999999996, 0.0020360299999999665, 0.0007143000000000566, 0.034956969999999976, 0.004422099999999984, 0.0556894, 0.00811240000000002, 0.0066415699999999855, 0.0017992800000000142, 0.030819339999999973, 0.048437300000000016, 0.0009427800000000007, 0.08991194999999996, 0.006975830000000016, 0.00030719999999995196, 0.010882900000000029, 0.02326320000000001, 0.02105461999999997, 0.03451894, 0.006977659999999997, 0.030103800000000014, 0.0165613, 0.0020996000000000348, 0.013521499999999964, 0.09722256000000001, 0.01598668000000003, 0.025210699999999975, 0.024537600000000048, 0.015265830000000036, 0.01521729999999999, 0.009168350000000047, 0.028236099999999986, 0.14280726, 0.011695049999999985, 0.021685540000000003, 0.006717500000000043, 0.00566013999999998, 0.00207982000000001, 0.00045191999999999455, 0.02087027999999999, 0.005391000000000035, 0.007659350000000009, 0.005818259999999964, 0.0427419, 0.0007294699999999543, 0.037647490000000006, 0.050337450000000006, 0.0015918700000000507, 0.03601544000000001, 0.005889159999999949, 0.03758788000000002, 0.009690100000000035, 0.020216860000000003, 0.020488409999999957, 0.07471344000000002, 0.015009149999999999, 0.11741374000000004, 0.04408173999999998, 0.010241630000000002, 0.006447439999999971, 0.03284295999999998, 0.12715516, 0.0423346, 0.006164520000000007, 0.0030818600000000473, 0.005889240000000018, 0.07017399999999996, 0.0550756, 0.11555674999999999, 0.03679702999999998, 0.03587019999999996, 0.005016630000000077, 0.011416430000000033, 0.024089894000000014, 0.00471912999999996, 0.019711740000000005, 0.005768059999999964, 0.008562440000000004, 0.0005171999999999954, 0.010012350000000003, 0.0006308800000000003, 0.009633370000000085, 0.011870865000000008, 0.03850504999999993, 0.03173367000000005, 0.005427059999999928, 0.030113080000000014, 0.03942596999999992, 0.03810095000000002, 0.05192458, 0.010232980000000003, 0.002759799999999979, 0.0179512, 0.07535686, 0.021952640000000023, 0.015347630000000001, 0.023721839999999994, 0.010012350000000003, 0.02062744999999999, 0.02263113, 0.02849653000000002, 0.09265060000000003, 0.008127930000000005, 0.02556915000000004, 0.0025484599999999746, 0.023972260000000023, 0.0028671000000000113, 0.006748580000000004, 0.03124173000000008, 0.03451103, 0.014173800000000014, 0.037943840000000006, 0.005962950000000022, 0.02630815000000003, 0.0039066899999999904, 0.028425270000000058, 0.005451700000000059, 0.03284295999999998, 0.005708200000000052, 0.00760166000000001, 0.05121825000000002, 0.021856190000000053, 0.03739862999999999, 0.019701860000000015, 0.006315999999999988, 0.08253241, 0.00531355, 0.02449032999999995, 0.01166012999999999, 0.0011247699999999972, 0.03661459999999994, 0.007292569999999998, 0.02426924999999991, 0.0007127399999999895, 0.003967290000000012, 0.04403075000000001, 0.01403173999999996, 0.015338207999999999, 0.004360359000000001, 0.002003409000000001, 0.008562899999999929, 0.01650950000000001, 0.02849653000000002, 0.013331259999999956, 0.025432799999999978, 0.002651279999999978, 0.00864564000000001, 0.018396200000000085, 0.02279674999999992, 0.012480799999999959, 0.01985790000000004, 0.057930130000000024, 0.013482539999999987, 0.05439234999999998, 0.005048700000000017, 0.01957454999999997, 0.012433799999999995, 0.003651599999999977, 0.04312819999999995, 0.012470870000000023, 1.3600000000002499e-05, 0.026183999999999985, 0.0018503300000000111, 0.012627300000000008, 0.01096627, 0.009762290000000007, 0.07995929999999996, 0.012533930000000026, 0.008919800000000033, 0.02528829999999993, 0.004593500000000028, 0.016917849999999998, 0.012223840000000041, 0.018042200000000008, 0.018453839999999944, 0.03939572000000002, 0.029263970000000028, 0.004949595000000001, 0.01369929999999997, 0.04243233000000002, 0.0048111399999999915, 0.013113600000000059, 0.0011377899999999719, 0.00967773999999999, 0.010791900000000076, 0.002434504000000004, 0.0165613, 0.01374815000000007, 0.011186279999999993, 0.019321460000000013, 0.07498493000000006, 0.02132577000000002, 0.013790569999999946, 0.0030245399999999922, 0.06281080000000006, 0.06268926000000002, 0.0005663100000000143, 0.0009502000000000121, 0.0711672000000001, 0.07492463999999999, 0.0009896600000000033, 0.006455439999999979, 0.009692099999999981, 0.016502909999999982, 0.019444359999999994, 0.025519579999999986, 0.0036364999999999315, 0.010885939999999983, 0.03416358, 0.02080660000000001, 0.006354100000000029, 0.04749025999999998, 0.011739429999999995, 0.017448780000000053, 0.014460040000000007, 0.019701860000000015, 0.06281710000000007, 0.017333299999999996, 0.004738200000000026, 0.015736609999999984, 0.09654081999999997, 0.0255185, 0.024085400000000035, 0.016640239999999973, 0.01461610000000002, 0.032297640000000016, 0.008199400000000079, 0.00143844999999998, 0.028816410000000015, 0.00375540000000002, 0.0012051600000000384, 0.01056390000000007, 0.0066415699999999855, 0.07327011, 0.0015918299999999608, 0.0037847400000000087, 0.02411770999999996, 0.02921605000000005, 0.0024491300000000216, 0.04791146000000002, 0.02546434999999997, 0.0027716500000000144, 0.005031049999999926, 0.032150699999999977, 0.008234920000000034, 0.02333636, 0.010261420000000021, 0.012225849999999983, 0.04009217000000004, 0.005518299999999976, 0.05346091999999997, 0.05098828999999999, 0.010885939999999983, 0.006753169999999975, 0.027381990000000023, 0.07926743999999997, 0.012704309999999996, 0.04694463999999998, 0.045357260000000066, 0.050719440000000005, 0.005937369999999997, 0.007953829999999995, 0.005344640000000012, 0.04308882000000003, 0.028411209999999965, 0.023608480000000043, 0.006915599999999911, 0.028581919999999983, 0.13577786000000003, 0.02620003000000004, 0.016191900000000037, 0.011354350000000013, 0.019811849999999964, 0.013521499999999964, 0.01874303999999999, 0.031425199999999986, 0.004715849999999966, 0.004609160000000001, 0.006975830000000016, 0.00531355, 0.011166049999999983, 0.024442949999999963, 0.05818883999999999, 0.008350100000000027, 0.0019791239999999988, 0.004098800000000069, 0.012061099999999991, 0.03687347000000002, 0.055462819999999996, 0.03986769999999995, 0.020687200000000017, 0.03384961999999997, 0.029979270000000002, 0.04666570000000003, 0.00471912999999996, 0.061137830000000004, 0.00883510999999998, 0.02139974, 0.025432799999999978, 0.038894890000000015, 0.04406027, 0.014783209999999936, 0.014168349999999996, 0.025796599999999947, 0.08626413999999999, 0.006520570000000059, 0.005349199999999943, 0.0015955699999999906, 0.008919800000000033, 0.00646283999999997, 0.059155569999999935, 0.005596999999999963, 0.02849653000000002, 0.007891729999999986, 0.006152080000000004, 0.029349055000000013, 0.038966585000000005, 0.006633339999999988, 0.0017992599999999692, 0.047521679999999955, 0.003651599999999977, 0.013548439999999995, 0.04647563499999999, 0.005031049999999926, 0.022748409999999997, 0.005962950000000022, 0.0009896600000000033, 0.05830620000000003, 0.008345700000000011, 0.012735350000000034, 0.017230100000000026, 0.013658000000000059, 0.04861670000000007, 0.04625707999999995, 0.005988360000000026, 0.038513940000000024, 0.05522713999999995, 0.009817860000000012, 0.028602300000000025, 0.026487079999999996, 0.002195720000000012, 0.030798890000000023, 0.01395780000000002, 0.10694908999999997, 0.020467899999999983, 0.04940506, 0.0336514, 0.006412799999999996, 0.03127357000000003, 0.01133655999999994, 0.015233129999999984, 0.0247428999999999, 0.005451700000000059, 0.051860959999999984, 0.017664999999999986, 0.04288750000000008, 0.0031264300000000134, 0.038800329999999994, 0.01063691, 0.008345700000000011, 0.009089769999999997, 0.03647487999999999, 0.0056209500000000134, 0.005031049999999926, 0.0005131000000000441, 0.01291078000000001, 0.08216405999999998, 0.011416430000000033, 0.03016953, 0.005937799999999993, 0.048761400000000066, 0.02590397, 0.041465839999999976, 0.010473500000000024, 0.03140029, 0.026030800000000007, 0.003958309000000002, 0.012662260000000009, 0.01369929999999997, 0.025709689999999952, 0.0013265000000000082, 0.05152722999999998, 0.03048424000000005, 0.0010721999999999676, 0.00691451999999998, 0.011874744, 0.013482539999999987, 0.005337999999999954, 0.03551388999999999, 0.02903553999999997, 0.014783209999999936, 0.0006308800000000003, 0.006377850000000018, 0.03267169000000003, 0.12817047000000004, 0.006078659999999958, 0.004723800000000056, 0.02220422999999999, 0.01919842999999999, 0.0039536000000000016, 0.060589649999999995, 0.025757680000000005, 0.07555774999999998, 0.038513940000000024, 0.010580219999999974, 0.09788207999999998, 0.1397324000000001, 0.021013039999999927, 0.006780269999999977, 0.0015982999999999414, 0.0169976, 0.03395171999999999, 0.006447439999999971, 0.005274920000000016, 0.012737160000000025, 0.0039010999999999907, 0.01598714999999995, 0.004465760000000041, 0.025519579999999986, 0.02446269000000001, 0.025005399999999955, 0.01423580000000002, 0.045310840000000074, 0.02426924999999991, 0.02509494000000001, 0.00012516000000001304, 0.12780594999999997, 0.014233563000000005, 0.0013374699999999518, 0.033251800000000054, 0.006267499999999981, 0.01911425, 0.002940940000000003, 0.009011439999999982, 0.0165613, 0.010358069999999997, 0.03758788000000002, 0.06817675000000001, 0.009954550000000006, 0.01942084000000001, 0.010662019999999994, 0.002480139999999964, 0.0037505800000000034, 0.01700320999999999, 0.007964059999999995, 0.037618490000000004, 0.006733899999999959, 0.029018199999999994, 0.02479707999999997, 0.014903, 0.00883510999999998, 0.05603003999999995, 0.023721789999999993, 0.027853039999999996, 0.048958329999999994, 0.023899699999999968, 0.00010670000000001512, 0.0026749399999999035, 0.0060466200000000025, 0.00883510999999998, 0.00146099999999999, 0.001374199999999992, 0.004568899999999987, 0.03446460000000007, 0.011504529999999985, 0.007182389999999983, 0.017008030000000007, 0.01007526999999997, 0.03727873999999998, 0.03422588, 0.03466459999999999, 0.03944325000000004, 0.0022910999999999904, 0.036005659999999995, 0.01243519999999998, 0.005117299999999991, 0.006441680000000005, 0.017150500000000013, 0.001746089999999978, 0.00030719999999995196, 0.025052399999999975, 0.008800795, 0.00018633999999995154, 0.021833439999999982, 0.0128297, 0.03451894, 0.008505129999999972, 0.014803160000000037, 0.06909905999999999, 0.007059150000000014, 0.008020099999999974, 0.010214350000000039, 0.0034252699999999803, 0.04791146000000002, 0.033342350000000076, 0.01613310000000001, 0.003958870000000059, 0.03666246000000006, 0.003228540000000002, 0.05993789999999999, 0.012426489999999957, 0.056265209999999996, 0.02140032, 0.02811312999999993, 0.003610250000000037, 0.050788399999999956, 0.04088077999999998, 0.00812256999999994, 0.016336970000000006, 0.03525988000000002, 0.08318872999999993, 0.018801929999999994, 0.025432799999999978, 0.13140455, 0.004527900000000029, 0.018910480000000007, 0.013658000000000059, 0.005708229999999981, 0.017351870000000047, 0.008562899999999929, 0.06721771000000004, 0.011404419999999998, 0.001374239999999971, 0.004391400000000045, 0.002791890000000019, 0.023608480000000043, 0.07208053999999997, 0.00025036999999999976, 0.07449149999999999, 0.04541640000000002, 0.00030719999999995196, 0.015233129999999984, 0.005427059999999928, 0.04288750000000008, 0.014600659999999932, 0.008782769999999995, 0.011483480000000004, 0.004786640000000009, 0.04949618, 0.05209183000000006, 0.00811240000000002, 0.04490126, 0.025586740000000052, 0.003849400000000003, 0.04702929999999994, 0.004342900000000038, 0.0022111099999999884, 0.005962950000000022, 0.06467716000000001, 0.06573391000000006, 0.022897830000000008, 0.004723800000000056, 0.0004467300000000063, 0.026479099999999978, 0.020953599999999906, 0.005962950000000022, 0.0015616600000000203, 0.025432799999999978, 0.0025998999999999883, 0.0460024, 0.0015311499999999811, 0.02420321999999997, 0.027564199999999983, 0.00957320000000006, 0.04967436000000003, 0.05695433, 0.010683780000000004, 0.006269575999999999, 0.02772904000000001, 0.006508053999999999, 0.0047139, 0.018963860000000027, 0.021615839999999997, 0.022895900000000025, 0.006679543000000003, 0.006164530000000001, 0.016636819999999997, 0.010125059999999964, 0.025307440000000014, 0.02309690999999997, 0.05127499999999999, 0.02017566000000004, 0.022552720000000026, 0.07152484999999997, 0.01235797999999999, 0.01096416, 0.004928700000000008, 0.08838072000000002, 0.024538570000000037, 0.049786390000000014, 0.05872158400000001, 0.005708229999999981, 0.07627130000000004, 0.031903159999999986, 0.001026240000000067, 0.009817860000000012, 0.0007135700000000522, 0.023988430000000005, 0.03173270000000006, 0.02585700000000002, 0.016993880000000017, 0.006868900000000011, 0.05582763000000002, 0.04993966999999999, 0.0013374699999999518, 0.013200729999999994, 0.03503152999999998, 0.0011055599999999777, 0.0021444000000000463, 0.007909399999999955, 0.03515649999999998, 0.032150699999999977, 0.015002799999999983, 0.02527393999999994, 0.022417859999999956, 0.0556971, 0.009648225999999996, 0.016265299999999983, 0.0019147500000000761, 0.04329538999999999, 0.015515900000000027, 0.023447990000000085, 0.01299749, 0.005351860000000014, 0.005451700000000059, 0.0017356159999999954, 0.11901152999999998, 0.005889159999999949, 0.032313930000000046, 0.0015514999999999834, 0.010662019999999994, 0.0015918299999999608, 0.11919000999999999, 0.002559220000000001, 0.023595299999999986, 0.039822389999999985, 0.03760019999999997, 0.0014211399999999874, 0.017147414000000014, 0.0025998999999999883, 0.015233129999999984, 0.0057316599999999995, 0.0005663100000000143, 0.08548406999999997, 0.018575459999999988, 0.0030954800000000393, 0.00435540999999999, 0.011833399999999994, 0.07505613, 0.01995479999999994, 0.006841700000000006, 0.04750447999999996, 0.06317729000000005, 0.010420800000000008, 0.002137319999999998, 0.0055393499999999984, 0.021749749999999984, 0.0039010999999999907, 0.060468999999999995, 0.0013374699999999518, 0.018474429999999986, 0.002876939999999939, 0.006412869999999904, 0.03551129, 0.006408870000000011, 0.00041335099999999236, 0.05978899, 0.011768899999999971, 0.12951804000000006, 0.03456690000000007, 0.021215759999999972, 0.006828930000000011, 0.038513940000000024, 0.007060966000000002, 0.0015492599999999968, 0.0029381299999999833, 0.0031264300000000134, 0.002826519999999999, 0.022414360000000022, 0.008932249999999975, 0.0012051600000000384, 0.033594319999999955, 0.03630740000000002, 0.003554460000000037, 0.015265830000000036, 0.031894199999999984, 0.005701259999999986, 0.04017859999999995, 0.012532629999999989, 0.05514953999999994, 0.045459939999999976, 0.0022495299999999996, 0.04183110000000001, 0.02658634999999998, 0.012550799999999973, 0.011714490000000008, 0.027348150000000016, 0.03250656000000002, 0.0005689199999999728, 0.012420580000000014, 0.1494453, 0.027853039999999996, 0.021587299999999976, 0.012211200000000089, 0.033848409999999995, 0.12677650000000007, 0.011813679999999993, 0.004360359000000001, 0.016943750000000007, 0.015655719999999984, 0.044374450000000065, 0.07074222, 0.012662260000000009, 0.06975569999999998, 0.0025599000000000594, 0.012906699999999993, 0.0025408399999999887, 0.00531355, 0.04427760000000003, 0.04931226, 0.029152999999999984, 0.03586197000000002, 0.009036210000000044, 0.0013374699999999518, 0.06473678, 0.008219370000000004, 0.00853545, 0.013316019999999984, 0.016278899999999985, 0.003956950000000001, 0.030113080000000014, 0.06015078, 0.057486360000000014, 0.060130499999999976, 0.017554319999999984, 0.012862870000000026, 0.0035340200000000266, 0.0190766, 0.009762290000000007, 0.015468389999999999, 0.03435740000000004, 0.05823446999999998, 0.02592249999999996, 0.026216099999999964, 0.014051560000000018, 0.014748860000000003, 0.0031264300000000134, 0.025803660000000006, 0.00531355, 0.02941002000000001, 0.031212669999999998, 0.014362719999999995, 0.03143499999999999, 0.0007143000000000566, 0.009121119999999983, 0.038513940000000024, 0.17903520000000006, 0.0028271899999999933, 0.01779189999999997, 0.025432799999999978, 0.017230100000000026, 0.0031264300000000134, 0.029505520000000007, 0.0038008399999999998, 0.010283350000000024, 0.019167959999999984, 0.010889939999999987, 0.02974363999999996, 0.011247649999999998, 0.007992004999999996, 0.010778610000000022, 0.23241869999999998, 0.009476350000000022, 0.015848399999999985, 0.01566403999999999, 0.010205209999999965, 0.008367176, 0.02415586000000003, 0.0006259399999999915, 0.0008249320000000004, 0.0007546800000000076, 0.004527900000000029, 0.016265299999999983, 0.040533560000000024, 0.02033440000000003, 0.023110870000000006, 0.028182427999999995, 0.02853708000000002, 0.08449373000000004, 0.021049700000000005, 0.030864480000000027, 0.02033440000000003, 0.01861443000000007, 0.029616839999999978, 0.012833349999999966, 0.010320799999999963, 0.006828930000000011, 0.004765010000000014, 0.0022495399999999943, 0.01155510000000004, 0.05353701999999999, 0.020980499999999985, 0.015832990999999998, 0.02651482999999999, 0.01155509999999993, 0.017173330000000014, 0.06996696999999996, 0.05837199999999998, 0.010320799999999963, 0.041331480000000004, 0.014895780000000025, 0.0005663100000000143, 0.027783720000000012, 0.06506804, 0.005241259999999914, 0.07029540000000001, 0.016991790000000007, 0.020615099999999997, 0.001660240000000035, 0.023666330000000013, 0.01461610000000002, 0.005671360000000014, 0.015453800000000018, 0.03552891999999999, 0.07392153999999995, 0.010889939999999987, 0.05374497999999997, 0.03688146000000003, 0.01880257000000002, 0.010012350000000003, 0.0012051600000000384, 0.01546184000000006, 0.07298949999999998, 0.036591500000000055, 0.0041505699999999646, 0.014302309999999985, 0.006703599999999921, 0.03254699999999999, 0.010790359999999999, 0.01911425, 0.03330571999999998, 0.04140066000000009, 0.013683699999999965, 0.016094449999999982, 0.010692230000000025, 0.01721731000000004, 0.017935269999999948, 3.0599999999991745e-05, 0.01632149999999999, 0.00410967000000001, 0.06711634999999999, 0.012923499999999977, 0.005195200000000004, 0.022543650000000026, 0.01817457, 0.004593489999999978, 0.04980337999999995, 0.014845500000000067, 0.03687514000000003, 0.0051852930000000005, 0.033087530000000004, 0.06749951999999998, 0.006616120000000003, 0.005680156999999998, 0.03461734999999999, 0.0076650899999999855, 0.020199159999999994, 0.03758788000000002, 0.010511669999999973, 0.035996079999999986, 0.024907000000000012, 0.10639412999999998, 0.01059930000000009, 0.03998680000000002, 0.024565669999999984, 0.01368419000000004, 0.025651069999999998, 0.038800329999999994, 0.026215970000000005, 0.008686360000000004, 0.0029183000000000403, 0.0025599000000000594, 0.032285579999999994, 0.04325736000000002, 0.005337999999999954, 0.0013374699999999518, 0.04622351999999996, 0.013828370000000006, 0.002042290000000002, 0.08479725000000002, 0.014540730000000002, 0.07953246999999997, 0.033848409999999995, 0.008308929999999992, 0.008944239999999992, 0.006141800000000086, 0.001438489999999959, 0.026268750000000007, 0.020293000000000005, 0.09923392999999997, 0.008027800000000002, 0.03589704000000005, 0.0014255399999999474, 0.020467899999999983, 0.04526134999999998, 0.036700750000000004, 0.017676579999999997, 0.03084068000000001, 0.016508539999999988, 0.018453839999999944, 0.07811495999999996, 0.023525530000000017, 0.01395780000000002, 0.02234047, 0.005889159999999949, 0.015720220000000007, 0.003465990000000002, 0.013453655999999994, 0.10081984, 0.025289150000000038, 0.07995767000000004, 0.011225970000000002, 0.08737484000000001, 0.005708229999999981, 0.12812687, 0.03450893999999993, 0.006487189999999976, 0.013955070000000014, 0.008994359999999979, 0.032299750000000016, 0.013113600000000059, 0.001438489999999959, 0.10497850000000003, 0.08169499999999996, 0.01521729999999999, 0.046953590000000045, 0.04575779999999996, 0.02151696, 0.021952640000000023, 0.01363580999999997, 0.01059930000000009, 0.021252539999999986, 0.0027639000000000136, 0.08468310000000001, 0.005324039999999974, 0.03367266000000002, 0.013048769999999987, 0.05540727000000001, 0.012944789999999984, 0.011721220000000032, 0.0005145100000000236, 0.009043750000000017, 0.008472930000000017, 0.030977350000000015, 0.06270125999999998, 0.04548996999999999, 0.09128223000000002, 0.030113080000000014, 0.0036063200000000517, 0.02426924999999991, 0.05605959999999999, 0.02447330999999997, 0.0010722000000000786, 0.09720546000000002, 0.0046227600000000035, 0.031478729999999996, 0.023972260000000023, 0.09080421999999999, 0.012461480000000025, 0.02062744999999999, 0.062235419999999986, 0.019760189999999983, 0.021952640000000023, 0.0005149999999999877, 0.042601239999999985, 0.015770180000000023, 0.02459564000000003, 0.05592813999999999, 0.0018847399999999959, 0.05810130000000002, 0.0031015199999999965, 0.07495302999999998, 0.038356299999999954, 0.046367500000000006, 0.010889939999999987, 0.008314929999999998, 0.030847459999999993, 0.07564604999999996, 0.008396799999999982, 0.04251149999999998, 0.0008753500000000525, 0.009686470000000003, 0.040419800000000006, 0.029710000000000014, 0.005889159999999949, 0.008892459999999991, 0.04874179000000001, 0.005962999999999941, 0.003149389999999974, 0.029678830000000045, 0.03660765000000005, 0.018474429999999986, 0.040567699999999984, 0.018573030000000004, 0.040291999999999994, 0.02423926999999998, 0.00357567999999997, 0.02311019999999997, 0.0033742999999999967, 0.03980855999999999, 0.008687099999999948, 0.004593500000000028, 0.006295620000000002, 0.018607159999999956, 0.01076525000000006, 0.008309300000000075, 0.015805159999999985, 0.018180209999999974, 0.005451700000000059, 0.01460338, 0.029894860000000023, 0.017328359999999987, 0.10813302999999996, 0.00523336000000002, 0.04435736000000001, 0.025432799999999978, 0.011320540000000004, 0.0036862499999999465, 0.011682540000000019, 0.038513940000000024, 0.011768899999999971, 0.021587299999999976, 0.005391000000000035, 0.04004014, 0.025796599999999947, 0.0015982999999999414, 0.006412869999999904, 0.00442022000000003, 0.02058363999999996, 0.10965733, 0.022174600000000044, 0.0013463499999999962, 0.00480214000000001, 0.08282254, 0.0027081999999999384, 0.025881399999999943, 0.016483970000000014, 0.004033000000000009, 0.06363864999999996, 0.04658210000000007, 0.01964887999999998, 0.01036019999999993, 0.04830056000000005, 0.06567158000000001, 0.01138283000000001, 0.04967436000000003, 0.059645580000000004, 0.020953599999999906, 0.02350659999999999, 0.11080814, 0.036461209999999966, 0.04958877000000006, 0.006977659999999997, 0.015420449999999974, 0.00989627999999998, 0.023374929999999905, 0.02178057, 0.0020622, 0.0022052800000000317, 0.06461578000000001, 0.012620170000000042, 0.036984249999999996, 0.025073860000000003, 0.004389708999999999, 0.013265660000000012, 0.028425270000000058, 0.03786109999999998, 0.0165613, 0.02849653000000002, 0.014750900000000011, 0.00252463, 0.01841313999999994, 0.011016020000000015, 0.03860867000000001, 0.018729039999999975, 0.20899335, 0.00864564000000001, 0.014144050000000075, 0.020197719999999975, 0.014200267999999995, 0.04883473999999999, 0.010452299999999998, 0.03414699, 0.06160272, 0.025093240000000017, 0.04477639999999994, 0.02826176999999999, 0.0007143000000000566, 0.0055655600000000804, 0.005030209999999979, 3.223999999996119e-05, 0.06047382000000001, 0.007257959999999952, 0.004316050000000016, 0.0018033100000000024, 0.007952643999999995, 0.017455129999999985, 0.0013374699999999518, 0.01424504, 0.000250360000000005, 0.040163019999999994, 0.03691705000000001, 0.08089615000000006, 0.013668509999999995, 0.017211440000000022, 0.009692099999999981, 0.015805159999999985, 0.15717760000000003, 0.0054907399999999384, 0.10963877, 0.006828930000000011, 0.032313930000000046, 0.063309196, 0.02025365999999995, 0.009746090000000013, 0.019361729999999966, 0.004491269999999992, 0.10104208999999997, 0.012896450000000004, 0.002473905999999998, 0.008204219999999984, 0.007587559999999993, 0.014987079999999986, 0.013046149999999979, 0.012352720000000011, 0.014173800000000014, 0.020896760000000014, 0.043923349999999986, 0.04010543999999999, 0.022874210000000006, 0.018910480000000007, 0.004525940000000062, 0.022725190000000006, 0.010889939999999987, 0.0423346, 0.013658000000000059, 0.06528671999999999, 0.00026530000000002385, 0.003616510000000017, 0.033362800000000026, 0.012860719999999937, 0.022262130000000047, 0.03663763999999997, 0.022007529999999997, 0.0190766, 0.005671360000000014, 0.00480214000000001, 0.011340940000000077, 0.011183429999999994, 0.038062540000000006, 0.005483120000000008, 0.03285127999999993, 0.0021693460000000026, 0.22012717999999998, 0.03150699999999995, 0.025796599999999947, 0.012704309999999996, 0.03279460000000001, 0.005796369999999995, 0.06938885000000006, 0.027113969999999987, 0.0017192799999999897, 0.020443549999999977, 0.001746089999999978, 0.01301125000000003, 0.0046980000000000355, 0.03015819, 0.020085340000000063, 0.02722958000000003, 0.024668451999999993, 0.061040640000000035, 0.030352900000000016, 0.021952640000000023, 0.018004770000000003, 0.03874428000000002, 0.02012279, 0.0012541500000000094, 0.21770484, 0.03634285999999998, 0.01126872000000001, 0.0012295800000000079, 0.007306529999999922, 0.002634880000000006, 0.019821860000000024, 0.005818259999999964, 0.00857522999999999, 0.018657900000000005, 0.10212960000000004, 0.04638363000000001, 0.009984170000000014, 0.038461999999999996, 0.03427779, 0.030572180000000004, 0.10118358, 0.00036485999999991137, 0.019836549999999953, 0.004977270000000034, 0.06896380000000002, 0.013109870000000023, 0.10324701999999997, 0.015561199999999997, 0.001026240000000067, 0.002748439999999963, 0.0026414100000000107, 0.01499963999999998, 0.02382635999999999, 0.01412846000000001, 0.03932970000000002, 0.02420527, 0.015848399999999985, 0.05810130000000002, 0.015412199999999987, 0.012557970000000002, 0.0005689199999999728, 0.01724171999999996, 0.020199159999999994, 0.006487189999999976, 0.07880229000000005, 0.0015982999999999414, 0.003901200000000049, 0.023004460000000004, 0.025432799999999978, 0.0013374699999999518, 0.09413914000000001, 0.040876930000000034, 0.03059723999999997, 0.006520570000000059, 0.017008030000000007, 0.01291078000000001, 0.12439471999999996, 0.00523336000000002, 0.013699499999999976, 0.009633370000000085, 0.005285439999999975, 0.028581919999999983, 0.02420527, 0.012472969999999972, 0.0005149400000000193, 0.0021936399999999967, 0.004806839999999979, 0.027056100000000027, 0.05180885999999996, 0.01140252, 0.05815910000000002, 0.04940506, 0.006080560000000013, 0.0049299800000000005, 0.010147559999999944, 0.011966239999999961, 0.014173800000000014, 0.03147364, 0.0011562299999999803, 0.01982972999999999, 0.16912759, 0.0076650899999999855, 0.009871450000000004, 0.008127930000000005, 0.08162259999999999, 0.037233799999999984, 0.030747579999999997, 0.010303799999999974, 0.06142671999999999, 0.012266136000000004, 0.019773719999999995, 0.021848720000000002, 0.06486924999999999, 0.03069398000000001, 0.005173509999999992, 0.07162311000000002, 0.016336970000000006, 0.011925949999999963, 0.05276373000000001, 0.03301121999999995, 0.00857522999999999, 0.003344029999999998, 0.036435500000000065, 0.0026414100000000107, 0.003610250000000037, 0.0015918700000000507, 0.02557870000000001, 0.04486975000000004, 0.0014467239999999965, 0.006753169999999975, 0.003228540000000002, 0.030181590000000036, 0.027348150000000016, 0.005388449999999989, 0.012438590000000027, 0.03133142, 0.04632494999999992, 0.01306837999999999, 0.011872400000000005, 0.016822190000000015, 0.009121119999999983, 0.00780230000000004, 0.016191900000000037, 0.03402477000000004, 0.07433820000000002, 0.021270299999999964, 0.013500100000000015, 0.0016037100000000082, 0.053459749999999986, 0.015525159999999982, 0.014591779999999999, 0.00780230000000004, 0.017230689999999993, 0.023308549999999983, 0.04996285, 0.002651270000000039, 0.01813609999999999, 0.07105204999999992, 0.0026904600000000056, 0.03048424000000005, 0.02954000000000001, 0.03055410000000003, 0.007576840000000029, 0.00531355, 0.006768400000000008, 0.012735350000000034, 0.010870349999999918, 0.03184290000000001, 0.11731827, 0.02402473999999999, 0.03227343999999999, 0.03530679999999997, 0.030721940000000003, 0.012616919999999997, 0.004013900000000015, 0.02809879999999998, 0.01363580999999997, 0.010205209999999965, 0.019251000000000018, 0.03056500000000001, 0.004651700000000036, 0.02161318000000001, 0.035000269999999944, 0.00025036999999999976, 0.027203759999999966, 0.015810999999999964, 0.04392056999999994, 0.025365599999999988, 0.005818259999999964, 0.15770653999999995, 0.0013374699999999518, 0.006937320000000025, 0.022961539999999947, 0.009060169999999979, 0.020953599999999906, 0.006975830000000016, 0.01777307999999997, 0.005427059999999928, 0.049477400000000005, 0.001374199999999992, 0.013014729999999974, 0.07767469999999999, 0.0011377899999999719, 0.011739429999999995, 0.00014590000000003212, 0.07165579999999994, 0.014826600000000023, 0.0013374699999999518, 0.0033843699999999144, 0.00859588, 0.00357567999999997, 0.08907805999999996, 0.023452669999999953, 0.07593541000000001, 0.00694191999999999, 0.056039229999999995, 0.001678640000000009, 0.003165565000000009, 0.031834200000000035, 0.01919842999999999, 0.007312860000000032, 0.006703599999999921, 0.0005145100000000236, 0.025052399999999975, 0.01305617000000002, 0.000250360000000005, 0.0025599599999999167, 0.07780175, 0.05767549999999999, 0.01755186999999997, 0.029616839999999978, 0.07045606000000004, 0.006703599999999921, 0.003616510000000017, 0.003207409999999994, 0.010885939999999983, 0.05026011, 0.0028671000000000113, 0.01862665999999996, 0.0017085199999999912, 0.015623399999999954, 0.01827857999999999, 0.016864129999999977, 0.00780230000000004, 0.020748180000000005, 0.00494813999999999, 0.0507379, 0.0064998000000000555, 0.08930474, 0.023998980000000003, 0.00811240000000002, 0.04575227, 0.09149643000000002, 0.010344599999999926, 0.003849400000000003, 0.013132870000000019, 0.008687099999999948, 0.09797999000000002, 0.00561155999999996, 0.005206849999999985, 0.011908299999999983, 0.0015492599999999968, 0.030661739999999993, 0.031121460000000045, 0.02178057, 0.0005131000000000441, 0.006414840000000033, 0.03135782000000001, 0.03623080000000001, 0.028516629999999987, 0.018793199999999954, 0.03633148000000003, 0.001746089999999978, 0.007686799999999994, 0.06782948999999999, 0.009429340000000008, 0.0032581100000000918, 0.04031646, 0.0013374699999999518, 0.02311724000000001, 0.013014729999999974, 0.013227130000000004, 0.05038482, 0.028112029999999982, 0.007816670000000026, 0.011105759999999992, 0.0019147999999999943, 0.009184279999999989, 0.01598668000000003, 0.04489466, 0.07311466999999999, 0.00531355, 0.02337077999999998, 0.04158856000000001, 0.08070387000000001, 0.012833349999999966, 0.001746089999999978, 0.007726190000000022, 0.001374239999999971, 0.02418240000000005, 0.009503539999999977, 0.033785169999999975, 0.05812065999999999, 0.025506970000000018, 0.05299433999999992, 0.0011797900000000139, 0.015721380000000007, 0.0521026, 0.004422229999999999, 0.010313929999999999, 0.18494313999999995, 0.01041976, 0.003034199999999987, 0.03059723999999997, 0.07111821000000002, 0.004422099999999984, 0.04666724, 0.004465760000000041, 0.0005380799999999963, 0.08619680999999996, 0.035862050000000034, 0.0005102499999999344, 0.030847459999999993, 0.05677394999999996, 0.009332510000000016, 0.000513140000000023, 0.005034179999999999, 0.00439139999999999, 0.036404360000000024, 0.0019791239999999988, 0.006828930000000011, 0.011655799999999994, 0.005662089999999953, 0.0042704000000000075, 0.03552891999999999, 0.005889159999999949, 0.018793199999999954, 0.03486220000000001, 0.009192106999999998, 0.06207609999999997, 0.06111222000000005, 0.009026640000000002, 0.015265830000000036, 0.033251800000000054, 0.041295700000000046, 0.03672922000000001, 0.014341570000000026, 0.08061764000000005, 0.004187820000000009, 0.07234584, 0.0021956899999999724, 0.01957454999999997, 0.0015492599999999968, 0.012522729999999982, 0.017658789999999994, 0.0035331200000000007, 0.022874210000000006, 0.025532699999999964, 0.02136344000000001, 0.008494790000000002, 0.07146248, 0.011613599999999946, 0.010115180000000001, 0.023716389999999976, 0.04309836, 0.025590420000000003, 0.05209077000000001, 0.0011377899999999719, 0.013283799999999957, 0.005451700000000059, 0.02179466000000002, 0.006510799999999928, 0.002603226, 0.0023074499999999887, 0.03401588, 0.02274013000000008, 0.0165613, 0.05609453999999997, 0.06579104000000002, 0.03503152999999998, 0.05721582999999997, 0.03950284000000004, 0.009657589999999994, 0.024166699999999985, 0.02149353000000004, 0.0036063200000000517, 0.005889159999999949, 0.030747579999999997, 0.01794359999999995, 0.025078739999999988, 0.027144610000000013, 0.0009896600000000033, 0.05328665999999993, 0.04442558000000002, 0.021952640000000023, 0.008467651999999992, 0.003956955999999998, 0.02744745000000004, 0.06900900999999998, 0.016096559999999982, 0.008562899999999929, 0.031121460000000045, 0.001678640000000009, 0.001591800000000032, 0.07005373999999998, 0.002925879999999992, 0.01887080000000002, 0.012662259999999995, 0.09729876999999998, 0.0007135700000000522, 0.02382635999999999, 0.00859588, 0.017693700000000034, 0.020331100000000046, 0.01825750000000001, 0.012279170000000006, 0.00494813999999999, 0.060505719999999985, 0.00942620999999999, 0.030165609999999954, 0.007375789999999993, 0.03584822999999998, 0.00375540000000002, 0.0002574999999999661, 0.011068432000000003, 0.006164530000000001, 0.04319474000000001, 0.01692446999999997, 0.012665539999999975, 0.001438489999999959, 0.05079924000000002, 0.02009823999999999, 0.020407455000000005, 0.017652129999999988, 0.0036378599999999928, 0.14815822999999995, 0.004034699999999947, 0.04605431000000004, 0.020013659999999933, 0.01423580000000002, 0.02351977999999999, 0.0010721999999999676, 0.03341377000000001, 0.02872834000000002, 0.0013374699999999518, 0.004744540000000019, 0.024429239999999963, 0.011955099999999996, 0.00954513600000001, 0.02839432000000003, 0.07606762, 0.023447990000000085, 0.008505129999999972, 0.06439183000000004, 0.010511669999999973, 0.018929419999999975, 0.0007725000000000093, 0.010158, 0.016336970000000006, 0.03558806000000003, 0.0415905, 0.038513940000000024, 0.0074269200000000035, 0.011784753000000002, 0.013599399999999984, 0.07802735, 0.043416659999999996, 0.006414840000000033, 0.005371369999999986, 0.027316849999999948, 0.011163460000000014, 0.0048344000000000165, 0.029265609999999997, 0.018333340000000004, 0.0009896600000000033, 0.0014885399999999827, 0.004738200000000026, 0.17007767999999998, 0.029810840000000005, 0.045618040000000026, 0.024643300000000007, 0.002748439999999963, 0.01813609999999999, 0.006747519999999951, 0.003405584000000003, 0.008919850000000062, 0.0012295800000000079, 0.011099100000000028, 0.013206989999999974, 0.006703760000000003, 0.0025998999999999883, 0.00859588, 0.26543482999999995, 0.015508359999999999, 0.019831709999999947, 0.006185870000000038, 0.0032160769999999977, 0.010012350000000003, 0.019362860000000093, 0.027894980000000014, 0.0015827900000000006, 0.014394879999999999, 0.02877693800000001, 0.007122530000000002, 0.023390230000000012, 0.021098670000000014, 0.001446724999999996, 0.00445993999999994, 0.004105660000000011, 0.04140066000000009, 0.010604730000000007, 0.015596199999999949, 0.008990439999999933, 0.023608480000000043, 0.004098800000000069, 0.016903520000000005, 0.012755699999999981, 0.15429415000000002, 0.10695640000000001, 0.0016583400000000081, 0.025443629999999995, 0.002876939999999939, 0.02481354999999999, 0.03570941999999999, 0.012461480000000025, 0.061791399999999996, 0.07057835000000001, 0.021545360000000013, 0.038833090000000015, 0.008562899999999929, 0.0014843420000000065, 0.05452016999999998, 0.04477639999999994, 0.0060703700000000055, 0.03661459999999994, 0.009557600000000055, 0.006828930000000011, 0.03124173000000008, 0.0005663100000000143, 0.009036210000000044, 0.01689936999999997, 0.0021700800000000048, 0.028587469999999948, 0.004287640000000037, 0.01730103999999999, 0.020197719999999975, 0.035470699999999966, 0.015155470000000004, 0.002531850000000002, 0.07488159999999999, 0.03644591, 0.01889063999999996, 0.020539940000000034, 0.04576062999999997, 0.019157740000000034, 0.04288750000000008, 0.004332500000000017, 0.031894199999999984, 0.03248000000000001, 0.006412799999999996, 0.017350880000000013, 0.020331100000000046, 0.02090852999999998, 0.006845099999999993, 0.0009896600000000033, 0.028242600000000007, 0.04290276999999998, 0.026880589999999982, 0.010882900000000029, 0.02033440000000003, 0.002925879999999992, 0.020213099999999984, 0.003136609999999998, 0.08513892, 0.001900419999999986, 0.007110680000000036, 0.009064530000000015, 0.01841313999999994, 0.01632149999999999, 0.07413934000000001, 0.019108069999999977, 0.0015982999999999414, 0.01306837999999999, 0.0048344000000000165, 0.032313930000000046, 0.07593069599999999, 0.024244860000000007, 0.01170759999999993, 0.01521729999999999, 0.017365540000000013, 0.009503539999999977, 0.013109870000000023, 0.004287640000000037, 0.052343189999999984, 0.029018199999999994, 0.005349199999999943, 0.03687514000000003, 0.03136520999999998, 0.013619229999999982, 0.023320489999999916, 0.013331259999999956, 0.00531355, 0.0005166800000000055, 0.04006893999999994, 0.010807210000000067, 0.0011562299999999803, 0.011908299999999983, 0.042230659999999975, 0.014460040000000007, 0.03435035999999997, 0.06232535999999994, 0.011088140000000024, 0.021289369999999974, 0.006510799999999928, 0.01342388, 0.01995479999999994, 0.05015148, 0.00928304000000002, 0.021369269999999996, 0.04637674, 0.006727099999999986, 0.007164259999999978, 0.013521499999999964, 0.004928700000000008, 0.01995935999999998, 0.03503152999999998, 0.08029512, 0.04587176999999998, 0.0033495600000000847, 0.029836899999999944, 0.0021936399999999967, 0.001079159999999968, 0.09477848, 0.005708229999999981, 0.0017677130000000006, 0.025432799999999978, 0.0005131000000000441, 0.005671360000000014, 0.05076993000000002, 0.10940481000000002, 0.00494813999999999, 0.008206250000000082, 0.04986769000000002, 0.008027790000000007, 0.010870349999999918, 0.00523336000000002, 0.001079159999999968, 0.0065471, 0.03846398000000001, 0.01499963999999998, 0.025796599999999947, 0.03994065000000002, 0.01155509999999993, 0.033251800000000054, 0.012858319999999993, 0.01950430000000003, 0.023525530000000017, 0.030707999999999985, 0.0047483440000000016, 0.09482003, 0.018761850000000024, 0.005488240000000005, 0.0190766, 0.0014843419999999996, 0.000552770000000008, 0.006828930000000011, 0.0028671000000000113, 0.011296860000000075, 0.005708229999999981, 0.01036019999999993, 0.002042290000000002, 0.004896810000000029, 0.01243519999999998, 0.00601236000000005, 0.07357903999999998, 0.030859119999999962, 0.05025959000000002, 0.005050600000000016, 0.03391666999999998, 0.003470954999999998, 0.07129094000000002, 0.006975830000000016, 0.003165559999999998, 0.01133655999999994, 0.008165460000000069, 0.024112610000000034, 0.01291078000000001, 0.021918469999999995, 0.014540730000000002, 0.015257939999999914, 0.023504769999999953, 0.0020360299999999665, 0.012114369999999985, 0.04453430000000003, 0.017448780000000053, 0.00569063000000003, 0.005386539999999995, 0.040604799999999996, 0.0036364999999999315, 0.0019147999999999943, 0.03059723999999997, 0.08393901000000004, 0.006703760000000003, 0.03461734999999999, 0.016191900000000037, 0.01170759999999993, 0.0007143000000000566, 0.007126149999999998, 0.005662089999999953, 0.02743956000000003, 0.0028800499999999674, 0.005218859999999936, 0.010012350000000003, 0.005206850000000013, 0.011196730000000044, 0.05551656999999999, 0.0017216199999999793, 0.01692446999999997, 0.038779880000000044, 0.0018847399999999959, 0.019436750000000003, 0.051946519999999996, 0.006455340000000032, 0.0013265000000000082, 0.027624000000000037, 0.021952640000000023, 0.00553389, 0.03893330000000006, 0.026520580000000016, 0.007306529999999922, 0.006377849999999963, 0.025821839999999985, 0.015642790000000018, 0.008559079999999997, 0.010760119999999998, 0.024492639999999982, 0.06488836000000003, 0.05134205999999997, 0.012061099999999991, 0.019251000000000018, 0.003616510000000017, 0.014554169999999977, 0.00883510999999998, 0.008532469999999959, 0.03517577999999999, 0.007891729999999986, 0.011833399999999994, 0.008686360000000004, 0.010320799999999963, 0.005732169999999981, 0.04526134999999998, 0.041547229999999935, 0.06571956000000001, 0.03377635000000001, 0.015566350000000007, 0.02571835, 0.005596190000000001, 0.05867224000000004, 0.05030703, 0.013283799999999957, 0.031121460000000045, 0.04123409999999994, 0.023608480000000043, 0.01245563999999999, 0.10742932000000005, 0.03372444999999996, 0.02482519999999999, 0.0053025700000000064, 0.020624699999999996, 0.008575270000000024, 0.059086300000000036, 0.05873080000000003, 0.005889159999999949, 0.04230192999999999, 0.006977659999999997, 0.0023118699999999937, 0.01602904000000005, 0.05768503999999999, 0.02141666999999997, 0.003766650000000038, 0.054066879999999984, 0.003037090000000006, 0.006520570000000059, 0.031164239999999954, 0.009814480000000014, 0.0017356199999999933, 0.013453655999999994, 0.00780230000000004, 0.008687099999999948, 0.0039010999999999907, 0.005119859999999976, 0.025821839999999985, 0.02931731999999998, 0.023295540000000003, 0.01135514999999998, 0.012737160000000025, 0.02062744999999999, 0.0029381299999999833, 0.008568410000000026, 0.01995479999999994, 0.00957320000000006, 0.002480139999999964, 0.030747579999999997, 0.020687200000000017, 0.001026240000000067, 0.002042290000000002, 0.007834950000000007, 0.026487079999999996, 0.005708200000000052, 0.010012350000000003, 0.020615099999999997, 0.017625179999999963, 0.004738200000000026, 0.010511669999999973, 0.02276125000000001, 0.025432799999999978, 0.016903520000000005, 0.02583300999999999, 0.0039536000000000016, 0.011231670000000027, 0.010188279999999994, 0.007345220000000041, 0.02642140000000004, 0.013154390000000071, 0.005391000000000035, 0.010424290000000003, 0.04258490000000004, 0.0021120600000000267, 0.02346423000000003, 0.011749180000000026, 0.0025794000000000095, 0.005218859999999936, 0.01905140000000005, 0.034859340000000016, 0.012964569999999953, 0.0158065, 0.012211200000000089, 0.01056390000000007, 0.0010721999999999676, 0.01076525000000006, 0.010114440000000002, 0.029152999999999984, 0.0017347600000000019, 0.007873320000000017, 0.02333636, 0.011163460000000014, 0.005241259999999914, 0.0023630499999999777, 0.00030719999999995196, 0.03517577999999999, 0.060468999999999995, 0.036700629999999956, 0.0007135700000000522, 0.01903952999999997, 0.0015982999999999414, 0.020953599999999906, 0.05349789999999999, 0.0033843699999999144, 0.027467270000000044, 0.03600846999999999, 0.001374199999999992, 0.02213936999999999, 0.01222042000000001, 0.040169679999999985, 0.03182430000000003, 0.06372653000000002, 6.820000000018478e-06, 0.008309300000000075, 0.0003727099999999983, 0.005241259999999914, 0.009557600000000055, 0.0037006299999999825, 0.004013900000000015, 0.0007143000000000566, 0.020294539999999972, 0.004802279999999992, 0.03643763999999999, 0.027251340000000013, 0.002404230000000007, 0.012215499999999935, 0.00705933000000003, 0.04726473000000009, 0.012944789999999984, 0.03447782999999993, 0.05319934999999998, 0.05512692999999996, 0.04243233000000002, 0.00357567999999997, 0.007691569999999981, 0.005708200000000052, 0.005708229999999981, 0.0015492599999999968, 0.005889240000000018, 0.012862870000000026, 0.0423346, 0.0049232000000000165, 0.03133142, 0.004651700000000036, 0.02411770999999996, 0.010885939999999983, 0.00037266999999996386, 0.005031049999999926, 0.032770579999999994, 0.0076124899999999995, 0.016483970000000014, 0.14630720000000003, 0.03719325999999995, 0.052529800000000015, 0.005740329999999988, 0.0018503300000000111, 0.030103800000000014, 0.0011055500000000107, 0.03322850000000005, 0.0023342600000000324, 0.09026575000000003, 0.01954684000000001, 0.003481000000000012, 0.03148350999999999, 0.006154780000000026, 0.09743989000000008, 0.06528671999999999, 0.017075810000000025, 0.00812256999999994, 0.0013265000000000082, 0.014815210000000023, 0.0005164199999999619, 0.036943579999999976, 0.0033495600000000847, 0.007306529999999922, 0.0076650899999999855, 0.026013149999999985, 0.05252766000000009, 0.026868400000000014, 0.01403173999999996, 0.023988430000000005, 0.02864980000000006, 0.02297506000000002, 0.0784821, 0.018729039999999975, 0.02192071000000001, 0.0004896999999999818, 0.03005454000000002, 0.038513940000000024, 0.041465839999999976, 0.0012295800000000079, 0.0005773199999999923, 0.022639809999999982, 0.016502909999999982, 0.0002326500000000009, 0.007659350000000009, 0.06028654, 0.0024538100000000007, 0.0012400499999999925, 0.009963399999999956, 0.02944373, 0.006922839999999986, 0.012627300000000008, 0.0017329899999999898, 0.015805489999999978, 0.025821839999999985, 0.021776629999999964, 0.02527393999999994, 0.02640644000000003, 0.0375374, 0.018004770000000003, 0.0035229200000000127, 0.010870349999999918, 0.09333488000000001, 0.06782948999999999, 0.018639500000000003, 0.011225970000000002, 0.029456189999999993, 0.0007143000000000566, 0.0005689199999999728, 0.006482600000000005, 0.0015982999999999414, 0.003773419999999972, 0.100043496, 0.006753169999999975, 0.004660439999999988, 0.0018847399999999959, 0.020331100000000046, 0.011966239999999961, 0.006412869999999904, 0.0015918700000000507, 0.0455238, 0.01401981999999996, 0.0017992600000000247, 0.009365750000000006, 0.025432799999999978, 0.0025998999999999883, 0.04658210000000007, 0.02443688999999999, 0.05180885999999996, 0.008923299999999967, 0.006267499999999981, 0.03173439999999994, 0.044374450000000065, 0.01985011999999997, 0.06146327999999998, 0.03266430000000009, 0.01697464999999998, 0.10304215000000005, 0.08033955999999998, 0.022065379999999996, 0.024422300000000008, 0.057374460000000016, 0.0005149400000000193, 0.031255653999999994, 0.18887233999999997, 0.008751120000000001, 0.02424733999999995, 0.030181590000000036, 0.001079159999999968, 0.013109199999999932, 0.016336970000000006, 0.030092779999999986, 0.0026530000000000165, 0.05323473999999995, 0.012480799999999959, 0.010469160000000005, 0.003901200000000049, 0.08944469999999999, 0.025819140000000074, 0.009089769999999997, 0.013113600000000059, 0.001921100000000009, 0.01022616000000004, 0.02196294999999998, 0.007122526000000004, 0.012215499999999935, 0.006915599999999911, 0.00445993999999994, 0.014724169999999981, 0.01019958999999998, 0.006771809999999934, 0.015909000000000062, 0.0389432999999999, 0.0018503300000000111, 0.019740199999999986, 0.014843427, 0.0005689199999999728, 0.004649470000000044, 0.03686687999999999, 0.0014255399999999474, 0.027783720000000012, 0.021098670000000014, 0.003554460000000037, 0.005427059999999928, 0.044521299999999986, 0.021776629999999964, 0.036609840000000005, 0.049902380000000024, 0.013469520000000013, 0.04078029999999999, 0.01949993, 0.013206989999999974, 0.04282360000000007, 0.02447330999999997, 0.0012295800000000079, 0.005937799999999993, 0.03763675999999999, 0.0034252699999999803, 0.01019958999999998, 0.013521499999999964, 0.026479099999999978, 0.014903, 0.004422099999999984, 0.02894304999999997, 0.012620170000000042, 0.014525849999999951, 0.023004460000000004, 0.018629070000000025, 0.02932665999999995, 0.01418047, 0.0036364999999999315, 0.036938240000000004, 0.005050600000000016, 0.0007127999999999579, 0.02630600000000005, 0.018188239999999967, 0.021601199999999987, 0.004744540000000019, 0.01499963999999998, 0.054315850000000054, 0.005744130000000014, 0.06737077999999996, 0.0013374699999999518, 0.029177729999999957, 0.011833440000000028, 0.021576380000000006, 0.013658000000000059, 0.02311019999999997, 0.001374239999999971, 0.11024182999999999, 0.001374199999999992, 0.00569063000000003, 0.014987079999999986, 0.04878344000000001, 0.036783300000000074, 0.01272645, 0.010074589999999994, 0.002448410000000012, 0.06182264999999998, 0.0010819899999999771, 0.008316099999999993, 0.06036595, 0.0023074499999999887, 0.018905249999999985, 0.02234047, 0.04000550000000003, 0.02489577999999998, 0.00933893999999999, 0.0336514, 0.0004896999999999818, 0.010014399999999979, 0.08593162999999998, 0.023904389999999998, 0.04780040000000002, 0.020013659999999933, 0.009726700000000005, 0.02182856999999999, 0.025432799999999978, 0.009570549999999955, 0.009433570000000002, 0.023295540000000003, 0.018004770000000003, 0.01204487000000004, 0.0005389399999999878, 0.019701860000000015, 0.028418269999999968, 0.027602839999999962, 0.013940869999999994, 0.027678780000000014, 0.04984617000000002, 0.027834000000000025, 0.005768059999999964, 0.00046532000000001905, 0.009168350000000047, 0.015265830000000036, 0.01683329999999994, 0.04357871999999996, 0.04865556000000004, 0.04989475999999998, 0.02614500000000003, 0.029883940000000025, 0.006929300000000027, 0.012737160000000025, 0.005708229999999981, 0.00494813999999999, 0.011260219999999987, 0.029541669999999964, 0.02371455, 0.06071915, 0.03669572, 0.010889939999999987, 0.0007070860000000026, 0.00748705999999999, 0.018396200000000085, 0.030040960000000005, 0.014826600000000023, 0.05410349999999997, 0.010274109999999947, 0.015257939999999914, 0.0026512999999999676, 0.018612760000000006, 0.0015793300000000454, 0.016278899999999985, 0.006225109999999978, 0.006455340000000032, 0.057758879999999985, 0.006929300000000027, 0.0054907399999999384, 0.06395625000000005, 0.021202019999999988, 0.025821839999999985, 0.31373034, 0.01309652, 0.03478905999999993, 0.0012021000000000392, 0.00780230000000004, 0.008994359999999979, 0.06909905999999999, 0.018826540000000003, 0.008562899999999929, 0.012684030000000068, 0.015721815000000014, 0.007512550000000007, 0.0013016100000000086, 0.011231670000000027, 0.10692383999999999, 0.0034231999999999596, 0.00830350000000002, 0.01571559999999994, 0.02139974, 0.053612905, 0.015412199999999987, 0.010261420000000021, 0.023514300000000044, 0.017143330000000012, 0.019829399999999997, 0.0019147500000000761, 0.03980855999999999, 0.0005102399999999951, 0.009984170000000014, 0.017263219999999996, 0.005451700000000059, 0.023969889999999994, 0.01952988, 0.014483049999999997, 0.012971319999999953, 0.018657900000000005, 0.0005389399999999878, 0.01569331000000007, 0.02426924999999991, 0.005349220000000002, 0.006768400000000008, 0.01856927, 0.012735350000000034, 0.008004699999999976, 0.020953599999999906, 0.036767850000000046, 0.10494023000000008, 0.015233129999999984, 0.013283799999999957, 0.06179868999999999, 0.01155510000000004, 0.0021883799999999898, 0.004131969999999985, 0.03466459999999999, 0.0031911299999999865, 0.0041096800000000044, 0.01245563999999999, 0.008990439999999933, 0.04555035000000002, 0.0006308800000000003, 0.01170759999999993, 0.022241089999999963, 0.011296860000000075, 0.0056209500000000134, 0.001187080000000007, 0.010557260000000013, 0.0020360299999999665, 0.07248875999999999, 0.022650179999999964, 0.014460040000000007, 0.029979270000000002, 0.020953599999999906, 0.022294970000000025, 0.03378911999999998, 0.024442949999999963, 0.010012350000000003, 0.006147950000000013, 0.016576619999999986, 0.0009896600000000033, 0.029456189999999993, 0.00445993999999994, 0.0007546800000000076, 0.016125290000000014, 0.009011439999999982, 0.004316050000000016, 0.08456133999999993, 0.02370166000000007, 0.01337737, 0.05350743999999996, 0.009963399999999956, 0.002066749999999992, 0.0062056399999999845, 0.02314447, 0.025881399999999943, 0.026644229999999935, 0.0039536000000000016, 0.009654230000000041, 0.013587450000000001, 0.08373829999999999, 0.055977940000000004, 0.00844986999999997, 0.03417193000000002, 0.010685060000000024, 0.027037619999999984, 0.016451500000000063, 0.04335593999999998, 0.01170759999999993, 0.030193630000000027, 0.0039010999999999907, 0.010196030000000023, 0.011896200000000023, 0.022522170000000008, 0.01129659999999999, 0.017143330000000012, 0.04412151000000003, 0.0012575499999999962, 0.03130153000000002, 0.08947594, 0.08337466000000004, 0.003037100000000001, 0.012215499999999935, 0.0043913700000000055, 0.04931163999999999, 0.010012350000000003, 0.015598, 0.03786109999999998, 0.004093060000000037, 0.02370166000000007, 0.008345700000000011, 0.019444359999999994, 0.010199669999999994, 0.0021444000000000463, 0.03168939, 0.028411209999999965, 0.026395069999999965, 0.006784279999999976, 0.06408298000000001, 0.02921605000000005, 0.026734089999999988, 0.0062987899999999986, 0.008396799999999982, 0.025365599999999988, 0.04625707999999995, 0.008931820000000035, 0.06781513000000006, 0.049458590000000024, 0.12288312000000001, 0.01756413000000001, 0.011749180000000026, 0.022262130000000047, 0.00036485999999991137, 0.027678780000000014, 0.025432799999999978, 0.00023265999999999565, 0.03181074000000006, 0.0008665100000000148, 0.030661739999999993, 0.08098205999999997, 0.0076650899999999855, 0.005889240000000018, 0.04026309, 0.0006308800000000003, 0.2655303, 0.0713529, 0.14049640000000002, 0.04954997, 0.024492259999999932, 0.036201769999999966, 0.025519579999999986, 0.0057305300000000114, 0.00531355, 0.020776420000000018, 0.002940940000000003, 0.022033359999999946, 0.011416430000000033, 0.03172606, 0.02998769000000001, 0.023721839999999994, 0.02984265000000008, 0.01155510000000004, 0.0018867200000000084, 0.01566108999999999, 0.006587789999999996, 0.014394879999999999, 0.01544970000000001, 0.020325150000000014, 0.01369929999999997, 0.0024484300000000014, 0.04791146000000002, 0.04080484000000001, 0.012737160000000025, 0.005937799999999993, 0.02776706000000001, 0.006681230000000038, 0.011870865000000008, 0.006828930000000011, 0.006455340000000032, 0.011231900000000017, 0.019951900000000022, 0.022278130000000007, 0.023972260000000023, 0.013658000000000059, 0.047063100000000024, 0.038363530000000035, 0.03010980000000002, 0.005629060000000019, 0.009332510000000016, 0.00020406000000006141, 0.013619229999999982, 0.016327330000000084, 0.0008753500000000525, 0.022762289999999963, 0.03446460000000007, 0.0020996000000000348, 0.015805159999999985, 0.022880759999999944, 0.025432799999999978, 0.004744540000000019, 0.0047381499999999965, 0.012273599999999996, 0.003616510000000017, 0.04658210000000007, 0.017212820000000018, 0.02656365999999999, 0.002181019999999978, 0.020004279999999985, 0.05765423999999997, 0.028816410000000015, 0.018769099999999983, 0.005155450000000006, 0.020629080000000022, 0.009963399999999956, 0.012862859999999976, 0.013206989999999974, 0.01412846000000001, 0.008396799999999982, 0.014394879999999999, 0.016278899999999985, 0.013027300000000075, 0.010424290000000003, 0.047019069999999996, 0.006640919999999995, 0.0010204899999999295, 0.06773182999999999, 0.04736277, 0.0017329899999999898, 0.03020742999999998, 0.005042840000000048, 0.02026817000000003, 0.001156170000000012, 0.019959600000000008, 0.00989627999999998, 6.799999999973494e-06, 0.004268759999999983, 0.008919800000000033, 0.022563149999999976, 0.12686598999999998, 0.002876939999999939, 0.046280619999999995, 0.033867750000000085, 6.450000000002287e-05, 0.011680350000000006, 0.020443549999999977, 0.030797989999999997, 0.004639449999999989, 0.020748180000000005, 0.014346320000000023, 0.019105979999999995, 0.019981230000000016, 0.014660420000000007, 0.007292569999999998, 0.0036063200000000517, 0.017150500000000013, 0.038915339999999965, 0.008562899999999929, 0.002651270000000039, 0.006377849999999963, 0.019532319999999992, 0.016068399999999983, 0.03867137999999998, 0.020675509999999953, 0.041295700000000046, 0.008020099999999974, 0.006975830000000016, 0.0031264300000000134, 0.01566108999999999, 0.10038970000000003, 0.03140029, 0.019361729999999966, 0.005344640000000012, 0.023904389999999998, 0.0047853500000000215, 0.01937414000000004, 0.00694191999999999, 0.0005166840000000034, 0.001746089999999978, 0.023608480000000043, 0.0003727000000000036, 0.01757770000000003, 0.0247428999999999, 0.019251000000000018, 0.03379485000000004, 3.226000000000617e-05, 0.005161360000000004, 0.03764255999999999, 0.016068399999999983, 0.05580225999999999, 0.07286429999999999, 0.017653099999999977, 0.01854444999999999, 0.005031049999999926, 0.005451700000000059, 0.027050740000000018, 0.021952640000000023, 0.03173367000000005, 0.018396200000000085, 0.003088660000000021, 0.006108160000000001, 0.01356820000000003, 0.0034252699999999803, 0.01921579000000001, 0.09391479999999999, 0.018789730000000004, 0.009397685999999988, 0.0031837000000000115, 0.03332203999999994, 0.0032581100000000918, 0.03982744000000005, 0.004980680000000015, 0.031157140000000028, 0.006455340000000032, 0.02062744999999999, 0.010534930000000053, 0.0010721999999999676, 0.01448499999999997, 0.006957484999999999, 0.038513940000000024, 0.02569383000000003, 0.03382763, 0.03552891999999999, 0.0020939000000000096, 0.004185080000000008, 0.03550934, 0.02083649999999998, 0.015412199999999987, 0.0009300299999999984, 0.050922350000000005, 0.0011562299999999803, 0.003372609999999998, 0.01769065999999997, 0.01216463000000001, 0.012461480000000025, 0.0035331200000000007, 0.004192090000000037, 0.0034660199999999863, 0.03513836000000001, 0.029224440000000018, 0.020443549999999977, 0.013819870000000012, 0.016191900000000037, 0.01329619999999998, 0.04120913999999998, 0.003958870000000059, 0.03466957999999998, 0.02300046, 0.051733699999999994, 0.00036485999999991137, 0.0056209500000000134, 0.011267950000000027, 0.030721940000000003, 0.04007176000000001, 0.008020099999999974, 0.012627300000000008, 0.006703599999999921, 0.13293273000000005, 0.005198999999999981, 0.004928700000000008, 0.03405637, 0.025432799999999978, 0.0064998000000000555, 0.030524079999999953, 0.003472599999999937, 0.021976899999999966, 0.00069797000000002, 0.01412846000000001, 0.01806174000000005, 0.03021815, 0.007068740000000018, 0.006267499999999981, 0.097169953, 0.06219637999999994, 0.022525499999999976, 0.006412869999999904, 0.0012051600000000384, 0.027089050000000003, 0.10158869999999998, 0.03757252999999999, 0.06378984999999998, 0.0007546800000000076, 0.024117659999999985, 0.00026530000000002385, 0.12546642999999996, 0.05240250000000002, 0.0165613, 0.010205209999999965, 0.014987079999999986, 0.05637049999999999, 0.005518299999999976, 0.023747000000000074, 0.03195073000000004, 0.015805159999999985, 0.05033609, 0.004528140000000014, 0.02143813, 0.01051370000000007, 0.008199400000000079, 0.04797756000000003, 0.0005007300000000048, 0.0128256699999999, 0.0076650899999999855, 0.0005527800000000027, 0.0033843699999999144, 0.007891729999999986, 0.023525530000000017, 0.03871740000000001, 0.006942489999999996, 0.04133603999999999, 0.010848329999999962, 0.0014589100000000355, 0.048377840000000005, 0.03340254000000009, 0.002042290000000002, 0.025432799999999978, 0.02776034000000005, 0.054315850000000054, 0.005218859999999936, 0.02443261999999996, 0.013819870000000012, 0.004649470000000044, 0.005818259999999964, 0.011955099999999996, 0.008571779999999973, 0.001746089999999978, 0.005285439999999975, 0.03687075000000001, 0.011198700000000006, 0.031209120000000007, 0.035076459999999976, 0.008199400000000079, 0.004525940000000062, 0.012079550000000022, 0.012737160000000025, 0.0025998999999999883, 0.005016630000000077, 0.027733940000000068, 0.00024738900000000064, 0.0020360299999999665, 0.005937799999999993, 0.005640309999999996, 0.0011632799999999888, 0.05607660000000003, 0.030606629999999968, 0.014335149999999991, 0.00523336000000002, 0.008806529999999979, 0.006703599999999921, 0.047280091999999996, 0.03081041000000001, 0.00046532000000001905, 0.011768899999999971, 0.01879917000000003, 0.0053025700000000064, 0.00026530000000002385, 0.0395394, 0.0037006299999999825, 0.003849400000000003, 0.0010722000000000786, 0.019362860000000093, 0.025254600000000016, 0.010939230000000022, 0.0023123999999999922, 0.0015918700000000507, 0.010409700000000022, 0.01978025, 0.04940506, 0.005426579999999986, 0.04940506, 0.0015982999999999414, 0.009998669999999987, 0.01170759999999993, 0.06378624, 0.001591800000000032, 0.030350039999999967, 0.06732331999999996, 0.02163799999999999, 0.017364539999999984, 0.007306529999999922, 0.012735350000000034, 0.0018847399999999959, 0.03496603999999992, 0.036609840000000005, 0.026179880000000044, 0.0015982999999999414, 0.02130204999999996, 0.003105219999999964, 0.003470959999999995, 0.016502909999999982, 0.025651069999999998, 0.008764880000000003, 0.00357567999999997, 0.05956947000000001, 0.005937799999999993, 0.027504060000000052, 0.0011247699999999972, 0.004744540000000019, 0.005391000000000035, 0.015796299999999985, 0.015623399999999954, 0.03330571999999998, 0.005241259999999914, 0.03838365999999993, 0.03385938000000005, 0.0254937999999999, 0.016191900000000037, 0.0034252699999999803, 0.018729580000000023, 0.011803289999999994, 0.04587176999999998, 0.0168142, 0.020928665, 0.038915339999999965, 0.025586740000000052, 0.0053025700000000064, 0.014144050000000075, 0.051824270000000006, 0.01001668, 0.018607159999999956, 0.025432799999999978, 0.008888099999999954, 0.05392145999999998, 0.004952679999999987, 0.007546869999999983, 0.03486503999999996, 0.001026240000000067, 0.00020406000000006141, 0.02356720000000001, 0.04428143000000001, 0.001746089999999978, 0.005119859999999976, 0.005962999999999941, 0.05155684999999999, 0.011896200000000023, 0.017350880000000013, 0.02351236000000001, 0.08522496000000002, 0.025796599999999947, 0.005889159999999949, 0.0002574499999999924, 0.03193890999999993, 0.017693700000000034, 0.006520570000000059, 0.040632890000000005, 0.017735146000000007, 0.028256759999999992, 0.011896200000000023, 0.003651599999999977, 0.027834000000000025, 0.05345073, 0.016502909999999982, 0.005371369999999986, 0.0008266999999999997, 0.03624273, 0.008892459999999991, 0.020114750000000015, 0.01825161999999997, 0.005889240000000018, 0.003472599999999937, 0.005962999999999941, 0.002249549999999989, 0.0013374699999999518, 0.0005131000000000441, 0.012461480000000025, 0.004593500000000028, 0.07029540000000001, 0.014021180000000022, 0.04104980999999999, 0.05837199999999998, 0.018188239999999967, 0.016637349999999995, 0.06208714999999998, 0.04089993000000003, 0.013482539999999987, 0.030449859999999995, 0.07700989, 0.024088499999999957, 0.07190426, 0.00357567999999997, 0.008345700000000011, 0.02418240000000005, 0.008058399999999966, 0.01155510000000004, 0.029678830000000045, 0.014432169999999966, 0.005889240000000018, 0.007691569999999981, 0.049108304, 0.02669936000000006, 0.007071930000000004, 0.03136520999999998, 0.0007135700000000522, 0.09209699999999998, 0.019410240000000023, 0.023972260000000023, 0.008919800000000033, 0.020557559999999975, 0.11804424000000002, 0.020115969999999983, 0.0063633999999999635, 0.008199400000000079, 0.004928700000000008, 0.0025599599999999167, 0.013482539999999987, 0.00494813999999999, 0.012532629999999989, 0.0035985399999999834, 0.0011055600000000054, 0.027564199999999983, 0.05948138, 0.006487189999999976, 0.031554519999999975, 0.039144820000000025, 0.04335593999999998, 0.03348816999999993, 0.043568639999999936, 0.023972260000000023, 0.02280853000000005, 0.01235797999999999, 0.032898679999999986, 0.01245563999999999, 0.011296860000000075, 0.02309690999999997, 0.0012021000000000392, 0.04931226, 0.025483469999999953, 0.035889950000000004, 0.0055655600000000804, 0.014692420000000012, 0.0165613, 0.01676201999999999, 0.05299433999999992, 0.00685079999999999, 0.009702109999999986, 0.006828930000000011, 0.038315600000000005, 0.001156170000000012, 0.01646930000000002, 0.014173800000000014, 0.03471974, 0.038800329999999994, 0.019501639999999987, 0.014144050000000075, 0.005241259999999914, 0.01306837999999999, 0.010534930000000053, 0.031175880000000045, 0.01041976, 0.031121460000000045, 0.00357567999999997, 0.02944373, 0.048885960000000006, 0.0025794000000000095, 0.016451500000000063, 0.005427059999999928, 0.09323976, 0.010452319999999987, 0.05245564, 0.02532451999999999, 0.021952640000000023, 0.029693829999999977, 0.006152080000000004, 0.014826600000000023, 0.009545133999999997, 0.025796599999999947, 0.025432799999999978, 0.035490719999999976, 0.005796369999999995, 0.028304420000000025, 0.0064998000000000555, 0.008183759999999984, 0.0047381499999999965, 0.04864811999999996, 0.0013374699999999518, 0.004098800000000069, 0.021881999999999957, 0.014460040000000007, 0.02308470000000007, 0.0023595599999999828, 0.01598714999999995, 0.02099479999999998, 0.013612520000000003, 0.01995479999999994, 0.015848399999999985, 0.023364600000000013, 0.08135334000000005, 0.011296860000000075, 0.03214840999999999, 0.021707019999999994, 0.04625707999999995, 0.005889159999999949, 0.0401338, 0.010074589999999994, 0.032416520000000004, 0.003610250000000037, 0.012480799999999959, 0.00957320000000006, 0.02608745999999995, 0.03720920999999999, 0.01531630000000006, 0.003610250000000037, 0.014212570000000035, 0.016630540000000027, 0.0005663100000000143, 0.015561199999999997, 0.00957320000000006, 0.01374815000000007, 0.006828930000000011, 0.06338629999999998, 0.000513140000000023, 0.017738240000000016, 0.04192209000000002, 0.018657900000000005, 0.02942022999999999, 0.031689675000000014, 0.005265500000000006, 0.012173600000000007, 0.005042840000000048, 0.03756826999999996, 0.031252979999999986, 0.021299210000000013, 0.009433559999999952, 0.006455439999999979, 0.011231670000000027, 0.0021700899999999995, 0.006455439999999979, 0.00531355, 0.00020406000000006141, 0.003951329999999975, 0.07434638000000005, 0.015805159999999985, 0.07769173000000007, 0.002404230000000007, 0.02414584000000003, 0.024895470000000017, 0.0014255399999999474, 0.041930400000000034, 0.007306529999999922, 0.01860189000000001, 0.0179512, 0.006510799999999928, 0.027834000000000025, 0.03901559, 0.002042290000000002, 0.04576720000000001, 0.029765249999999965, 0.07365740000000004, 0.004867269999999979, 0.019414900000000013, 0.017104890999999997, 0.009484959999999987, 0.060130499999999976, 0.004831745999999998, 0.006154780000000026, 0.010534930000000053, 0.05114728000000002, 0.011163460000000014, 0.04712078, 0.00494813999999999, 0.0018847399999999959, 0.025796599999999947, 0.046047899999999975, 0.023514300000000044, 0.022329029999999972, 0.009633370000000085, 0.005889240000000018, 0.008064300000000024, 0.002876939999999939, 0.024101299999999992, 0.038915339999999965, 0.0013379599999999991, 0.029960700000000007, 0.016318300000000008, 0.005548700000000073, 0.012426489999999957, 0.010885939999999983, 0.05349456, 0.007312860000000032, 0.006520570000000059, 0.024146, 0.0007135700000000522, 0.033342350000000076, 0.08655852999999997, 0.01064691000000001, 0.001954910000000032, 0.016295800000000027, 0.025322869999999997, 0.004355639999999994, 0.0165613, 0.002968687999999997, 0.012252299999999994, 0.0045050100000000315, 0.0087053, 0.017150500000000013, 0.00020406000000006141, 0.03568154000000001, 0.027632220000000013, 0.06908713999999994, 0.005031049999999926, 0.010534930000000053, 0.07781897999999998, 0.004738200000000026, 0.027740450000000028, 0.005444910000000025, 0.005451700000000059, 0.007686799999999994, 0.00143844999999998, 0.016327330000000084, 0.09318365999999997, 0.14122094000000007, 0.01400390999999998, 0.032313930000000046, 0.006510799999999928, 0.013807299999999967, 0.004422099999999984, 0.049902380000000024, 0.003651599999999977, 0.01692446999999997, 0.003951329999999975, 0.010205209999999965, 0.00531355, 0.02838098, 0.015848399999999985, 0.0007135700000000522, 0.024650329999999998, 0.01423580000000002, 0.013587450000000001, 0.0015894099999999023, 0.021983099999999922, 0.07473004, 0.012872930000000005, 0.017653099999999977, 0.01483840000000003, 0.024735210000000007, 0.004738200000000026, 0.0005389399999999878, 0.05014398000000003, 0.03391666999999998, 0.006795944999999998, 0.02944570000000002, 0.023548059999999982, 0.023159730000000045, 0.006260780000000021, 0.003879119999999958, 0.013014729999999974, 0.07617669999999999, 0.021013039999999927, 0.09842963999999998, 0.06365769999999993, 0.058502910000000075, 0.00693007999999995, 0.00312121999999998, 0.016318300000000008, 0.018910480000000007, 0.003958870000000059, 0.02776034000000005, 0.021587299999999976, 0.009817860000000012, 0.002480139999999964, 0.037217814, 0.0062975659999999906, 0.03882350000000001, 0.005285439999999975, 0.005596999999999963, 0.013407019999999992, 0.005119859999999976, 0.013109870000000023, 0.006616120000000003, 0.0013016100000000086, 0.00824737999999997, 0.04953303999999997, 0.011186279999999993, 0.025409280000000034, 0.11207933, 0.01170759999999993, 0.00561155999999996, 0.027733940000000068, 0.0007511099999999993, 0.030524229999999986, 0.01129104000000003, 0.012234040000000002, 0.06106248999999997, 0.006090469999999959, 0.009998669999999987, 0.013705280000000014, 0.018242300000000045, 0.00471912999999996, 0.012971319999999953, 0.010214350000000039, 0.005285439999999975, 0.025519579999999986, 0.008771130000000016, 0.010283350000000024, 0.004013880000000025, 0.02839432000000003, 0.0011562299999999803, 0.048885960000000006, 0.03465604999999994, 0.010870349999999918, 0.006689820000000013, 0.004902210000000018, 0.00253892, 0.005240400000000034, 0.0628617, 0.01403173999999996, 0.05174031999999998, 0.0401338, 0.0019147999999999943, 0.003085260000000034, 0.03589954000000001, 0.029147709999999993, 0.0025599599999999167, 0.010132200000000008, 0.02849653000000002, 0.025821839999999985, 0.043568639999999936, 0.011163460000000014, 0.021271470000000015, 0.02012279, 0.02424733999999995, 0.03150699999999995, 0.020646209999999998, 0.052329050000000044, 0.01337737, 0.016508539999999988, 0.024442949999999963, 0.002093919999999999, 0.005708229999999981, 0.005383949999999971, 0.010192529999999977, 0.0017648000000000108, 0.005386539999999995, 0.0056209500000000134, 0.00617179000000001, 0.08781620000000001, 0.004781439999999998, 0.025432799999999978, 0.017175459999999976, 0.00830350000000002, 0.0046980000000000355, 0.013535709999999979, 0.00036485999999991137, 0.0026749399999999035, 0.00727040000000001, 0.01039422000000001, 0.005042840000000048, 0.02836326, 0.028242600000000007, 0.03691750000000005, 0.005818259999999964, 0.03179035000000008, 0.03750988999999999, 0.00967773999999999, 0.0039536000000000016, 0.03901357, 0.004279399999999989, 0.03727873999999998, 0.02961939999999999, 0.004287640000000037, 0.026575569999999993, 0.014803909999999976, 0.025432799999999978, 0.04875399000000001, 0.000433869999999989, 0.0023569500000000035, 0.0005171999999999954, 0.033867750000000085, 0.0018502999999999714, 0.004327949999999997, 0.04964325000000003, 0.05683648000000002, 0.006927580000000044, 0.03362244, 0.010199669999999994, 0.03816996, 0.03152199999999994, 0.06033123000000001, 0.006754299999999991, 0.06209699000000002, 0.015994989999999987, 0.010014399999999979, 0.0027720300000000364, 0.01096627, 0.01860842999999998, 0.021581169999999983, 0.003149389999999974, 0.020776420000000018, 0.011695049999999985, 0.0028800499999999674, 0.02580932999999999, 0.00989627999999998, 0.009767199999999976, 0.006679543000000003, 0.01518583999999995, 0.007186120000000018, 0.00900734000000003, 0.017778390000000033, 0.00705933000000003, 0.0494213, 0.029265609999999997, 0.020085340000000063, 0.00072133000000002, 0.01922094999999996, 0.00357567999999997, 0.0076320799999999855, 0.041107159999999976, 0.026002529999999996, 0.014904660000000014, 0.0033843699999999144, 0.00026530000000002385, 0.12496006000000004, 0.03313070000000001, 0.0165613, 0.020827399999999996, 0.013521499999999964, 0.014826600000000023, 0.34959516, 0.00529962000000006, 0.0023664399999999974, 0.006651459999999998, 0.02468880000000001, 0.005031049999999926, 0.06522962000000004, 0.017676970000000014, 0.038513940000000024, 0.04314965000000004, 0.0165613, 0.02027829999999997, 0.00935532, 0.008095584999999995, 0.017778390000000033, 0.043381859999999994, 0.018268700000000027, 0.014826600000000023, 0.0075905500000000015, 0.024442949999999963, 0.01403173999999996, 0.010505890000000018, 0.030114649999999965, 0.011896200000000023, 0.04378410999999999, 0.020624699999999996, 0.00883510999999998, 0.0031264300000000134, 0.053788520000000006, 0.007691569999999981, 0.03283423000000002, 0.005889240000000018, 0.04134330000000003, 0.03266466000000001, 0.005048700000000017, 0.011925949999999963, 0.004319420000000018, 0.0385201, 0.020197719999999975, 0.04736277, 0.027027010000000004, 0.0018033100000000024, 0.0009306300000000156, 0.000513140000000023, 0.08853249999999999, 0.05716052999999999, 0.012204361999999996, 0.05223989000000001, 0.025284959999999967, 0.025275199999999998, 0.00010670000000001512, 0.008789660000000032, 0.023904389999999998, 0.001676199999999961, 0.008020099999999974, 0.005119859999999976, 0.04657156000000007, 0.015721380000000007, 0.015549050000000009, 0.012474150000000017, 0.008401451999999997, 0.004947807999999998, 0.026799101999999998, 0.009803649999999997, 0.02482994999999999, 0.025122689999999975, 0.0165613, 0.02859210000000001, 0.01138306, 0.005386539999999995, 0.02737328, 0.023030930000000005, 0.0008665100000000148, 0.07561583999999999, 0.02682583999999999, 0.017616129999999952, 0.04215180000000002, 0.021252539999999986, 0.006966870000000014, 0.009121119999999983, 0.02370799999999998, 0.0015311799999999653, 0.1002805, 0.006872299999999998, 0.049477400000000005, 0.021289369999999974, 0.011567299999999947, 0.08327034, 0.005596999999999963, 0.03847822000000001, 0.03429274, 0.04547242000000001, 0.034948919999999994, 0.016327330000000084, 0.030159139999999973, 0.041546730000000004, 0.0036364999999999315, 0.02795861999999999, 0.006377849999999963, 0.014600659999999932, 0.03765254000000007, 0.00961266999999999, 0.08000229999999997, 0.02556915000000004, 0.005451700000000059, 0.020325150000000014, 0.013946899999999984, 0.04808754999999998, 0.023972260000000023, 0.0012295800000000079, 0.04006893999999994, 0.033961240000000004, 0.002771639999999964, 0.019501639999999987, 0.007686799999999994, 0.01620104, 0.000930040000000007, 0.023972260000000023, 0.03687514000000003, 0.04290276999999998, 0.012247460000000043, 0.009121119999999983, 0.0031837000000000115, 0.056781899999999996, 0.017887840000000002, 0.01902812999999992, 0.013292189999999995, 0.01017875, 0.05807420999999999, 0.0032194299999999954, 0.030861079999999985, 0.006655300000000031, 0.00916260999999996, 0.014433399999999985, 0.02689830000000004, 0.012333919999999998, 0.009963399999999956, 0.03021815, 0.03371963, 0.041797169999999995, 0.00657932, 0.02163799999999999, 0.01697464999999998, 0.013014729999999974, 0.01342388, 0.07709738, 0.012215899999999946, 0.006975830000000016, 0.007683019999999985, 0.02897250999999998, 0.01155509999999993, 0.020729720000000007, 0.0017992800000000142, 0.008932249999999975, 0.03227343999999999, 0.00312121999999998, 0.03055410000000003, 0.017693700000000034, 0.015534029999999976, 0.018988499999999964, 0.020213099999999984, 0.027050740000000018, 0.006382594000000005, 0.017075810000000025, 0.0012295800000000079, 0.0005145100000000236, 0.022112789999999993, 0.019444359999999994, 0.042921130000000016, 0.029458339999999916, 0.02402473999999999, 0.06365477999999997, 0.038833090000000015, 0.01919842999999999, 0.002748439999999963, 0.008990439999999933, 0.010870349999999918, 0.05578848999999997, 0.01403173999999996, 0.0015955000000000275, 0.0036094999999999877, 0.002759799999999979, 0.005386539999999995, 0.02280853000000005, 9.673999999998406e-05, 0.025084759999999984, 0.005708200000000052, 0.001105549999999983, 0.016327330000000084, 0.038191950000000016, 0.010534930000000053, 0.13757766000000005, 0.0003874999999999851, 0.0015982999999999414, 0.004103059999999992, 0.0010032999999999848, 0.029710000000000014, 0.06472115, 0.00480214000000001, 0.0038008399999999998, 0.02819927, 0.006780269999999977, 0.022414360000000022, 0.03901379999999999, 0.03571615, 0.08674000000000004, 0.006167559999999961, 0.00883510999999998, 0.0025794000000000095, 0.03746453999999999, 0.006569660000000033, 0.03322850000000005, 0.0494213, 0.03143466, 0.011405120000000019, 0.014373320000000023, 0.009984170000000014, 0.04325736000000002, 0.01841313999999994, 0.005117700000000003, 0.009633370000000085, 0.014173800000000014, 0.004391400000000045, 0.0033843699999999144, 0.020390489999999997, 0.06856614000000003, 0.011896200000000023, 0.007122519999999993, 0.014290059999999993, 0.039459969999999955, 0.008687099999999948, 0.016903520000000005, 0.01722986999999998, 0.035429350000000026, 0.003616510000000017, 0.0005527800000000027, 0.01825108999999997, 0.003610250000000037, 0.020672760000000012, 0.020888459999999998, 0.020443549999999977, 0.012704309999999996, 0.01433375399999999, 0.03558806000000003, 0.027037619999999984, 0.01301125000000003, 0.00867809, 0.017453700000000016, 0.056062299999999954, 0.00494813999999999, 0.00424469999999999, 0.009064530000000015, 0.008206250000000082, 0.003472599999999937, 0.022961539999999947, 0.006828930000000011, 0.030173329999999943, 0.004316050000000016, 0.016311560000000003, 0.03887489999999999, 0.0039010999999999907, 0.0004947819999999992, 0.0022191000000000294, 0.06711754000000003, 0.024538570000000037, 0.0077370700000000125, 0.038513940000000024, 0.0012295800000000079, 0.0015492599999999968, 0.01023637999999999, 0.009557490000000002, 0.06070007999999999, 0.06639137, 0.016549999999999954, 0.03152199999999994, 0.011807860000000003, 0.01305617000000002, 0.01342388, 0.00916260999999996, 0.008505129999999972, 0.002850619999999998, 0.0030988600000000366, 0.09824529999999998, 0.02415899999999993, 0.0007725000000000093, 0.029960700000000007, 0.0165613, 0.014144050000000075, 0.001756733999999996, 0.03758788000000002, 0.013819870000000012, 0.007816670000000026, 0.04980337999999995, 0.01546184000000006, 0.00780230000000004, 0.021369269999999996, 0.0036378599999999928, 0.0033843699999999144, 0.023929979999999962, 0.0013265000000000082, 0.022637510000000027, 0.04378932999999996, 0.008411277000000002, 0.025254600000000016, 0.00018633999999995154, 0.038513940000000024, 0.03359179999999995, 0.0009502200000000016, 0.005671360000000014, 0.017762029999999984, 0.04479946000000001, 0.06922486, 0.07404834999999999, 0.009089769999999997, 0.023452669999999953, 0.008581399999999961, 0.03492995999999998, 0.024437989999999965, 0.03566349000000002, 0.016483970000000014, 0.024218020000000007, 0.02420321999999997, 0.008345700000000011, 0.005451700000000059, 0.0040138799999999974, 0.005048700000000017, 0.04575779999999996, 0.015549050000000009, 0.0016681400000000401, 0.016442800000000035, 0.008206250000000082, 0.025432799999999978, 0.04224810000000001, 0.019091800000000006, 0.0021883600000000003, 0.0022833899999999963, 0.039974940000000014, 0.018796299999999988, 0.011908299999999983]\n",
      "(6560, 111)\n",
      "111\n"
     ]
    }
   ],
   "source": [
    "print(increase_degree)\n",
    "print(df.shape)\n",
    "\n",
    "# print column names of df\n",
    "print(len(df.columns))"
   ]
  },
  {
   "cell_type": "code",
   "execution_count": 158,
   "metadata": {},
   "outputs": [],
   "source": [
    "df[\"increase_degree\"] = increase_degree"
   ]
  },
  {
   "cell_type": "code",
   "execution_count": 159,
   "metadata": {},
   "outputs": [
    {
     "data": {
      "text/html": [
       "<div>\n",
       "<style scoped>\n",
       "    .dataframe tbody tr th:only-of-type {\n",
       "        vertical-align: middle;\n",
       "    }\n",
       "\n",
       "    .dataframe tbody tr th {\n",
       "        vertical-align: top;\n",
       "    }\n",
       "\n",
       "    .dataframe thead th {\n",
       "        text-align: right;\n",
       "    }\n",
       "</style>\n",
       "<table border=\"1\" class=\"dataframe\">\n",
       "  <thead>\n",
       "    <tr style=\"text-align: right;\">\n",
       "      <th></th>\n",
       "      <th>acomp_focusing_like</th>\n",
       "      <th>aint_be</th>\n",
       "      <th>aint_before_main</th>\n",
       "      <th>aint_have</th>\n",
       "      <th>analytic_superlative</th>\n",
       "      <th>analytic_whose_relativizer</th>\n",
       "      <th>anaphoric_it</th>\n",
       "      <th>bare_past_tense</th>\n",
       "      <th>bare_perfect</th>\n",
       "      <th>be_perfect</th>\n",
       "      <th>...</th>\n",
       "      <th>who_at</th>\n",
       "      <th>who_what</th>\n",
       "      <th>who_which</th>\n",
       "      <th>will_would</th>\n",
       "      <th>yall</th>\n",
       "      <th>your_you</th>\n",
       "      <th>zero_degree</th>\n",
       "      <th>zero_plural</th>\n",
       "      <th>zero_plural_after_quantifier</th>\n",
       "      <th>increase_degree</th>\n",
       "    </tr>\n",
       "  </thead>\n",
       "  <tbody>\n",
       "    <tr>\n",
       "      <th>0</th>\n",
       "      <td>0</td>\n",
       "      <td>0</td>\n",
       "      <td>0</td>\n",
       "      <td>0</td>\n",
       "      <td>0</td>\n",
       "      <td>0</td>\n",
       "      <td>0</td>\n",
       "      <td>0</td>\n",
       "      <td>1</td>\n",
       "      <td>0</td>\n",
       "      <td>...</td>\n",
       "      <td>0</td>\n",
       "      <td>0</td>\n",
       "      <td>0</td>\n",
       "      <td>0</td>\n",
       "      <td>0</td>\n",
       "      <td>0</td>\n",
       "      <td>0</td>\n",
       "      <td>0</td>\n",
       "      <td>1</td>\n",
       "      <td>0.009090</td>\n",
       "    </tr>\n",
       "    <tr>\n",
       "      <th>1</th>\n",
       "      <td>0</td>\n",
       "      <td>0</td>\n",
       "      <td>1</td>\n",
       "      <td>0</td>\n",
       "      <td>0</td>\n",
       "      <td>0</td>\n",
       "      <td>0</td>\n",
       "      <td>1</td>\n",
       "      <td>0</td>\n",
       "      <td>0</td>\n",
       "      <td>...</td>\n",
       "      <td>0</td>\n",
       "      <td>0</td>\n",
       "      <td>0</td>\n",
       "      <td>0</td>\n",
       "      <td>0</td>\n",
       "      <td>0</td>\n",
       "      <td>0</td>\n",
       "      <td>0</td>\n",
       "      <td>0</td>\n",
       "      <td>0.038017</td>\n",
       "    </tr>\n",
       "    <tr>\n",
       "      <th>2</th>\n",
       "      <td>0</td>\n",
       "      <td>0</td>\n",
       "      <td>0</td>\n",
       "      <td>0</td>\n",
       "      <td>0</td>\n",
       "      <td>0</td>\n",
       "      <td>0</td>\n",
       "      <td>0</td>\n",
       "      <td>0</td>\n",
       "      <td>0</td>\n",
       "      <td>...</td>\n",
       "      <td>0</td>\n",
       "      <td>0</td>\n",
       "      <td>0</td>\n",
       "      <td>0</td>\n",
       "      <td>0</td>\n",
       "      <td>0</td>\n",
       "      <td>0</td>\n",
       "      <td>1</td>\n",
       "      <td>0</td>\n",
       "      <td>0.008835</td>\n",
       "    </tr>\n",
       "    <tr>\n",
       "      <th>3</th>\n",
       "      <td>0</td>\n",
       "      <td>0</td>\n",
       "      <td>0</td>\n",
       "      <td>0</td>\n",
       "      <td>0</td>\n",
       "      <td>0</td>\n",
       "      <td>0</td>\n",
       "      <td>0</td>\n",
       "      <td>0</td>\n",
       "      <td>0</td>\n",
       "      <td>...</td>\n",
       "      <td>0</td>\n",
       "      <td>0</td>\n",
       "      <td>0</td>\n",
       "      <td>0</td>\n",
       "      <td>0</td>\n",
       "      <td>0</td>\n",
       "      <td>0</td>\n",
       "      <td>0</td>\n",
       "      <td>0</td>\n",
       "      <td>0.014342</td>\n",
       "    </tr>\n",
       "    <tr>\n",
       "      <th>4</th>\n",
       "      <td>0</td>\n",
       "      <td>0</td>\n",
       "      <td>0</td>\n",
       "      <td>0</td>\n",
       "      <td>0</td>\n",
       "      <td>0</td>\n",
       "      <td>0</td>\n",
       "      <td>0</td>\n",
       "      <td>0</td>\n",
       "      <td>0</td>\n",
       "      <td>...</td>\n",
       "      <td>0</td>\n",
       "      <td>0</td>\n",
       "      <td>0</td>\n",
       "      <td>0</td>\n",
       "      <td>0</td>\n",
       "      <td>0</td>\n",
       "      <td>0</td>\n",
       "      <td>0</td>\n",
       "      <td>0</td>\n",
       "      <td>0.041343</td>\n",
       "    </tr>\n",
       "    <tr>\n",
       "      <th>...</th>\n",
       "      <td>...</td>\n",
       "      <td>...</td>\n",
       "      <td>...</td>\n",
       "      <td>...</td>\n",
       "      <td>...</td>\n",
       "      <td>...</td>\n",
       "      <td>...</td>\n",
       "      <td>...</td>\n",
       "      <td>...</td>\n",
       "      <td>...</td>\n",
       "      <td>...</td>\n",
       "      <td>...</td>\n",
       "      <td>...</td>\n",
       "      <td>...</td>\n",
       "      <td>...</td>\n",
       "      <td>...</td>\n",
       "      <td>...</td>\n",
       "      <td>...</td>\n",
       "      <td>...</td>\n",
       "      <td>...</td>\n",
       "      <td>...</td>\n",
       "    </tr>\n",
       "    <tr>\n",
       "      <th>6555</th>\n",
       "      <td>0</td>\n",
       "      <td>0</td>\n",
       "      <td>0</td>\n",
       "      <td>0</td>\n",
       "      <td>0</td>\n",
       "      <td>0</td>\n",
       "      <td>0</td>\n",
       "      <td>0</td>\n",
       "      <td>0</td>\n",
       "      <td>0</td>\n",
       "      <td>...</td>\n",
       "      <td>0</td>\n",
       "      <td>0</td>\n",
       "      <td>0</td>\n",
       "      <td>0</td>\n",
       "      <td>0</td>\n",
       "      <td>0</td>\n",
       "      <td>0</td>\n",
       "      <td>0</td>\n",
       "      <td>0</td>\n",
       "      <td>0.002188</td>\n",
       "    </tr>\n",
       "    <tr>\n",
       "      <th>6556</th>\n",
       "      <td>0</td>\n",
       "      <td>0</td>\n",
       "      <td>0</td>\n",
       "      <td>0</td>\n",
       "      <td>0</td>\n",
       "      <td>0</td>\n",
       "      <td>0</td>\n",
       "      <td>0</td>\n",
       "      <td>0</td>\n",
       "      <td>0</td>\n",
       "      <td>...</td>\n",
       "      <td>0</td>\n",
       "      <td>0</td>\n",
       "      <td>0</td>\n",
       "      <td>0</td>\n",
       "      <td>0</td>\n",
       "      <td>0</td>\n",
       "      <td>0</td>\n",
       "      <td>1</td>\n",
       "      <td>0</td>\n",
       "      <td>0.002283</td>\n",
       "    </tr>\n",
       "    <tr>\n",
       "      <th>6557</th>\n",
       "      <td>0</td>\n",
       "      <td>0</td>\n",
       "      <td>0</td>\n",
       "      <td>0</td>\n",
       "      <td>0</td>\n",
       "      <td>0</td>\n",
       "      <td>0</td>\n",
       "      <td>0</td>\n",
       "      <td>1</td>\n",
       "      <td>0</td>\n",
       "      <td>...</td>\n",
       "      <td>0</td>\n",
       "      <td>0</td>\n",
       "      <td>0</td>\n",
       "      <td>0</td>\n",
       "      <td>0</td>\n",
       "      <td>0</td>\n",
       "      <td>0</td>\n",
       "      <td>0</td>\n",
       "      <td>0</td>\n",
       "      <td>0.039975</td>\n",
       "    </tr>\n",
       "    <tr>\n",
       "      <th>6558</th>\n",
       "      <td>0</td>\n",
       "      <td>0</td>\n",
       "      <td>0</td>\n",
       "      <td>0</td>\n",
       "      <td>0</td>\n",
       "      <td>0</td>\n",
       "      <td>0</td>\n",
       "      <td>1</td>\n",
       "      <td>0</td>\n",
       "      <td>0</td>\n",
       "      <td>...</td>\n",
       "      <td>0</td>\n",
       "      <td>0</td>\n",
       "      <td>0</td>\n",
       "      <td>0</td>\n",
       "      <td>1</td>\n",
       "      <td>0</td>\n",
       "      <td>0</td>\n",
       "      <td>0</td>\n",
       "      <td>0</td>\n",
       "      <td>0.018796</td>\n",
       "    </tr>\n",
       "    <tr>\n",
       "      <th>6559</th>\n",
       "      <td>0</td>\n",
       "      <td>0</td>\n",
       "      <td>0</td>\n",
       "      <td>0</td>\n",
       "      <td>0</td>\n",
       "      <td>0</td>\n",
       "      <td>0</td>\n",
       "      <td>0</td>\n",
       "      <td>1</td>\n",
       "      <td>1</td>\n",
       "      <td>...</td>\n",
       "      <td>1</td>\n",
       "      <td>0</td>\n",
       "      <td>0</td>\n",
       "      <td>0</td>\n",
       "      <td>0</td>\n",
       "      <td>0</td>\n",
       "      <td>0</td>\n",
       "      <td>0</td>\n",
       "      <td>0</td>\n",
       "      <td>0.011908</td>\n",
       "    </tr>\n",
       "  </tbody>\n",
       "</table>\n",
       "<p>6560 rows × 112 columns</p>\n",
       "</div>"
      ],
      "text/plain": [
       "      acomp_focusing_like  aint_be  aint_before_main  aint_have  \\\n",
       "0                       0        0                 0          0   \n",
       "1                       0        0                 1          0   \n",
       "2                       0        0                 0          0   \n",
       "3                       0        0                 0          0   \n",
       "4                       0        0                 0          0   \n",
       "...                   ...      ...               ...        ...   \n",
       "6555                    0        0                 0          0   \n",
       "6556                    0        0                 0          0   \n",
       "6557                    0        0                 0          0   \n",
       "6558                    0        0                 0          0   \n",
       "6559                    0        0                 0          0   \n",
       "\n",
       "      analytic_superlative  analytic_whose_relativizer  anaphoric_it  \\\n",
       "0                        0                           0             0   \n",
       "1                        0                           0             0   \n",
       "2                        0                           0             0   \n",
       "3                        0                           0             0   \n",
       "4                        0                           0             0   \n",
       "...                    ...                         ...           ...   \n",
       "6555                     0                           0             0   \n",
       "6556                     0                           0             0   \n",
       "6557                     0                           0             0   \n",
       "6558                     0                           0             0   \n",
       "6559                     0                           0             0   \n",
       "\n",
       "      bare_past_tense  bare_perfect  be_perfect  ...  who_at  who_what  \\\n",
       "0                   0             1           0  ...       0         0   \n",
       "1                   1             0           0  ...       0         0   \n",
       "2                   0             0           0  ...       0         0   \n",
       "3                   0             0           0  ...       0         0   \n",
       "4                   0             0           0  ...       0         0   \n",
       "...               ...           ...         ...  ...     ...       ...   \n",
       "6555                0             0           0  ...       0         0   \n",
       "6556                0             0           0  ...       0         0   \n",
       "6557                0             1           0  ...       0         0   \n",
       "6558                1             0           0  ...       0         0   \n",
       "6559                0             1           1  ...       1         0   \n",
       "\n",
       "      who_which  will_would  yall  your_you  zero_degree  zero_plural  \\\n",
       "0             0           0     0         0            0            0   \n",
       "1             0           0     0         0            0            0   \n",
       "2             0           0     0         0            0            1   \n",
       "3             0           0     0         0            0            0   \n",
       "4             0           0     0         0            0            0   \n",
       "...         ...         ...   ...       ...          ...          ...   \n",
       "6555          0           0     0         0            0            0   \n",
       "6556          0           0     0         0            0            1   \n",
       "6557          0           0     0         0            0            0   \n",
       "6558          0           0     1         0            0            0   \n",
       "6559          0           0     0         0            0            0   \n",
       "\n",
       "      zero_plural_after_quantifier  increase_degree  \n",
       "0                                1         0.009090  \n",
       "1                                0         0.038017  \n",
       "2                                0         0.008835  \n",
       "3                                0         0.014342  \n",
       "4                                0         0.041343  \n",
       "...                            ...              ...  \n",
       "6555                             0         0.002188  \n",
       "6556                             0         0.002283  \n",
       "6557                             0         0.039975  \n",
       "6558                             0         0.018796  \n",
       "6559                             0         0.011908  \n",
       "\n",
       "[6560 rows x 112 columns]"
      ]
     },
     "execution_count": 159,
     "metadata": {},
     "output_type": "execute_result"
    }
   ],
   "source": [
    "df"
   ]
  },
  {
   "cell_type": "code",
   "execution_count": 160,
   "metadata": {},
   "outputs": [
    {
     "data": {
      "text/plain": [
       "112"
      ]
     },
     "execution_count": 160,
     "metadata": {},
     "output_type": "execute_result"
    }
   ],
   "source": [
    "len(df.columns)"
   ]
  },
  {
   "cell_type": "code",
   "execution_count": 186,
   "metadata": {},
   "outputs": [],
   "source": [
    "results = []\n",
    "\n",
    "for i in range(len(df.columns) - 1):\n",
    "    column_name = df.columns[i]\n",
    "\n",
    "    r, p = stats.pointbiserialr(df[column_name], df[\"increase_degree\"])\n",
    "    if p < 0.05:\n",
    "        significant = {column_name: (r, p)}\n",
    "        results.append(significant)\n",
    "\n",
    "results = sorted(results, key=lambda x: list(x.values())[0][1])"
   ]
  },
  {
   "cell_type": "code",
   "execution_count": null,
   "metadata": {},
   "outputs": [],
   "source": []
  },
  {
   "cell_type": "code",
   "execution_count": null,
   "metadata": {},
   "outputs": [],
   "source": []
  },
  {
   "cell_type": "code",
   "execution_count": null,
   "metadata": {},
   "outputs": [],
   "source": []
  },
  {
   "cell_type": "code",
   "execution_count": null,
   "metadata": {},
   "outputs": [],
   "source": []
  },
  {
   "cell_type": "code",
   "execution_count": null,
   "metadata": {},
   "outputs": [],
   "source": []
  },
  {
   "cell_type": "code",
   "execution_count": null,
   "metadata": {},
   "outputs": [],
   "source": []
  },
  {
   "cell_type": "code",
   "execution_count": null,
   "metadata": {},
   "outputs": [],
   "source": []
  },
  {
   "cell_type": "code",
   "execution_count": null,
   "metadata": {},
   "outputs": [],
   "source": []
  },
  {
   "cell_type": "code",
   "execution_count": null,
   "metadata": {},
   "outputs": [],
   "source": []
  },
  {
   "cell_type": "code",
   "execution_count": null,
   "metadata": {},
   "outputs": [],
   "source": []
  },
  {
   "cell_type": "code",
   "execution_count": null,
   "metadata": {},
   "outputs": [],
   "source": []
  },
  {
   "cell_type": "code",
   "execution_count": null,
   "metadata": {},
   "outputs": [],
   "source": []
  },
  {
   "cell_type": "code",
   "execution_count": null,
   "metadata": {},
   "outputs": [],
   "source": []
  },
  {
   "cell_type": "code",
   "execution_count": null,
   "metadata": {},
   "outputs": [],
   "source": []
  },
  {
   "cell_type": "code",
   "execution_count": null,
   "metadata": {},
   "outputs": [],
   "source": []
  },
  {
   "cell_type": "code",
   "execution_count": null,
   "metadata": {},
   "outputs": [],
   "source": []
  },
  {
   "cell_type": "code",
   "execution_count": null,
   "metadata": {},
   "outputs": [],
   "source": []
  }
 ],
 "metadata": {
  "kernelspec": {
   "display_name": "BASE",
   "language": "python",
   "name": "python3"
  },
  "language_info": {
   "codemirror_mode": {
    "name": "ipython",
    "version": 3
   },
   "file_extension": ".py",
   "mimetype": "text/x-python",
   "name": "python",
   "nbconvert_exporter": "python",
   "pygments_lexer": "ipython3",
   "version": "3.11.8"
  }
 },
 "nbformat": 4,
 "nbformat_minor": 2
}
