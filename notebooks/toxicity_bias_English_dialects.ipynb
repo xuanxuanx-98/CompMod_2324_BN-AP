{
 "cells": [
  {
   "cell_type": "code",
   "execution_count": 6,
   "metadata": {},
   "outputs": [],
   "source": [
    "import sys\n",
    "import os\n",
    "import pickle as pkl\n",
    "\n",
    "import argparse\n",
    "from src.Dialects import AfricanAmericanVernacular\n",
    "from src.Dialects import ColloquialSingaporeDialect\n",
    "from src.Dialects import IndianDialect"
   ]
  },
  {
   "cell_type": "code",
   "execution_count": 7,
   "metadata": {},
   "outputs": [],
   "source": [
    "sae_sentence = \"What the hell are those shits in my backyard??\""
   ]
  },
  {
   "cell_type": "code",
   "execution_count": 8,
   "metadata": {},
   "outputs": [
    {
     "name": "stdout",
     "output_type": "stream",
     "text": [
      "What the hell those there shits in my backyard??\n"
     ]
    },
    {
     "data": {
      "text/plain": [
       "{(18, 22): {'value': 'those there',\n",
       "  'type': 'proximal_distal_demonstratives',\n",
       "  'token_alignment': {}},\n",
       " (14, 17): {'value': '', 'type': 'drop_copula_be_NP', 'token_alignment': {}}}"
      ]
     },
     "execution_count": 8,
     "metadata": {},
     "output_type": "execute_result"
    }
   ],
   "source": [
    "aave = AfricanAmericanVernacular()\n",
    "\n",
    "print(aave.convert_sae_to_dialect(sae_sentence))\n",
    "aave.executed_rules"
   ]
  },
  {
   "cell_type": "code",
   "execution_count": 9,
   "metadata": {},
   "outputs": [
    {
     "name": "stdout",
     "output_type": "stream",
     "text": [
      "What hell those shit my backyard??\n"
     ]
    },
    {
     "data": {
      "text/plain": [
       "{(14, 17): {'value': '', 'type': 'drop_aux_wh', 'token_alignment': {}},\n",
       " (5, 8): {'value': '', 'type': 'remove_det_definite', 'token_alignment': {}},\n",
       " (24, 28): {'value': 'shit', 'type': 'zero_plural', 'token_alignment': {}},\n",
       " (30, 32): {'value': '', 'type': 'null_prepositions', 'token_alignment': {}}}"
      ]
     },
     "execution_count": 9,
     "metadata": {},
     "output_type": "execute_result"
    }
   ],
   "source": [
    "csd = ColloquialSingaporeDialect()\n",
    "\n",
    "print(csd.convert_sae_to_dialect(sae_sentence))\n",
    "csd.executed_rules"
   ]
  },
  {
   "cell_type": "code",
   "execution_count": 10,
   "metadata": {},
   "outputs": [
    {
     "name": "stdout",
     "output_type": "stream",
     "text": [
      "What the hell one those shit my backyard??\n"
     ]
    },
    {
     "data": {
      "text/plain": [
       "{(14, 17): {'value': '', 'type': 'drop_aux_wh', 'token_alignment': {}},\n",
       " (24, 28): {'value': 'shit', 'type': 'zero_plural', 'token_alignment': {}},\n",
       " (9, 12): {'value': 'the hell one',\n",
       "  'type': 'one_relativizer',\n",
       "  'token_alignment': {}},\n",
       " (5, 8): {'value': '', 'type': 'one_relativizer', 'token_alignment': {}},\n",
       " (30, 32): {'value': '', 'type': 'null_prepositions', 'token_alignment': {}}}"
      ]
     },
     "execution_count": 10,
     "metadata": {},
     "output_type": "execute_result"
    }
   ],
   "source": [
    "id = ColloquialSingaporeDialect()\n",
    "\n",
    "print(id.convert_sae_to_dialect(sae_sentence))\n",
    "id.executed_rules"
   ]
  }
 ],
 "metadata": {
  "kernelspec": {
   "display_name": "MultiV",
   "language": "python",
   "name": "python3"
  },
  "language_info": {
   "codemirror_mode": {
    "name": "ipython",
    "version": 3
   },
   "file_extension": ".py",
   "mimetype": "text/x-python",
   "name": "python",
   "nbconvert_exporter": "python",
   "pygments_lexer": "ipython3",
   "version": "3.7.13"
  }
 },
 "nbformat": 4,
 "nbformat_minor": 2
}
