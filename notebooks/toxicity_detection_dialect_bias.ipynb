{
 "cells": [
  {
   "cell_type": "code",
   "execution_count": 2,
   "metadata": {},
   "outputs": [],
   "source": [
    "import numpy as np\n",
    "import pandas as pd\n",
    "import matplotlib.pyplot as plt\n",
    "from tqdm import tqdm\n",
    "from collections import Counter\n",
    "\n",
    "from transformers import pipeline\n",
    "\n",
    "from scipy.stats import ks_2samp\n",
    "from scipy.stats import mannwhitneyu"
   ]
  },
  {
   "cell_type": "code",
   "execution_count": 3,
   "metadata": {},
   "outputs": [],
   "source": [
    "# load toxicity annotation model\n",
    "toxpipe = pipeline(\"text-classification\", model=\"cooperleong00/deberta-v3-large_toxicity-scorer\")"
   ]
  },
  {
   "cell_type": "markdown",
   "metadata": {},
   "source": [
    "## Wiki-Detox"
   ]
  },
  {
   "cell_type": "code",
   "execution_count": 32,
   "metadata": {},
   "outputs": [],
   "source": [
    "# read in original data\n",
    "df = pd.read_csv('../data/wiki-detox/original_detox.tsv',sep='\\t')\n",
    "\n",
    "# read in dialect subsets\n",
    "aave = pd.read_json(\"../data/wiki-detox/aave_1k.jsonl\", lines=True)\n",
    "nigerianD = pd.read_json(\"../data/wiki-detox/nigerianD_1k.jsonl\", lines=True)\n",
    "indianD = pd.read_json(\"../data/wiki-detox/indianD_1k.jsonl\", lines=True)\n",
    "singlish = pd.read_json(\"../data/wiki-detox/singlish_1k.jsonl\", lines=True)\n",
    "\n",
    "# get the first 1000 toxicity scores in dfa for development\n",
    "df_sample = df.iloc[:1000]"
   ]
  },
  {
   "cell_type": "markdown",
   "metadata": {},
   "source": [
    "### run DeBERTa toxicity scorer on the original texts and all 4 dialects"
   ]
  },
  {
   "cell_type": "code",
   "execution_count": 33,
   "metadata": {},
   "outputs": [],
   "source": [
    "def get_label_confidence(sents):\n",
    "    label_confidence = []  # list of tuple\n",
    "    for sent in tqdm(sents):\n",
    "        result = toxpipe(sent)[0]\n",
    "\n",
    "        # confidence: numerical score of toxicity rating: (-1 ~ 1)\n",
    "        if result[\"label\"] == \"LABEL_1\":  # convert score to negative if labeled as toxic\n",
    "            label = 1  # 1: toxic == true\n",
    "            confidence = -result[\"score\"]\n",
    "        else:\n",
    "            label = 0  # 0: toxic == false\n",
    "            confidence = result[\"score\"]\n",
    "\n",
    "        res = [label, confidence]\n",
    "        label_confidence.append(res)\n",
    "\n",
    "    # convert results to a dataframe with labels\n",
    "    lconf = pd.DataFrame(label_confidence, columns =['label', 'confidence'], dtype = float) \n",
    "    \n",
    "    return lconf"
   ]
  },
  {
   "cell_type": "code",
   "execution_count": 34,
   "metadata": {},
   "outputs": [
    {
     "name": "stderr",
     "output_type": "stream",
     "text": [
      "100%|██████████| 1000/1000 [13:08<00:00,  1.27it/s]\n",
      "100%|██████████| 1000/1000 [14:21<00:00,  1.16it/s]\n",
      "100%|██████████| 1000/1000 [13:07<00:00,  1.27it/s]\n",
      "100%|██████████| 1000/1000 [15:25<00:00,  1.08it/s]\n",
      "100%|██████████| 1000/1000 [15:09<00:00,  1.10it/s] \n"
     ]
    }
   ],
   "source": [
    "lconf_og_1k = get_label_confidence(df[\"comment\"][:1000])\n",
    "lconf_og_1k.to_csv(\"../data/wiki-detox/lconf_original_1k.csv\", sep=\",\", index=False)\n",
    "\n",
    "lconf_aave_1k = get_label_confidence(aave[\"text\"])\n",
    "lconf_aave_1k.to_csv(\"../data/wiki-detox/lconf_aave_1k.csv\", sep=\",\", index=False)\n",
    "\n",
    "lconf_nigerianD_1k = get_label_confidence(nigerianD[\"text\"])\n",
    "lconf_nigerianD_1k.to_csv(\"../data/wiki-detox/lconf_nigerianD_1k.csv\", sep=\",\", index=False)\n",
    "\n",
    "lconf_indianD_1k = get_label_confidence(indianD[\"text\"])\n",
    "lconf_indianD_1k.to_csv(\"../data/wiki-detox/lconf_indianD_1k.csv\", sep=\",\", index=False)\n",
    "\n",
    "lconf_singlish_1k = get_label_confidence(singlish[\"text\"])\n",
    "lconf_singlish_1k.to_csv(\"../data/wiki-detox/lconf_singlish_1k.csv\", sep=\",\", index=False)"
   ]
  },
  {
   "cell_type": "markdown",
   "metadata": {},
   "source": [
    "### check results on Wiki-Detox"
   ]
  },
  {
   "cell_type": "code",
   "execution_count": 35,
   "metadata": {},
   "outputs": [
    {
     "name": "stdout",
     "output_type": "stream",
     "text": [
      "Counter({0.0: 964, 1.0: 36})\n",
      "Counter({0.0: 963, 1.0: 37})\n",
      "Counter({0.0: 965, 1.0: 35})\n",
      "Counter({0.0: 966, 1.0: 34})\n",
      "Counter({0.0: 963, 1.0: 37})\n"
     ]
    }
   ],
   "source": [
    "# load saved predictions and check distribution of labels   \n",
    "lconf_og_1k = pd.read_csv(\"../data/wiki-detox/lconf_original_1k.csv\")\n",
    "lconf_aave_1k = pd.read_csv(\"../data/wiki-detox/lconf_aave_1k.csv\")\n",
    "lconf_nigerianD_1k = pd.read_csv(\"../data/wiki-detox/lconf_nigerianD_1k.csv\")\n",
    "lconf_indianD_1k = pd.read_csv(\"../data/wiki-detox/lconf_indianD_1k.csv\")\n",
    "lconf_singlish_1k = pd.read_csv(\"../data/wiki-detox/lconf_singlish_1k.csv\")\n",
    "\n",
    "print(Counter(lconf_og_1k[\"label\"]))\n",
    "print(Counter(lconf_aave_1k[\"label\"]))\n",
    "print(Counter(lconf_nigerianD_1k[\"label\"]))\n",
    "print(Counter(lconf_indianD_1k[\"label\"]))\n",
    "print(Counter(lconf_singlish_1k[\"label\"]))"
   ]
  },
  {
   "cell_type": "code",
   "execution_count": 36,
   "metadata": {},
   "outputs": [
    {
     "data": {
      "image/png": "[encoded data removed]",
      "text/plain": [
       "<Figure size 640x480 with 1 Axes>"
      ]
     },
     "metadata": {},
     "output_type": "display_data"
    }
   ],
   "source": [
    "plt.hist(lconf_og_1k[\"confidence\"], bins=100, edgecolor='black', alpha=0.7, label=\"original\")\n",
    "plt.hist(lconf_aave_1k[\"confidence\"], bins=100, edgecolor='black', alpha=0.7, label=\"aave\")\n",
    "plt.xlabel('prediction confidence')\n",
    "plt.ylabel('frequency')\n",
    "plt.legend()\n",
    "plt.grid(True)\n",
    "plt.show()"
   ]
  },
  {
   "cell_type": "code",
   "execution_count": 37,
   "metadata": {},
   "outputs": [
    {
     "name": "stdout",
     "output_type": "stream",
     "text": [
      "overall: KS test for prediction confidence original vs. dialects\n",
      "Statistics=0.07200, p=0.01119\n",
      "Statistics=0.05600, p=0.08690\n",
      "Statistics=0.05400, p=0.10829\n",
      "Statistics=0.10100, p=0.00007\n"
     ]
    }
   ],
   "source": [
    "# KS test for prediction confidence on Wiki-Detox\n",
    "print(\"overall: KS test for prediction confidence original vs. dialects\")\n",
    "stat, p = ks_2samp([abs(c) for c in lconf_og_1k[\"confidence\"]], [abs(c) for c in lconf_aave_1k[\"confidence\"]])\n",
    "print('Statistics=%.5f, p=%.5f' % (stat, p))\n",
    "stat, p = ks_2samp([abs(c) for c in lconf_og_1k[\"confidence\"]], [abs(c) for c in lconf_nigerianD_1k[\"confidence\"]])\n",
    "print('Statistics=%.5f, p=%.5f' % (stat, p))\n",
    "stat, p = ks_2samp([abs(c) for c in lconf_og_1k[\"confidence\"]], [abs(c) for c in lconf_indianD_1k[\"confidence\"]])\n",
    "print('Statistics=%.5f, p=%.5f' % (stat, p))\n",
    "stat, p = ks_2samp([abs(c) for c in lconf_og_1k[\"confidence\"]], [abs(c) for c in lconf_singlish_1k[\"confidence\"]])\n",
    "print('Statistics=%.5f, p=%.5f' % (stat, p))"
   ]
  },
  {
   "cell_type": "code",
   "execution_count": 38,
   "metadata": {},
   "outputs": [
    {
     "name": "stdout",
     "output_type": "stream",
     "text": [
      "overall: Mann Whitney U test for prediction confidence original vs. dialects\n",
      "Statistics=532991.00000, p=0.01063\n",
      "Statistics=527190.50000, p=0.03524\n",
      "Statistics=522656.00000, p=0.07935\n",
      "Statistics=549670.50000, p=0.00012\n"
     ]
    }
   ],
   "source": [
    "# Mann Whitney U test for prediction confidence on Wiki-Detox\n",
    "print(\"overall: Mann Whitney U test for prediction confidence original vs. dialects\")\n",
    "stat, p = mannwhitneyu([abs(c) for c in lconf_og_1k[\"confidence\"]], [abs(c) for c in lconf_aave_1k[\"confidence\"]])\n",
    "print('Statistics=%.5f, p=%.5f' % (stat, p))\n",
    "stat, p = mannwhitneyu([abs(c) for c in lconf_og_1k[\"confidence\"]], [abs(c) for c in lconf_nigerianD_1k[\"confidence\"]])\n",
    "print('Statistics=%.5f, p=%.5f' % (stat, p))\n",
    "stat, p = mannwhitneyu([abs(c) for c in lconf_og_1k[\"confidence\"]], [abs(c) for c in lconf_indianD_1k[\"confidence\"]])\n",
    "print('Statistics=%.5f, p=%.5f' % (stat, p))\n",
    "stat, p = mannwhitneyu([abs(c) for c in lconf_og_1k[\"confidence\"]], [abs(c) for c in lconf_singlish_1k[\"confidence\"]])\n",
    "print('Statistics=%.5f, p=%.5f' % (stat, p))"
   ]
  },
  {
   "cell_type": "code",
   "execution_count": 39,
   "metadata": {},
   "outputs": [
    {
     "name": "stdout",
     "output_type": "stream",
     "text": [
      "overall -----------------\n",
      "0.797173512518406\n",
      "0.7897873908281327\n",
      "0.7925030657052994\n",
      "0.7966783827543259\n",
      "toxic -------------------\n",
      "0.6760093718767166\n",
      "0.6629518866539001\n",
      "0.671651726109641\n",
      "0.6530748745974373\n",
      "non-toxic ---------------\n",
      "0.8521886409812943\n",
      "0.8456039570449916\n",
      "0.8456071255120589\n",
      "0.8477048949178455\n"
     ]
    }
   ],
   "source": [
    "# overall prediction confidence\n",
    "print(\"overall -----------------\")\n",
    "print(np.average([c for c in lconf_og_1k[\"confidence\"]]))\n",
    "print(np.average([c for c in lconf_aave_1k[\"confidence\"]]))\n",
    "print(np.average([c for c in lconf_nigerianD_1k[\"confidence\"]]))\n",
    "print(np.average([c for c in lconf_indianD_1k[\"confidence\"]]))\n",
    "\n",
    "# average confidence of toxic predictions  \n",
    "print(\"toxic -------------------\")\n",
    "print(np.average([abs(c) for c in lconf_og_1k[\"confidence\"] if c < 0]))\n",
    "print(np.average([abs(c) for c in lconf_aave_1k[\"confidence\"] if c < 0]))\n",
    "print(np.average([abs(c) for c in lconf_nigerianD_1k[\"confidence\"] if c < 0]))\n",
    "print(np.average([abs(c) for c in lconf_indianD_1k[\"confidence\"] if c < 0]))\n",
    "\n",
    "# average confidence of non-toxic predictions  \n",
    "print(\"non-toxic ---------------\")\n",
    "print(np.average([abs(c) for c in lconf_og_1k[\"confidence\"] if c > 0]))\n",
    "print(np.average([abs(c) for c in lconf_aave_1k[\"confidence\"] if c > 0]))\n",
    "print(np.average([abs(c) for c in lconf_nigerianD_1k[\"confidence\"] if c > 0]))\n",
    "print(np.average([abs(c) for c in lconf_indianD_1k[\"confidence\"] if c > 0]))"
   ]
  },
  {
   "cell_type": "markdown",
   "metadata": {},
   "source": [
    "## Davidson's Twitter"
   ]
  },
  {
   "cell_type": "code",
   "execution_count": 40,
   "metadata": {},
   "outputs": [],
   "source": [
    "# read in original data\n",
    "df = pd.read_csv('../data/davidson/original_davidson.csv', sep=',', index_col=0)\n",
    "\n",
    "# read in dialect subsets\n",
    "aave = pd.read_json(\"../data//davidson/aave_1k.jsonl\", lines=True)\n",
    "nigerianD = pd.read_json(\"../data//davidson/nigerianD_1k.jsonl\", lines=True)\n",
    "indianD = pd.read_json(\"../data//davidson/indianD_1k.jsonl\", lines=True)\n",
    "singlish = pd.read_json(\"../data//davidson/singlish_1k.jsonl\", lines=True)\n",
    "\n",
    "# get the first 1000 toxicity scores in dfa for development\n",
    "df_sample = df.iloc[:1000]"
   ]
  },
  {
   "cell_type": "code",
   "execution_count": 5,
   "metadata": {},
   "outputs": [],
   "source": [
    "def get_label_confidence(sents):\n",
    "    \"\"\"functions for getting toxicity label and confidence score for a list of sentences\"\"\"\n",
    "    label_confidence = []  # list of tuple\n",
    "    for sent in tqdm(sents):\n",
    "        result = toxpipe(sent)[0]\n",
    "\n",
    "        # confidence: numerical score of toxicity rating: (-1 ~ 1)\n",
    "        if result[\"label\"] == \"LABEL_1\":  # convert score to negative if labeled as toxic\n",
    "            label = 1  # 1: toxic == true\n",
    "            confidence = -result[\"score\"]\n",
    "        else:\n",
    "            label = 0  # 0: toxic == false\n",
    "            confidence = result[\"score\"]\n",
    "\n",
    "        res = [label, confidence]\n",
    "        label_confidence.append(res)\n",
    "\n",
    "    # convert results to a dataframe with labels\n",
    "    lconf = pd.DataFrame(label_confidence, columns =['label', 'confidence'], dtype = float) \n",
    "    \n",
    "    return lconf"
   ]
  },
  {
   "cell_type": "code",
   "execution_count": 42,
   "metadata": {},
   "outputs": [
    {
     "name": "stderr",
     "output_type": "stream",
     "text": [
      "100%|██████████| 1000/1000 [07:24<00:00,  2.25it/s]\n",
      "100%|██████████| 1000/1000 [07:32<00:00,  2.21it/s]\n",
      "100%|██████████| 1000/1000 [06:00<00:00,  2.78it/s]\n",
      "100%|██████████| 1000/1000 [06:57<00:00,  2.40it/s]\n",
      "100%|██████████| 1000/1000 [07:28<00:00,  2.23it/s]\n"
     ]
    }
   ],
   "source": [
    "lconf_og_1k = get_label_confidence(df_sample[\"tweet\"][:1000])\n",
    "lconf_og_1k.to_csv(\"../data/davidson/lconf_original_1k.csv\", sep=\",\", index=False)\n",
    "\n",
    "lconf_aave_1k = get_label_confidence(aave[\"text\"])\n",
    "lconf_aave_1k.to_csv(\"../data/davidson/lconf_aave_1k.csv\", sep=\",\", index=False)\n",
    "\n",
    "lconf_nigerianD_1k = get_label_confidence(nigerianD[\"text\"])\n",
    "lconf_nigerianD_1k.to_csv(\"../data/davidson/lconf_nigerianD_1k.csv\", sep=\",\", index=False)\n",
    "\n",
    "lconf_indianD_1k = get_label_confidence(indianD[\"text\"])\n",
    "lconf_indianD_1k.to_csv(\"../data/davidson/lconf_indianD_1k.csv\", sep=\",\", index=False)\n",
    "\n",
    "lconf_singlish_1k = get_label_confidence(singlish[\"text\"])\n",
    "lconf_singlish_1k.to_csv(\"../data/davidson/lconf_singlish_1k.csv\", sep=\",\", index=False)"
   ]
  },
  {
   "cell_type": "markdown",
   "metadata": {},
   "source": [
    "### check results on Davidson's Twitter"
   ]
  },
  {
   "cell_type": "code",
   "execution_count": 43,
   "metadata": {},
   "outputs": [
    {
     "name": "stdout",
     "output_type": "stream",
     "text": [
      "Counter({1.0: 796, 0.0: 204})\n",
      "Counter({1.0: 783, 0.0: 217})\n",
      "Counter({1.0: 790, 0.0: 210})\n",
      "Counter({1.0: 780, 0.0: 220})\n",
      "Counter({1.0: 781, 0.0: 219})\n"
     ]
    }
   ],
   "source": [
    "# load saved predictions and check distribution of labels   \n",
    "lconf_og_1k = pd.read_csv(\"../data/davidson/lconf_original_1k.csv\")\n",
    "lconf_aave_1k = pd.read_csv(\"../data/davidson/lconf_aave_1k.csv\")\n",
    "lconf_nigerianD_1k = pd.read_csv(\"../data/davidson/lconf_nigerianD_1k.csv\")\n",
    "lconf_indianD_1k = pd.read_csv(\"../data/davidson/lconf_indianD_1k.csv\")\n",
    "lconf_singlish_1k = pd.read_csv(\"../data/davidson/lconf_singlish_1k.csv\")\n",
    "\n",
    "print(Counter(lconf_og_1k[\"label\"]))\n",
    "print(Counter(lconf_aave_1k[\"label\"]))\n",
    "print(Counter(lconf_nigerianD_1k[\"label\"]))\n",
    "print(Counter(lconf_indianD_1k[\"label\"]))\n",
    "print(Counter(lconf_singlish_1k[\"label\"]))"
   ]
  },
  {
   "cell_type": "code",
   "execution_count": 44,
   "metadata": {},
   "outputs": [
    {
     "name": "stdout",
     "output_type": "stream",
     "text": [
      "overall: KS test for prediction confidence original vs. dialects\n",
      "Statistics=0.05100, p=0.14836\n",
      "Statistics=0.03900, p=0.43261\n",
      "Statistics=0.07000, p=0.01487\n",
      "Statistics=0.04500, p=0.26347\n"
     ]
    }
   ],
   "source": [
    "# KS test for prediction confidence on Davidson\n",
    "print(\"overall: KS test for prediction confidence original vs. dialects\")\n",
    "stat, p = ks_2samp([abs(c) for c in lconf_og_1k[\"confidence\"]], [abs(c) for c in lconf_aave_1k[\"confidence\"]])\n",
    "print('Statistics=%.5f, p=%.5f' % (stat, p))\n",
    "stat, p = ks_2samp([abs(c) for c in lconf_og_1k[\"confidence\"]], [abs(c) for c in lconf_nigerianD_1k[\"confidence\"]])\n",
    "print('Statistics=%.5f, p=%.5f' % (stat, p))\n",
    "stat, p = ks_2samp([abs(c) for c in lconf_og_1k[\"confidence\"]], [abs(c) for c in lconf_indianD_1k[\"confidence\"]])\n",
    "print('Statistics=%.5f, p=%.5f' % (stat, p))\n",
    "stat, p = ks_2samp([abs(c) for c in lconf_og_1k[\"confidence\"]], [abs(c) for c in lconf_singlish_1k[\"confidence\"]])\n",
    "print('Statistics=%.5f, p=%.5f' % (stat, p))"
   ]
  },
  {
   "cell_type": "code",
   "execution_count": 45,
   "metadata": {},
   "outputs": [
    {
     "name": "stdout",
     "output_type": "stream",
     "text": [
      "overall: Mann Whitney U test for prediction confidence original vs. dialects\n",
      "Statistics=518620.00000, p=0.14933\n",
      "Statistics=515604.00000, p=0.22692\n",
      "Statistics=529029.00000, p=0.02458\n",
      "Statistics=513923.50000, p=0.28094\n"
     ]
    }
   ],
   "source": [
    "# Mann Whitney U test for prediction confidence on Davidson\n",
    "print(\"overall: Mann Whitney U test for prediction confidence original vs. dialects\")\n",
    "stat, p = mannwhitneyu([abs(c) for c in lconf_og_1k[\"confidence\"]], [abs(c) for c in lconf_aave_1k[\"confidence\"]])\n",
    "print('Statistics=%.5f, p=%.5f' % (stat, p))\n",
    "stat, p = mannwhitneyu([abs(c) for c in lconf_og_1k[\"confidence\"]], [abs(c) for c in lconf_nigerianD_1k[\"confidence\"]])\n",
    "print('Statistics=%.5f, p=%.5f' % (stat, p))\n",
    "stat, p = mannwhitneyu([abs(c) for c in lconf_og_1k[\"confidence\"]], [abs(c) for c in lconf_indianD_1k[\"confidence\"]])\n",
    "print('Statistics=%.5f, p=%.5f' % (stat, p))\n",
    "stat, p = mannwhitneyu([abs(c) for c in lconf_og_1k[\"confidence\"]], [abs(c) for c in lconf_singlish_1k[\"confidence\"]])\n",
    "print('Statistics=%.5f, p=%.5f' % (stat, p))"
   ]
  },
  {
   "cell_type": "markdown",
   "metadata": {},
   "source": [
    "## HateXplain Twitter"
   ]
  },
  {
   "cell_type": "code",
   "execution_count": 4,
   "metadata": {},
   "outputs": [],
   "source": [
    "# read in original data\n",
    "df = pd.read_json(f\"../data/hatexplain/original_hatexplain.json\").transpose()\n",
    "\n",
    "# read in dialect subsets\n",
    "aave = pd.read_json(\"../data/hatexplain/aave_1k.jsonl\", lines=True)\n",
    "nigerianD = pd.read_json(\"../data/hatexplain/nigerianD_1k.jsonl\", lines=True)\n",
    "indianD = pd.read_json(\"../data/hatexplain/indianD_1k.jsonl\", lines=True)\n",
    "singlish = pd.read_json(\"../data/hatexplain/singlish_1k.jsonl\", lines=True)\n",
    "\n",
    "# get the first 1000 toxicity scores in dfa for development\n",
    "df_sample = df.iloc[:1000]"
   ]
  },
  {
   "cell_type": "code",
   "execution_count": 7,
   "metadata": {},
   "outputs": [],
   "source": [
    "def get_label_confidence(sents):\n",
    "    label_confidence = []  # list of tuple\n",
    "    for sent in tqdm(sents):\n",
    "        result = toxpipe(sent)[0]\n",
    "\n",
    "        # confidence: numerical score of toxicity rating: (-1 ~ 1)\n",
    "        if result[\"label\"] == \"LABEL_1\":  # convert score to negative if labeled as toxic\n",
    "            label = 1  # 1: toxic == true\n",
    "            confidence = -result[\"score\"]\n",
    "        else:\n",
    "            label = 0  # 0: toxic == false\n",
    "            confidence = result[\"score\"]\n",
    "\n",
    "        res = [label, confidence]\n",
    "        label_confidence.append(res)\n",
    "\n",
    "    # convert results to a dataframe with labels\n",
    "    lconf = pd.DataFrame(label_confidence, columns =['label', 'confidence'], dtype = float) \n",
    "    \n",
    "    return lconf"
   ]
  },
  {
   "cell_type": "code",
   "execution_count": 14,
   "metadata": {},
   "outputs": [
    {
     "name": "stderr",
     "output_type": "stream",
     "text": [
      "  0%|          | 0/1000 [00:00<?, ?it/s]"
     ]
    },
    {
     "name": "stderr",
     "output_type": "stream",
     "text": [
      "100%|██████████| 1000/1000 [06:57<00:00,  2.39it/s]\n",
      "100%|██████████| 1000/1000 [07:29<00:00,  2.23it/s]\n",
      "100%|██████████| 1000/1000 [07:03<00:00,  2.36it/s]\n",
      "100%|██████████| 1000/1000 [07:17<00:00,  2.29it/s]\n",
      "100%|██████████| 1000/1000 [07:06<00:00,  2.35it/s]\n"
     ]
    }
   ],
   "source": [
    "sample_tweets = [\" \".join(token_ls) for token_ls in list(df_sample[\"post_tokens\"])]\n",
    "lconf_og_1k = get_label_confidence(sample_tweets)\n",
    "lconf_og_1k.to_csv(\"../data/hatexplain/lconf_original_1k.csv\", sep=\",\", index=False)\n",
    "\n",
    "lconf_aave_1k = get_label_confidence(aave[\"text\"])\n",
    "lconf_aave_1k.to_csv(\"../data/hatexplain/lconf_aave_1k.csv\", sep=\",\", index=False)\n",
    "\n",
    "lconf_nigerianD_1k = get_label_confidence(nigerianD[\"text\"])\n",
    "lconf_nigerianD_1k.to_csv(\"../data/hatexplain/lconf_nigerianD_1k.csv\", sep=\",\", index=False)\n",
    "\n",
    "lconf_indianD_1k = get_label_confidence(indianD[\"text\"])\n",
    "lconf_indianD_1k.to_csv(\"../data/hatexplain/lconf_indianD_1k.csv\", sep=\",\", index=False)\n",
    "\n",
    "lconf_singlish_1k = get_label_confidence(singlish[\"text\"])\n",
    "lconf_singlish_1k.to_csv(\"../data/hatexplain/lconf_singlish_1k.csv\", sep=\",\", index=False)"
   ]
  },
  {
   "cell_type": "markdown",
   "metadata": {},
   "source": [
    "### check results on HateXplain Twitter"
   ]
  },
  {
   "cell_type": "code",
   "execution_count": 15,
   "metadata": {},
   "outputs": [
    {
     "name": "stdout",
     "output_type": "stream",
     "text": [
      "Counter({1.0: 789, 0.0: 211})\n",
      "Counter({1.0: 779, 0.0: 221})\n",
      "Counter({1.0: 783, 0.0: 217})\n",
      "Counter({1.0: 759, 0.0: 241})\n",
      "Counter({1.0: 777, 0.0: 223})\n"
     ]
    }
   ],
   "source": [
    "# load saved predictions and check distribution of labels   \n",
    "lconf_og_1k = pd.read_csv(\"../data/hatexplain/lconf_original_1k.csv\")\n",
    "lconf_aave_1k = pd.read_csv(\"../data/hatexplain/lconf_aave_1k.csv\")\n",
    "lconf_nigerianD_1k = pd.read_csv(\"../data/hatexplain/lconf_nigerianD_1k.csv\")\n",
    "lconf_indianD_1k = pd.read_csv(\"../data/hatexplain/lconf_indianD_1k.csv\")\n",
    "lconf_singlish_1k = pd.read_csv(\"../data/hatexplain/lconf_singlish_1k.csv\")\n",
    "\n",
    "print(Counter(lconf_og_1k[\"label\"]))\n",
    "print(Counter(lconf_aave_1k[\"label\"]))\n",
    "print(Counter(lconf_nigerianD_1k[\"label\"]))\n",
    "print(Counter(lconf_indianD_1k[\"label\"]))\n",
    "print(Counter(lconf_singlish_1k[\"label\"]))"
   ]
  },
  {
   "cell_type": "code",
   "execution_count": 16,
   "metadata": {},
   "outputs": [
    {
     "name": "stdout",
     "output_type": "stream",
     "text": [
      "Statistics=6.968656e-01, p=5.423117e-39\n",
      "Statistics=7.048653e-01, p=1.287301e-38\n",
      "Statistics=7.037163e-01, p=1.135664e-38\n",
      "Statistics=7.139208e-01, p=3.505483e-38\n",
      "Statistics=7.027953e-01, p=1.027417e-38\n"
     ]
    }
   ],
   "source": [
    "# test if lconf_og_1k is normally distributed\n",
    "from scipy.stats import shapiro\n",
    "\n",
    "stat, p = shapiro(lconf_og_1k[\"confidence\"])\n",
    "print('Statistics=%e, p=%e' % (stat, p)) # p < 0.05, not normal\n",
    "\n",
    "stat, p = shapiro(lconf_aave_1k[\"confidence\"])\n",
    "print('Statistics=%e, p=%e' % (stat, p)) # p < 0.05, not normal\n",
    "stat, p = shapiro(lconf_nigerianD_1k[\"confidence\"])\n",
    "print('Statistics=%e, p=%e' % (stat, p)) # p < 0.05, not normal\n",
    "stat, p = shapiro(lconf_indianD_1k[\"confidence\"])\n",
    "print('Statistics=%e, p=%e' % (stat, p)) # p < 0.05, not normal\n",
    "stat, p = shapiro(lconf_singlish_1k[\"confidence\"])\n",
    "print('Statistics=%e, p=%e' % (stat, p)) # p < 0.05, not normal"
   ]
  },
  {
   "cell_type": "code",
   "execution_count": 17,
   "metadata": {},
   "outputs": [
    {
     "name": "stdout",
     "output_type": "stream",
     "text": [
      "overall: KS test for prediction confidence original vs. dialects\n",
      "Statistics=3.600000e-02, p=5.362767e-01\n",
      "Statistics=3.000000e-02, p=7.593696e-01\n",
      "Statistics=4.700000e-02, p=2.193965e-01\n",
      "Statistics=3.000000e-02, p=7.593696e-01\n"
     ]
    }
   ],
   "source": [
    "# KS test for prediction confidence on Davidson\n",
    "print(\"overall: KS test for prediction confidence original vs. dialects\")\n",
    "stat, p = ks_2samp([abs(c) for c in lconf_og_1k[\"confidence\"]], [abs(c) for c in lconf_aave_1k[\"confidence\"]])\n",
    "print('Statistics=%e, p=%e' % (stat, p))\n",
    "stat, p = ks_2samp([abs(c) for c in lconf_og_1k[\"confidence\"]], [abs(c) for c in lconf_nigerianD_1k[\"confidence\"]])\n",
    "print('Statistics=%e, p=%e' % (stat, p))\n",
    "stat, p = ks_2samp([abs(c) for c in lconf_og_1k[\"confidence\"]], [abs(c) for c in lconf_indianD_1k[\"confidence\"]])\n",
    "print('Statistics=%e, p=%e' % (stat, p))\n",
    "stat, p = ks_2samp([abs(c) for c in lconf_og_1k[\"confidence\"]], [abs(c) for c in lconf_singlish_1k[\"confidence\"]])\n",
    "print('Statistics=%e, p=%e' % (stat, p))"
   ]
  },
  {
   "cell_type": "code",
   "execution_count": 18,
   "metadata": {},
   "outputs": [
    {
     "name": "stdout",
     "output_type": "stream",
     "text": [
      "Statistics=2.600000e-02, p=8.881734e-01\n",
      "Statistics=2.000000e-02, p=9.883340e-01\n",
      "Statistics=2.700000e-02, p=8.595454e-01\n"
     ]
    }
   ],
   "source": [
    "# cross-dialect confidence differences (aave against other 3)\n",
    "stat, p = ks_2samp([abs(c) for c in lconf_aave_1k[\"confidence\"]], [abs(c) for c in lconf_nigerianD_1k[\"confidence\"]])\n",
    "print('Statistics=%e, p=%e' % (stat, p))\n",
    "stat, p = ks_2samp([abs(c) for c in lconf_aave_1k[\"confidence\"]], [abs(c) for c in lconf_indianD_1k[\"confidence\"]])\n",
    "print('Statistics=%e, p=%e' % (stat, p))\n",
    "stat, p = ks_2samp([abs(c) for c in lconf_aave_1k[\"confidence\"]], [abs(c) for c in lconf_singlish_1k[\"confidence\"]])\n",
    "print('Statistics=%e, p=%e' % (stat, p))"
   ]
  },
  {
   "cell_type": "code",
   "execution_count": 19,
   "metadata": {},
   "outputs": [
    {
     "name": "stdout",
     "output_type": "stream",
     "text": [
      "overall: Mann Whitney U test for prediction confidence original vs. dialects\n",
      "Statistics=5.163175e+05, p=2.063759e-01\n",
      "Statistics=5.141740e+05, p=2.723791e-01\n",
      "Statistics=5.208575e+05, p=1.062733e-01\n",
      "Statistics=5.100050e+05, p=4.384865e-01\n"
     ]
    }
   ],
   "source": [
    "# Mann Whitney U test for prediction confidence on Davidson\n",
    "print(\"overall: Mann Whitney U test for prediction confidence original vs. dialects\")\n",
    "stat, p = mannwhitneyu([abs(c) for c in lconf_og_1k[\"confidence\"]], [abs(c) for c in lconf_aave_1k[\"confidence\"]])\n",
    "print('Statistics=%e, p=%e' % (stat, p))\n",
    "stat, p = mannwhitneyu([abs(c) for c in lconf_og_1k[\"confidence\"]], [abs(c) for c in lconf_nigerianD_1k[\"confidence\"]])\n",
    "print('Statistics=%e, p=%e' % (stat, p))\n",
    "stat, p = mannwhitneyu([abs(c) for c in lconf_og_1k[\"confidence\"]], [abs(c) for c in lconf_indianD_1k[\"confidence\"]])\n",
    "print('Statistics=%e, p=%e' % (stat, p))\n",
    "stat, p = mannwhitneyu([abs(c) for c in lconf_og_1k[\"confidence\"]], [abs(c) for c in lconf_singlish_1k[\"confidence\"]])\n",
    "print('Statistics=%e, p=%e' % (stat, p))"
   ]
  },
  {
   "cell_type": "code",
   "execution_count": 20,
   "metadata": {},
   "outputs": [
    {
     "name": "stdout",
     "output_type": "stream",
     "text": [
      "overall -----------------\n",
      "-0.5038449893593788\n",
      "-0.48414558786153794\n",
      "-0.49412602311372755\n",
      "-0.4598774493932724\n",
      "-0.4868043528795242\n",
      "toxic -------------------\n",
      "0.8199061554949849\n",
      "0.8130947093602475\n",
      "0.8154136493592731\n",
      "0.8170967503341604\n",
      "0.8187883813869079\n",
      "non-toxic ---------------\n",
      "0.6780140631571765\n",
      "0.6753628539823299\n",
      "0.6651744900211212\n",
      "0.6651410129060389\n",
      "0.6699292352381309\n"
     ]
    }
   ],
   "source": [
    "# overall prediction confidence\n",
    "print(\"overall -----------------\")\n",
    "print(np.average([c for c in lconf_og_1k[\"confidence\"]]))\n",
    "print(np.average([c for c in lconf_aave_1k[\"confidence\"]]))\n",
    "print(np.average([c for c in lconf_nigerianD_1k[\"confidence\"]]))\n",
    "print(np.average([c for c in lconf_indianD_1k[\"confidence\"]]))\n",
    "print(np.average([c for c in lconf_singlish_1k[\"confidence\"]]))\n",
    "\n",
    "# average confidence of toxic predictions  \n",
    "print(\"toxic -------------------\")\n",
    "print(np.average([abs(c) for c in lconf_og_1k[\"confidence\"] if c < 0]))\n",
    "print(np.average([abs(c) for c in lconf_aave_1k[\"confidence\"] if c < 0]))\n",
    "print(np.average([abs(c) for c in lconf_nigerianD_1k[\"confidence\"] if c < 0]))\n",
    "print(np.average([abs(c) for c in lconf_indianD_1k[\"confidence\"] if c < 0]))\n",
    "print(np.average([abs(c) for c in lconf_singlish_1k[\"confidence\"] if c < 0]))\n",
    "\n",
    "# average confidence of non-toxic predictions  \n",
    "print(\"non-toxic ---------------\")\n",
    "print(np.average([abs(c) for c in lconf_og_1k[\"confidence\"] if c > 0]))\n",
    "print(np.average([abs(c) for c in lconf_aave_1k[\"confidence\"] if c > 0]))\n",
    "print(np.average([abs(c) for c in lconf_nigerianD_1k[\"confidence\"] if c > 0]))\n",
    "print(np.average([abs(c) for c in lconf_indianD_1k[\"confidence\"] if c > 0]))\n",
    "print(np.average([abs(c) for c in lconf_singlish_1k[\"confidence\"] if c > 0]))"
   ]
  },
  {
   "cell_type": "code",
   "execution_count": 21,
   "metadata": {},
   "outputs": [
    {
     "data": {
      "image/png": "[encoded data removed]",
      "text/plain": [
       "<Figure size 1200x500 with 1 Axes>"
      ]
     },
     "metadata": {},
     "output_type": "display_data"
    }
   ],
   "source": [
    "# plot prediction confidence of different dialects\n",
    "plt.figure(figsize=(12, 5))\n",
    "\n",
    "plt.hist(lconf_og_1k[\"confidence\"], bins=150, edgecolor='black', alpha=0.7, label=\"original\")\n",
    "plt.hist(lconf_aave_1k[\"confidence\"], bins=150, edgecolor='black', alpha=0.7, label=\"aave\")\n",
    "plt.hist(lconf_nigerianD_1k[\"confidence\"], bins=150, edgecolor='black', alpha=0.7, label=\"nigerianD\")\n",
    "plt.hist(lconf_indianD_1k[\"confidence\"], bins=150, edgecolor='black', alpha=0.7, label=\"indianD\")\n",
    "plt.hist(lconf_singlish_1k[\"confidence\"], bins=150, edgecolor='black', alpha=0.7, label=\"singlish\")\n",
    "\n",
    "plt.xlabel('prediction confidence')\n",
    "plt.ylabel('frequency')\n",
    "plt.legend()\n",
    "plt.grid(True)\n",
    "plt.show()"
   ]
  },
  {
   "cell_type": "markdown",
   "metadata": {},
   "source": [
    "## Compare the 3 datasets"
   ]
  },
  {
   "cell_type": "code",
   "execution_count": 55,
   "metadata": {},
   "outputs": [],
   "source": [
    "detox = pd.read_csv('../data/wiki-detox/original_detox.tsv',sep='\\t')\n",
    "davidson = pd.read_csv('../data/davidson/original_davidson.csv', sep=',', index_col=0)\n",
    "xplain = pd.read_json(f\"../data/hatexplain/original_hatexplain.json\").transpose()"
   ]
  },
  {
   "cell_type": "code",
   "execution_count": 72,
   "metadata": {},
   "outputs": [
    {
     "name": "stdout",
     "output_type": "stream",
     "text": [
      "66.91229036985084\n"
     ]
    }
   ],
   "source": [
    "# work on detox\n",
    "sent_lens = []\n",
    "for sent in detox[\"comment\"]:\n",
    "    token_ls = sent.split()\n",
    "    sent_len = len(token_ls)\n",
    "    sent_lens.append(sent_len)\n",
    "\n",
    "mean_sent_len = np.mean(sent_lens)\n",
    "print(mean_sent_len)"
   ]
  },
  {
   "cell_type": "code",
   "execution_count": 73,
   "metadata": {},
   "outputs": [
    {
     "name": "stdout",
     "output_type": "stream",
     "text": [
      "14.117015696243392\n"
     ]
    }
   ],
   "source": [
    "# work on davidson\n",
    "sent_lens = []\n",
    "for sent in davidson[\"tweet\"]:\n",
    "    token_ls = sent.split()\n",
    "    sent_len = len(token_ls)\n",
    "    sent_lens.append(sent_len)\n",
    "\n",
    "mean_sent_len = np.mean(sent_lens)\n",
    "print(mean_sent_len)"
   ]
  },
  {
   "cell_type": "code",
   "execution_count": 75,
   "metadata": {},
   "outputs": [
    {
     "name": "stdout",
     "output_type": "stream",
     "text": [
      "23.570279928528887\n"
     ]
    }
   ],
   "source": [
    "# work on hatexplain\n",
    "sent_lens = []\n",
    "for token_ls in xplain[\"post_tokens\"]:\n",
    "    sent_len = len(token_ls)\n",
    "    sent_lens.append(sent_len)\n",
    "\n",
    "mean_sent_len = np.mean(sent_lens)\n",
    "print(mean_sent_len)"
   ]
  },
  {
   "cell_type": "code",
   "execution_count": 76,
   "metadata": {},
   "outputs": [
    {
     "data": {
      "text/html": [
       "<div>\n",
       "<style scoped>\n",
       "    .dataframe tbody tr th:only-of-type {\n",
       "        vertical-align: middle;\n",
       "    }\n",
       "\n",
       "    .dataframe tbody tr th {\n",
       "        vertical-align: top;\n",
       "    }\n",
       "\n",
       "    .dataframe thead th {\n",
       "        text-align: right;\n",
       "    }\n",
       "</style>\n",
       "<table border=\"1\" class=\"dataframe\">\n",
       "  <thead>\n",
       "    <tr style=\"text-align: right;\">\n",
       "      <th></th>\n",
       "      <th>count</th>\n",
       "      <th>hate_speech</th>\n",
       "      <th>offensive_language</th>\n",
       "      <th>neither</th>\n",
       "      <th>class</th>\n",
       "      <th>tweet</th>\n",
       "    </tr>\n",
       "  </thead>\n",
       "  <tbody>\n",
       "    <tr>\n",
       "      <th>0</th>\n",
       "      <td>3</td>\n",
       "      <td>0</td>\n",
       "      <td>0</td>\n",
       "      <td>3</td>\n",
       "      <td>2</td>\n",
       "      <td>!!! RT @mayasolovely: As a woman you shouldn't...</td>\n",
       "    </tr>\n",
       "    <tr>\n",
       "      <th>1</th>\n",
       "      <td>3</td>\n",
       "      <td>0</td>\n",
       "      <td>3</td>\n",
       "      <td>0</td>\n",
       "      <td>1</td>\n",
       "      <td>!!!!! RT @mleew17: boy dats cold...tyga dwn ba...</td>\n",
       "    </tr>\n",
       "    <tr>\n",
       "      <th>2</th>\n",
       "      <td>3</td>\n",
       "      <td>0</td>\n",
       "      <td>3</td>\n",
       "      <td>0</td>\n",
       "      <td>1</td>\n",
       "      <td>!!!!!!! RT @UrKindOfBrand Dawg!!!! RT @80sbaby...</td>\n",
       "    </tr>\n",
       "    <tr>\n",
       "      <th>3</th>\n",
       "      <td>3</td>\n",
       "      <td>0</td>\n",
       "      <td>2</td>\n",
       "      <td>1</td>\n",
       "      <td>1</td>\n",
       "      <td>!!!!!!!!! RT @C_G_Anderson: @viva_based she lo...</td>\n",
       "    </tr>\n",
       "    <tr>\n",
       "      <th>4</th>\n",
       "      <td>6</td>\n",
       "      <td>0</td>\n",
       "      <td>6</td>\n",
       "      <td>0</td>\n",
       "      <td>1</td>\n",
       "      <td>!!!!!!!!!!!!! RT @ShenikaRoberts: The shit you...</td>\n",
       "    </tr>\n",
       "  </tbody>\n",
       "</table>\n",
       "</div>"
      ],
      "text/plain": [
       "   count  hate_speech  offensive_language  neither  class  \\\n",
       "0      3            0                   0        3      2   \n",
       "1      3            0                   3        0      1   \n",
       "2      3            0                   3        0      1   \n",
       "3      3            0                   2        1      1   \n",
       "4      6            0                   6        0      1   \n",
       "\n",
       "                                               tweet  \n",
       "0  !!! RT @mayasolovely: As a woman you shouldn't...  \n",
       "1  !!!!! RT @mleew17: boy dats cold...tyga dwn ba...  \n",
       "2  !!!!!!! RT @UrKindOfBrand Dawg!!!! RT @80sbaby...  \n",
       "3  !!!!!!!!! RT @C_G_Anderson: @viva_based she lo...  \n",
       "4  !!!!!!!!!!!!! RT @ShenikaRoberts: The shit you...  "
      ]
     },
     "execution_count": 76,
     "metadata": {},
     "output_type": "execute_result"
    }
   ],
   "source": [
    "davidson.head()"
   ]
  },
  {
   "cell_type": "code",
   "execution_count": 77,
   "metadata": {},
   "outputs": [
    {
     "data": {
      "text/html": [
       "<div>\n",
       "<style scoped>\n",
       "    .dataframe tbody tr th:only-of-type {\n",
       "        vertical-align: middle;\n",
       "    }\n",
       "\n",
       "    .dataframe tbody tr th {\n",
       "        vertical-align: top;\n",
       "    }\n",
       "\n",
       "    .dataframe thead th {\n",
       "        text-align: right;\n",
       "    }\n",
       "</style>\n",
       "<table border=\"1\" class=\"dataframe\">\n",
       "  <thead>\n",
       "    <tr style=\"text-align: right;\">\n",
       "      <th></th>\n",
       "      <th>post_id</th>\n",
       "      <th>annotators</th>\n",
       "      <th>rationales</th>\n",
       "      <th>post_tokens</th>\n",
       "    </tr>\n",
       "  </thead>\n",
       "  <tbody>\n",
       "    <tr>\n",
       "      <th>1179055004553900032_twitter</th>\n",
       "      <td>1179055004553900032_twitter</td>\n",
       "      <td>[{'label': 'normal', 'annotator_id': 1, 'targe...</td>\n",
       "      <td>[]</td>\n",
       "      <td>[i, dont, think, im, getting, my, baby, them, ...</td>\n",
       "    </tr>\n",
       "    <tr>\n",
       "      <th>1179063826874032128_twitter</th>\n",
       "      <td>1179063826874032128_twitter</td>\n",
       "      <td>[{'label': 'normal', 'annotator_id': 1, 'targe...</td>\n",
       "      <td>[]</td>\n",
       "      <td>[we, cannot, continue, calling, ourselves, fem...</td>\n",
       "    </tr>\n",
       "    <tr>\n",
       "      <th>1178793830532956161_twitter</th>\n",
       "      <td>1178793830532956161_twitter</td>\n",
       "      <td>[{'label': 'normal', 'annotator_id': 4, 'targe...</td>\n",
       "      <td>[]</td>\n",
       "      <td>[nawt, yall, niggers, ignoring, me]</td>\n",
       "    </tr>\n",
       "    <tr>\n",
       "      <th>1179088797964763136_twitter</th>\n",
       "      <td>1179088797964763136_twitter</td>\n",
       "      <td>[{'label': 'hatespeech', 'annotator_id': 1, 't...</td>\n",
       "      <td>[[0, 0, 0, 0, 0, 0, 0, 0, 0, 0, 0, 0, 0, 0, 0,...</td>\n",
       "      <td>[&lt;user&gt;, i, am, bit, confused, coz, chinese, p...</td>\n",
       "    </tr>\n",
       "    <tr>\n",
       "      <th>1179085312976445440_twitter</th>\n",
       "      <td>1179085312976445440_twitter</td>\n",
       "      <td>[{'label': 'hatespeech', 'annotator_id': 4, 't...</td>\n",
       "      <td>[[0, 1, 0, 0, 0, 0, 0, 0, 0, 0, 0, 0, 0, 0, 0,...</td>\n",
       "      <td>[this, bitch, in, whataburger, eating, a, burg...</td>\n",
       "    </tr>\n",
       "  </tbody>\n",
       "</table>\n",
       "</div>"
      ],
      "text/plain": [
       "                                                 post_id  \\\n",
       "1179055004553900032_twitter  1179055004553900032_twitter   \n",
       "1179063826874032128_twitter  1179063826874032128_twitter   \n",
       "1178793830532956161_twitter  1178793830532956161_twitter   \n",
       "1179088797964763136_twitter  1179088797964763136_twitter   \n",
       "1179085312976445440_twitter  1179085312976445440_twitter   \n",
       "\n",
       "                                                                    annotators  \\\n",
       "1179055004553900032_twitter  [{'label': 'normal', 'annotator_id': 1, 'targe...   \n",
       "1179063826874032128_twitter  [{'label': 'normal', 'annotator_id': 1, 'targe...   \n",
       "1178793830532956161_twitter  [{'label': 'normal', 'annotator_id': 4, 'targe...   \n",
       "1179088797964763136_twitter  [{'label': 'hatespeech', 'annotator_id': 1, 't...   \n",
       "1179085312976445440_twitter  [{'label': 'hatespeech', 'annotator_id': 4, 't...   \n",
       "\n",
       "                                                                    rationales  \\\n",
       "1179055004553900032_twitter                                                 []   \n",
       "1179063826874032128_twitter                                                 []   \n",
       "1178793830532956161_twitter                                                 []   \n",
       "1179088797964763136_twitter  [[0, 0, 0, 0, 0, 0, 0, 0, 0, 0, 0, 0, 0, 0, 0,...   \n",
       "1179085312976445440_twitter  [[0, 1, 0, 0, 0, 0, 0, 0, 0, 0, 0, 0, 0, 0, 0,...   \n",
       "\n",
       "                                                                   post_tokens  \n",
       "1179055004553900032_twitter  [i, dont, think, im, getting, my, baby, them, ...  \n",
       "1179063826874032128_twitter  [we, cannot, continue, calling, ourselves, fem...  \n",
       "1178793830532956161_twitter                [nawt, yall, niggers, ignoring, me]  \n",
       "1179088797964763136_twitter  [<user>, i, am, bit, confused, coz, chinese, p...  \n",
       "1179085312976445440_twitter  [this, bitch, in, whataburger, eating, a, burg...  "
      ]
     },
     "execution_count": 77,
     "metadata": {},
     "output_type": "execute_result"
    }
   ],
   "source": [
    "xplain.head()"
   ]
  }
 ],
 "metadata": {
  "kernelspec": {
   "display_name": "BASE",
   "language": "python",
   "name": "python3"
  },
  "language_info": {
   "codemirror_mode": {
    "name": "ipython",
    "version": 3
   },
   "file_extension": ".py",
   "mimetype": "text/x-python",
   "name": "python",
   "nbconvert_exporter": "python",
   "pygments_lexer": "ipython3",
   "version": "3.11.8"
  }
 },
 "nbformat": 4,
 "nbformat_minor": 2
}
