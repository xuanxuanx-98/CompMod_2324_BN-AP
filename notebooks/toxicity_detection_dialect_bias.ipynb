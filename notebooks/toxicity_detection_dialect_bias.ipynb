{
 "cells": [
  {
   "cell_type": "code",
   "execution_count": 1,
   "metadata": {},
   "outputs": [],
   "source": [
    "import numpy as np\n",
    "import pandas as pd\n",
    "import pickle as pkl\n",
    "import matplotlib.pyplot as plt\n",
    "from tqdm import tqdm\n",
    "from collections import Counter\n",
    "\n",
    "from transformers import pipeline"
   ]
  },
  {
   "cell_type": "code",
   "execution_count": 2,
   "metadata": {},
   "outputs": [],
   "source": [
    "# load toxicity annotation model\n",
    "toxpipe = pipeline(\"text-classification\", model=\"cooperleong00/deberta-v3-large_toxicity-scorer\")"
   ]
  },
  {
   "cell_type": "code",
   "execution_count": 3,
   "metadata": {},
   "outputs": [],
   "source": [
    "# read in original data\n",
    "dfa = pd.read_csv('../data/toxicity_annotations.tsv',sep='\\t')\n",
    "dfc = pd.read_csv('../data/toxicity_annotated_comments.tsv',sep='\\t')\n",
    "\n",
    "# read in dialect subsets\n",
    "aave = pd.read_json(\"../data/aave.jsonl\", lines=True)\n",
    "nigerianD = pd.read_json(\"../data/nigerianD.jsonl\", lines=True)\n",
    "indianD = pd.read_json(\"../data/indianD.jsonl\", lines=True)\n",
    "singlish = pd.read_json(\"../data/singlish.jsonl\", lines=True)\n",
    "\n",
    "# get the first 1000 toxicity scores in dfa for development\n",
    "dfa_sample = dfa.iloc[:1000]"
   ]
  },
  {
   "cell_type": "code",
   "execution_count": 4,
   "metadata": {},
   "outputs": [
    {
     "data": {
      "text/html": [
       "<div>\n",
       "<style scoped>\n",
       "    .dataframe tbody tr th:only-of-type {\n",
       "        vertical-align: middle;\n",
       "    }\n",
       "\n",
       "    .dataframe tbody tr th {\n",
       "        vertical-align: top;\n",
       "    }\n",
       "\n",
       "    .dataframe thead th {\n",
       "        text-align: right;\n",
       "    }\n",
       "</style>\n",
       "<table border=\"1\" class=\"dataframe\">\n",
       "  <thead>\n",
       "    <tr style=\"text-align: right;\">\n",
       "      <th></th>\n",
       "      <th>rev_id</th>\n",
       "      <th>worker_id</th>\n",
       "      <th>toxicity</th>\n",
       "      <th>toxicity_score</th>\n",
       "    </tr>\n",
       "  </thead>\n",
       "  <tbody>\n",
       "    <tr>\n",
       "      <th>0</th>\n",
       "      <td>2232.0</td>\n",
       "      <td>723</td>\n",
       "      <td>0</td>\n",
       "      <td>0.0</td>\n",
       "    </tr>\n",
       "    <tr>\n",
       "      <th>1</th>\n",
       "      <td>2232.0</td>\n",
       "      <td>4000</td>\n",
       "      <td>0</td>\n",
       "      <td>0.0</td>\n",
       "    </tr>\n",
       "    <tr>\n",
       "      <th>2</th>\n",
       "      <td>2232.0</td>\n",
       "      <td>3989</td>\n",
       "      <td>0</td>\n",
       "      <td>1.0</td>\n",
       "    </tr>\n",
       "    <tr>\n",
       "      <th>3</th>\n",
       "      <td>2232.0</td>\n",
       "      <td>3341</td>\n",
       "      <td>0</td>\n",
       "      <td>0.0</td>\n",
       "    </tr>\n",
       "    <tr>\n",
       "      <th>4</th>\n",
       "      <td>2232.0</td>\n",
       "      <td>1574</td>\n",
       "      <td>0</td>\n",
       "      <td>1.0</td>\n",
       "    </tr>\n",
       "  </tbody>\n",
       "</table>\n",
       "</div>"
      ],
      "text/plain": [
       "   rev_id  worker_id  toxicity  toxicity_score\n",
       "0  2232.0        723         0             0.0\n",
       "1  2232.0       4000         0             0.0\n",
       "2  2232.0       3989         0             1.0\n",
       "3  2232.0       3341         0             0.0\n",
       "4  2232.0       1574         0             1.0"
      ]
     },
     "execution_count": 4,
     "metadata": {},
     "output_type": "execute_result"
    }
   ],
   "source": [
    "dfa_sample.head()"
   ]
  },
  {
   "cell_type": "code",
   "execution_count": 5,
   "metadata": {},
   "outputs": [
    {
     "data": {
      "text/html": [
       "<div>\n",
       "<style scoped>\n",
       "    .dataframe tbody tr th:only-of-type {\n",
       "        vertical-align: middle;\n",
       "    }\n",
       "\n",
       "    .dataframe tbody tr th {\n",
       "        vertical-align: top;\n",
       "    }\n",
       "\n",
       "    .dataframe thead th {\n",
       "        text-align: right;\n",
       "    }\n",
       "</style>\n",
       "<table border=\"1\" class=\"dataframe\">\n",
       "  <thead>\n",
       "    <tr style=\"text-align: right;\">\n",
       "      <th></th>\n",
       "      <th>rev_id</th>\n",
       "      <th>comment</th>\n",
       "      <th>year</th>\n",
       "      <th>logged_in</th>\n",
       "      <th>ns</th>\n",
       "      <th>sample</th>\n",
       "      <th>split</th>\n",
       "    </tr>\n",
       "  </thead>\n",
       "  <tbody>\n",
       "    <tr>\n",
       "      <th>0</th>\n",
       "      <td>2232.0</td>\n",
       "      <td>This:NEWLINE_TOKEN:One can make an analogy in ...</td>\n",
       "      <td>2002</td>\n",
       "      <td>True</td>\n",
       "      <td>article</td>\n",
       "      <td>random</td>\n",
       "      <td>train</td>\n",
       "    </tr>\n",
       "    <tr>\n",
       "      <th>1</th>\n",
       "      <td>4216.0</td>\n",
       "      <td>`NEWLINE_TOKENNEWLINE_TOKEN:Clarification for ...</td>\n",
       "      <td>2002</td>\n",
       "      <td>True</td>\n",
       "      <td>user</td>\n",
       "      <td>random</td>\n",
       "      <td>train</td>\n",
       "    </tr>\n",
       "    <tr>\n",
       "      <th>2</th>\n",
       "      <td>8953.0</td>\n",
       "      <td>Elected or Electoral? JHK</td>\n",
       "      <td>2002</td>\n",
       "      <td>False</td>\n",
       "      <td>article</td>\n",
       "      <td>random</td>\n",
       "      <td>test</td>\n",
       "    </tr>\n",
       "    <tr>\n",
       "      <th>3</th>\n",
       "      <td>26547.0</td>\n",
       "      <td>`This is such a fun entry.   DevotchkaNEWLINE_...</td>\n",
       "      <td>2002</td>\n",
       "      <td>True</td>\n",
       "      <td>article</td>\n",
       "      <td>random</td>\n",
       "      <td>train</td>\n",
       "    </tr>\n",
       "    <tr>\n",
       "      <th>4</th>\n",
       "      <td>28959.0</td>\n",
       "      <td>Please relate the ozone hole to increases in c...</td>\n",
       "      <td>2002</td>\n",
       "      <td>True</td>\n",
       "      <td>article</td>\n",
       "      <td>random</td>\n",
       "      <td>test</td>\n",
       "    </tr>\n",
       "  </tbody>\n",
       "</table>\n",
       "</div>"
      ],
      "text/plain": [
       "    rev_id                                            comment  year  \\\n",
       "0   2232.0  This:NEWLINE_TOKEN:One can make an analogy in ...  2002   \n",
       "1   4216.0  `NEWLINE_TOKENNEWLINE_TOKEN:Clarification for ...  2002   \n",
       "2   8953.0                          Elected or Electoral? JHK  2002   \n",
       "3  26547.0  `This is such a fun entry.   DevotchkaNEWLINE_...  2002   \n",
       "4  28959.0  Please relate the ozone hole to increases in c...  2002   \n",
       "\n",
       "   logged_in       ns  sample  split  \n",
       "0       True  article  random  train  \n",
       "1       True     user  random  train  \n",
       "2      False  article  random   test  \n",
       "3       True  article  random  train  \n",
       "4       True  article  random   test  "
      ]
     },
     "execution_count": 5,
     "metadata": {},
     "output_type": "execute_result"
    }
   ],
   "source": [
    "dfc.head()"
   ]
  },
  {
   "cell_type": "code",
   "execution_count": 6,
   "metadata": {},
   "outputs": [
    {
     "data": {
      "text/html": [
       "<div>\n",
       "<style scoped>\n",
       "    .dataframe tbody tr th:only-of-type {\n",
       "        vertical-align: middle;\n",
       "    }\n",
       "\n",
       "    .dataframe tbody tr th {\n",
       "        vertical-align: top;\n",
       "    }\n",
       "\n",
       "    .dataframe thead th {\n",
       "        text-align: right;\n",
       "    }\n",
       "</style>\n",
       "<table border=\"1\" class=\"dataframe\">\n",
       "  <thead>\n",
       "    <tr style=\"text-align: right;\">\n",
       "      <th></th>\n",
       "      <th>text</th>\n",
       "      <th>rules</th>\n",
       "    </tr>\n",
       "  </thead>\n",
       "  <tbody>\n",
       "    <tr>\n",
       "      <th>0</th>\n",
       "      <td>This:NEWLINE_TOKEN:One might can make an analo...</td>\n",
       "      <td>[existential_there, mass_noun_plurals, complet...</td>\n",
       "    </tr>\n",
       "    <tr>\n",
       "      <th>1</th>\n",
       "      <td>`NEWLINE_TOKENNEWLINE_TOKEN:Clarification for ...</td>\n",
       "      <td>[shadow_pronouns, existential_there, regulariz...</td>\n",
       "    </tr>\n",
       "    <tr>\n",
       "      <th>2</th>\n",
       "      <td>Elected or Electoral? JHK</td>\n",
       "      <td>[]</td>\n",
       "    </tr>\n",
       "    <tr>\n",
       "      <th>3</th>\n",
       "      <td>`This such a fun entry.   DevotchkaNEWLINE_TOK...</td>\n",
       "      <td>[regularized_plurals, their_they, future_sub_g...</td>\n",
       "    </tr>\n",
       "    <tr>\n",
       "      <th>4</th>\n",
       "      <td>Please do relate that ozone hole to increase i...</td>\n",
       "      <td>[zero_plural, double_modals, demonstrative_for...</td>\n",
       "    </tr>\n",
       "  </tbody>\n",
       "</table>\n",
       "</div>"
      ],
      "text/plain": [
       "                                                text  \\\n",
       "0  This:NEWLINE_TOKEN:One might can make an analo...   \n",
       "1  `NEWLINE_TOKENNEWLINE_TOKEN:Clarification for ...   \n",
       "2                          Elected or Electoral? JHK   \n",
       "3  `This such a fun entry.   DevotchkaNEWLINE_TOK...   \n",
       "4  Please do relate that ozone hole to increase i...   \n",
       "\n",
       "                                               rules  \n",
       "0  [existential_there, mass_noun_plurals, complet...  \n",
       "1  [shadow_pronouns, existential_there, regulariz...  \n",
       "2                                                 []  \n",
       "3  [regularized_plurals, their_they, future_sub_g...  \n",
       "4  [zero_plural, double_modals, demonstrative_for...  "
      ]
     },
     "execution_count": 6,
     "metadata": {},
     "output_type": "execute_result"
    }
   ],
   "source": [
    "aave.head()"
   ]
  },
  {
   "cell_type": "markdown",
   "metadata": {},
   "source": [
    "### DeBERTa accuracy check"
   ]
  },
  {
   "cell_type": "code",
   "execution_count": 7,
   "metadata": {},
   "outputs": [
    {
     "name": "stdout",
     "output_type": "stream",
     "text": [
      "Counter({0.0: 250, 1.0: 213, -1.0: 19, 2.0: 17, -2.0: 1})\n"
     ]
    }
   ],
   "source": [
    "y_gold = dfa_sample[\"toxicity_score\"]\n",
    "\n",
    "print(Counter(list(y_gold[:500])))"
   ]
  },
  {
   "cell_type": "code",
   "execution_count": 8,
   "metadata": {},
   "outputs": [],
   "source": [
    "# for sent in dfc[\"comment\"][:5]:\n",
    "#     results = toxpipe(sent)\n",
    "#     print(results)"
   ]
  },
  {
   "cell_type": "code",
   "execution_count": 9,
   "metadata": {},
   "outputs": [
    {
     "name": "stderr",
     "output_type": "stream",
     "text": [
      "100%|██████████| 1000/1000 [24:11<00:00,  1.45s/it] \n"
     ]
    }
   ],
   "source": [
    "y_pred = []\n",
    "for sent in tqdm(dfc[\"comment\"][:1000]):\n",
    "    result = toxpipe(sent)[0]\n",
    "\n",
    "    # score_num: numerical score of toxicity rating: (-1 ~ 1)\n",
    "    if result[\"label\"] == \"LABEL_1\":  # convert score to negative if labeled as toxic\n",
    "        score_num = -result[\"score\"]\n",
    "    else:\n",
    "        score_num = result[\"score\"]\n",
    "\n",
    "    # score_cat: categorical rating of toxicity: [-2, -1, 0, 1, 2]\n",
    "    if -1.0 <= score_num < -0.6:\n",
    "        score_cat = -2\n",
    "    elif -0.6 <= score_num < -0.2:\n",
    "        score_cat = -1\n",
    "    elif -0.2 <= score_num <= 0.2:\n",
    "        score_cat = 0\n",
    "    elif 0.2 < score_num <= 0.6:\n",
    "        score_cat = 1\n",
    "    elif 0.6 < score_num <= 1.0:\n",
    "        score_cat = 2\n",
    "    else:\n",
    "        score_cat = None  # Handle out-of-range value\n",
    "\n",
    "    res = [score_cat, score_num]\n",
    "    y_pred.append(res)"
   ]
  },
  {
   "cell_type": "code",
   "execution_count": 10,
   "metadata": {},
   "outputs": [
    {
     "data": {
      "text/plain": [
       "Counter({2: 940, 1: 24, -2: 20, -1: 16})"
      ]
     },
     "execution_count": 10,
     "metadata": {},
     "output_type": "execute_result"
    }
   ],
   "source": [
    "Counter([i[0] for i in y_pred])"
   ]
  },
  {
   "cell_type": "code",
   "execution_count": 11,
   "metadata": {},
   "outputs": [],
   "source": [
    "# convert results to a df with labels\n",
    "pred_1k = pd.DataFrame(y_pred, columns =['label', 'confidence'], dtype = float) \n",
    "\n",
    "# save the first 500 predictions with confidence\n",
    "pred_1k.to_csv(\"../data/pred_1k.csv\", sep=\",\", index=False)"
   ]
  },
  {
   "cell_type": "code",
   "execution_count": 12,
   "metadata": {},
   "outputs": [
    {
     "name": "stderr",
     "output_type": "stream",
     "text": [
      "100%|██████████| 1000/1000 [24:32<00:00,  1.47s/it] \n"
     ]
    }
   ],
   "source": [
    "# also test on converted AAVE texts\n",
    "y_pred_aave = []\n",
    "for sent in tqdm(aave[\"text\"]):\n",
    "    result = toxpipe(sent)[0]\n",
    "\n",
    "    # score_num: numerical score of toxicity rating: (-1 ~ 1)\n",
    "    if result[\"label\"] == \"LABEL_1\":  # convert score to negative if labeled as toxic\n",
    "        score_num = -result[\"score\"]\n",
    "    else:\n",
    "        score_num = result[\"score\"]\n",
    "\n",
    "    # score_cat: categorical rating of toxicity: [-2, -1, 0, 1, 2]\n",
    "    if -1.0 <= score_num < -0.6:\n",
    "        score_cat = -2\n",
    "    elif -0.6 <= score_num < -0.2:\n",
    "        score_cat = -1\n",
    "    elif -0.2 <= score_num <= 0.2:\n",
    "        score_cat = 0\n",
    "    elif 0.2 < score_num <= 0.6:\n",
    "        score_cat = 1\n",
    "    elif 0.6 < score_num <= 1.0:\n",
    "        score_cat = 2\n",
    "    else:\n",
    "        score_cat = None  # Handle out-of-range value\n",
    "\n",
    "    res = [score_cat, score_num]\n",
    "    y_pred_aave.append(res)\n",
    "\n",
    "pred_aave_1k = pd.DataFrame(y_pred_aave, columns =['label', 'confidence'], dtype = float) \n",
    "pred_aave_1k.to_csv(\"../data/pred_aave_1k.csv\", sep=\",\", index=False)"
   ]
  },
  {
   "cell_type": "markdown",
   "metadata": {},
   "source": [
    "### check DeBERTa toxicity ratings of the first 1000  sentences"
   ]
  },
  {
   "cell_type": "code",
   "execution_count": 16,
   "metadata": {},
   "outputs": [],
   "source": [
    "pred_1k = pd.read_csv(\"../data/pred_1k.csv\")\n",
    "pred_aave_1k = pd.read_csv(\"../data/pred_aave_1k.csv\")"
   ]
  },
  {
   "cell_type": "code",
   "execution_count": 14,
   "metadata": {},
   "outputs": [
    {
     "data": {
      "image/png": "[encoded data removed]",
      "text/plain": [
       "<Figure size 640x480 with 1 Axes>"
      ]
     },
     "metadata": {},
     "output_type": "display_data"
    }
   ],
   "source": [
    "confidence = list(pred_1k[\"confidence\"]) \n",
    "\n",
    "plt.hist(confidence, bins=100, edgecolor='black', alpha=0.7)\n",
    "plt.xlabel('prediction confidence')\n",
    "plt.ylabel('frequency')\n",
    "plt.grid(True)\n",
    "plt.show()"
   ]
  },
  {
   "cell_type": "code",
   "execution_count": 23,
   "metadata": {},
   "outputs": [
    {
     "data": {
      "image/png": "[encoded data removed]",
      "text/plain": [
       "<Figure size 640x480 with 1 Axes>"
      ]
     },
     "metadata": {},
     "output_type": "display_data"
    }
   ],
   "source": [
    "pred_label = list(pred_1k[\"label\"]) \n",
    "\n",
    "plt.hist(pred_label, bins=30, edgecolor='black', alpha=0.5, label='y_pred')\n",
    "plt.hist(y_gold, bins=30, edgecolor='black', alpha=0.5, label='y_gold')\n",
    "\n",
    "plt.xlabel('toxicity label')\n",
    "plt.ylabel('frequency')\n",
    "plt.legend()\n",
    "plt.grid(True)\n",
    "plt.show()"
   ]
  },
  {
   "cell_type": "code",
   "execution_count": 22,
   "metadata": {},
   "outputs": [
    {
     "data": {
      "image/png": "[encoded data removed]",
      "text/plain": [
       "<Figure size 640x480 with 1 Axes>"
      ]
     },
     "metadata": {},
     "output_type": "display_data"
    }
   ],
   "source": [
    "pred_aave_label = list(pred_aave_1k[\"label\"])\n",
    "\n",
    "plt.hist(pred_label, bins=50, edgecolor=\"black\", alpha=0.5, label=\"y_pred\")\n",
    "plt.hist(pred_aave_label, bins=50, edgecolor=\"black\", alpha=0.5, label=\"y_pred_aave\")\n",
    "\n",
    "plt.xlabel(\"toxicity label\")\n",
    "plt.ylabel(\"frequency\")\n",
    "plt.legend()\n",
    "plt.grid(True)\n",
    "plt.show()"
   ]
  },
  {
   "cell_type": "markdown",
   "metadata": {},
   "source": [
    "### Problem\n",
    "\n",
    "The \"translated\" results are not really distinctive and probably will not be helpful for the toxicity level change evaluation. \n",
    "\n",
    "Two possible approaches to make the results useful: \n",
    "\n",
    "- use DeBERTa to annotate all 5 dialects. Set original Wiki scores as gold. Compare how the percentile changes\n",
    "    - keep the (-1 ~ 1) range, where -1 == toxic\n",
    "    - problem: |score| < 0.50 are quite rare\n",
    "- train a simple toxicity scorer from scratch. Make sure toxicity labels are consistent\n",
    "    - problem: How to choose algorithms? How good will the model be?\n",
    "    - resouce intensive"
   ]
  },
  {
   "cell_type": "code",
   "execution_count": null,
   "metadata": {},
   "outputs": [],
   "source": []
  },
  {
   "cell_type": "code",
   "execution_count": null,
   "metadata": {},
   "outputs": [],
   "source": []
  },
  {
   "cell_type": "code",
   "execution_count": null,
   "metadata": {},
   "outputs": [],
   "source": []
  },
  {
   "cell_type": "code",
   "execution_count": null,
   "metadata": {},
   "outputs": [],
   "source": []
  },
  {
   "cell_type": "code",
   "execution_count": null,
   "metadata": {},
   "outputs": [],
   "source": []
  },
  {
   "cell_type": "code",
   "execution_count": null,
   "metadata": {},
   "outputs": [],
   "source": []
  }
 ],
 "metadata": {
  "kernelspec": {
   "display_name": "BASE",
   "language": "python",
   "name": "python3"
  },
  "language_info": {
   "codemirror_mode": {
    "name": "ipython",
    "version": 3
   },
   "file_extension": ".py",
   "mimetype": "text/x-python",
   "name": "python",
   "nbconvert_exporter": "python",
   "pygments_lexer": "ipython3",
   "version": "3.11.8"
  }
 },
 "nbformat": 4,
 "nbformat_minor": 2
}
