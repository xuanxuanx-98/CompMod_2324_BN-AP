{
 "cells": [
  {
   "cell_type": "code",
   "execution_count": 5,
   "metadata": {},
   "outputs": [],
   "source": [
    "import numpy as np\n",
    "import pandas as pd\n",
    "import pickle as pkl\n",
    "from tqdm import tqdm"
   ]
  },
  {
   "cell_type": "code",
   "execution_count": 19,
   "metadata": {},
   "outputs": [],
   "source": [
    "# read in original data\n",
    "dfa = pd.read_csv('../data/toxicity_annotations.tsv',sep='\\t')\n",
    "dfc = pd.read_csv('../data/toxicity_annotated_comments.tsv',sep='\\t')\n",
    "\n",
    "# read in dialect subsets\n",
    "aave = pd.read_json(\"../data/aave.jsonl\", lines=True)\n",
    "nigerianD = pd.read_json(\"../data/nigerianD.jsonl\", lines=True)\n",
    "indianD = pd.read_json(\"../data/indianD.jsonl\", lines=True)\n",
    "singlish = pd.read_json(\"../data/singlish.jsonl\", lines=True)\n",
    "\n",
    "# get the first 500 toxicity scores in dfa for development\n",
    "dfa_sample = dfa.iloc[:500]"
   ]
  },
  {
   "cell_type": "code",
   "execution_count": 23,
   "metadata": {},
   "outputs": [
    {
     "data": {
      "text/plain": [
       "(500, 4)"
      ]
     },
     "execution_count": 23,
     "metadata": {},
     "output_type": "execute_result"
    }
   ],
   "source": [
    "dfa_sample.shape"
   ]
  },
  {
   "cell_type": "code",
   "execution_count": 18,
   "metadata": {},
   "outputs": [
    {
     "data": {
      "text/html": [
       "<div>\n",
       "<style scoped>\n",
       "    .dataframe tbody tr th:only-of-type {\n",
       "        vertical-align: middle;\n",
       "    }\n",
       "\n",
       "    .dataframe tbody tr th {\n",
       "        vertical-align: top;\n",
       "    }\n",
       "\n",
       "    .dataframe thead th {\n",
       "        text-align: right;\n",
       "    }\n",
       "</style>\n",
       "<table border=\"1\" class=\"dataframe\">\n",
       "  <thead>\n",
       "    <tr style=\"text-align: right;\">\n",
       "      <th></th>\n",
       "      <th>text</th>\n",
       "      <th>rules</th>\n",
       "    </tr>\n",
       "  </thead>\n",
       "  <tbody>\n",
       "    <tr>\n",
       "      <th>0</th>\n",
       "      <td>This:NEWLINE_TOKEN:One might can make an analo...</td>\n",
       "      <td>[who_which, clefting, aint_before_main, double...</td>\n",
       "    </tr>\n",
       "    <tr>\n",
       "      <th>1</th>\n",
       "      <td>`NEWLINE_TOKENNEWLINE_TOKEN:Clarification for ...</td>\n",
       "      <td>[regularized_plurals, drop_copula_be_NP, negat...</td>\n",
       "    </tr>\n",
       "    <tr>\n",
       "      <th>2</th>\n",
       "      <td>Elect or Electoral? JHK</td>\n",
       "      <td>[bare_perfect]</td>\n",
       "    </tr>\n",
       "    <tr>\n",
       "      <th>3</th>\n",
       "      <td>`This are such a fun entrys.   DevotchkaNEWLIN...</td>\n",
       "      <td>[generalized_third_person_s, linking_relcl, do...</td>\n",
       "    </tr>\n",
       "    <tr>\n",
       "      <th>4</th>\n",
       "      <td>Please relate that ozone hole to increases in ...</td>\n",
       "      <td>[plural_to_singular_human, acomp_focusing_like...</td>\n",
       "    </tr>\n",
       "  </tbody>\n",
       "</table>\n",
       "</div>"
      ],
      "text/plain": [
       "                                                text  \\\n",
       "0  This:NEWLINE_TOKEN:One might can make an analo...   \n",
       "1  `NEWLINE_TOKENNEWLINE_TOKEN:Clarification for ...   \n",
       "2                            Elect or Electoral? JHK   \n",
       "3  `This are such a fun entrys.   DevotchkaNEWLIN...   \n",
       "4  Please relate that ozone hole to increases in ...   \n",
       "\n",
       "                                               rules  \n",
       "0  [who_which, clefting, aint_before_main, double...  \n",
       "1  [regularized_plurals, drop_copula_be_NP, negat...  \n",
       "2                                     [bare_perfect]  \n",
       "3  [generalized_third_person_s, linking_relcl, do...  \n",
       "4  [plural_to_singular_human, acomp_focusing_like...  "
      ]
     },
     "execution_count": 18,
     "metadata": {},
     "output_type": "execute_result"
    }
   ],
   "source": [
    "aave.head()"
   ]
  },
  {
   "cell_type": "code",
   "execution_count": 11,
   "metadata": {},
   "outputs": [
    {
     "data": {
      "text/html": [
       "<div>\n",
       "<style scoped>\n",
       "    .dataframe tbody tr th:only-of-type {\n",
       "        vertical-align: middle;\n",
       "    }\n",
       "\n",
       "    .dataframe tbody tr th {\n",
       "        vertical-align: top;\n",
       "    }\n",
       "\n",
       "    .dataframe thead th {\n",
       "        text-align: right;\n",
       "    }\n",
       "</style>\n",
       "<table border=\"1\" class=\"dataframe\">\n",
       "  <thead>\n",
       "    <tr style=\"text-align: right;\">\n",
       "      <th></th>\n",
       "      <th>text</th>\n",
       "      <th>rules</th>\n",
       "    </tr>\n",
       "  </thead>\n",
       "  <tbody>\n",
       "    <tr>\n",
       "      <th>0</th>\n",
       "      <td>This:NEWLINE_TOKEN:One can make an analogy mat...</td>\n",
       "      <td>[null_prepositions, more_much, uninflect, remo...</td>\n",
       "    </tr>\n",
       "    <tr>\n",
       "      <th>1</th>\n",
       "      <td>`NEWLINE_TOKENNEWLINE_TOKEN:Clarification for ...</td>\n",
       "      <td>[progressives, regularized_plurals, drop_inf_t...</td>\n",
       "    </tr>\n",
       "    <tr>\n",
       "      <th>2</th>\n",
       "      <td>Elected or Electoral? JHK</td>\n",
       "      <td>[]</td>\n",
       "    </tr>\n",
       "    <tr>\n",
       "      <th>3</th>\n",
       "      <td>`This is such a fun entry.   DevotchkaNEWLINE_...</td>\n",
       "      <td>[regularized_plurals, drop_inf_to, it_dobj, nu...</td>\n",
       "    </tr>\n",
       "    <tr>\n",
       "      <th>4</th>\n",
       "      <td>Please relate ozone hole to increases in cance...</td>\n",
       "      <td>[remove_det_definite]</td>\n",
       "    </tr>\n",
       "  </tbody>\n",
       "</table>\n",
       "</div>"
      ],
      "text/plain": [
       "                                                text  \\\n",
       "0  This:NEWLINE_TOKEN:One can make an analogy mat...   \n",
       "1  `NEWLINE_TOKENNEWLINE_TOKEN:Clarification for ...   \n",
       "2                          Elected or Electoral? JHK   \n",
       "3  `This is such a fun entry.   DevotchkaNEWLINE_...   \n",
       "4  Please relate ozone hole to increases in cance...   \n",
       "\n",
       "                                               rules  \n",
       "0  [null_prepositions, more_much, uninflect, remo...  \n",
       "1  [progressives, regularized_plurals, drop_inf_t...  \n",
       "2                                                 []  \n",
       "3  [regularized_plurals, drop_inf_to, it_dobj, nu...  \n",
       "4                              [remove_det_definite]  "
      ]
     },
     "execution_count": 11,
     "metadata": {},
     "output_type": "execute_result"
    }
   ],
   "source": [
    "nigerianD.head()"
   ]
  },
  {
   "cell_type": "code",
   "execution_count": null,
   "metadata": {},
   "outputs": [],
   "source": []
  }
 ],
 "metadata": {
  "kernelspec": {
   "display_name": "BASE",
   "language": "python",
   "name": "python3"
  },
  "language_info": {
   "codemirror_mode": {
    "name": "ipython",
    "version": 3
   },
   "file_extension": ".py",
   "mimetype": "text/x-python",
   "name": "python",
   "nbconvert_exporter": "python",
   "pygments_lexer": "ipython3",
   "version": "3.7.13"
  }
 },
 "nbformat": 4,
 "nbformat_minor": 2
}
