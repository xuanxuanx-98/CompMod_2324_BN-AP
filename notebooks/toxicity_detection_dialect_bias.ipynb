{
 "cells": [
  {
   "cell_type": "code",
   "execution_count": 1,
   "metadata": {},
   "outputs": [],
   "source": [
    "import numpy as np\n",
    "import pandas as pd\n",
    "import matplotlib.pyplot as plt\n",
    "from tqdm import tqdm\n",
    "from collections import Counter\n",
    "\n",
    "from transformers import pipeline\n",
    "\n",
    "from scipy.stats import ks_2samp\n",
    "from scipy.stats import mannwhitneyu"
   ]
  },
  {
   "cell_type": "code",
   "execution_count": 2,
   "metadata": {},
   "outputs": [],
   "source": [
    "# load toxicity annotation model\n",
    "toxpipe = pipeline(\"text-classification\", model=\"cooperleong00/deberta-v3-large_toxicity-scorer\")"
   ]
  },
  {
   "cell_type": "code",
   "execution_count": 3,
   "metadata": {},
   "outputs": [],
   "source": [
    "# read in original data\n",
    "dfa = pd.read_csv('../data/toxicity_annotations.tsv',sep='\\t')\n",
    "dfc = pd.read_csv('../data/toxicity_annotated_comments.tsv',sep='\\t')\n",
    "\n",
    "# read in dialect subsets\n",
    "aave = pd.read_json(\"../data/aave.jsonl\", lines=True)\n",
    "nigerianD = pd.read_json(\"../data/nigerianD.jsonl\", lines=True)\n",
    "indianD = pd.read_json(\"../data/indianD.jsonl\", lines=True)\n",
    "singlish = pd.read_json(\"../data/singlish.jsonl\", lines=True)\n",
    "\n",
    "# get the first 1000 toxicity scores in dfa for development\n",
    "dfa_sample = dfa.iloc[:1000]"
   ]
  },
  {
   "cell_type": "code",
   "execution_count": null,
   "metadata": {},
   "outputs": [],
   "source": [
    "dfa_sample.head()"
   ]
  },
  {
   "cell_type": "code",
   "execution_count": null,
   "metadata": {},
   "outputs": [],
   "source": [
    "dfc.head()"
   ]
  },
  {
   "cell_type": "code",
   "execution_count": null,
   "metadata": {},
   "outputs": [],
   "source": [
    "aave.head()"
   ]
  },
  {
   "cell_type": "markdown",
   "metadata": {},
   "source": [
    "### run DeBERTa toxicity scorer on the original texts and all 4 dialects"
   ]
  },
  {
   "cell_type": "code",
   "execution_count": 9,
   "metadata": {},
   "outputs": [],
   "source": [
    "def get_label_confidence(sents):\n",
    "    label_confidence = []  # list of tuple\n",
    "    for sent in tqdm(sents):\n",
    "        result = toxpipe(sent)[0]\n",
    "\n",
    "        # confidence: numerical score of toxicity rating: (-1 ~ 1)\n",
    "        if result[\"label\"] == \"LABEL_1\":  # convert score to negative if labeled as toxic\n",
    "            label = 1  # 1: toxic == true\n",
    "            confidence = -result[\"score\"]\n",
    "        else:\n",
    "            label = 0  # 0: toxic == false\n",
    "            confidence = result[\"score\"]\n",
    "\n",
    "        res = [label, confidence]\n",
    "        label_confidence.append(res)\n",
    "\n",
    "    # convert results to a dataframe with labels\n",
    "    lconf = pd.DataFrame(label_confidence, columns =['label', 'confidence'], dtype = float) \n",
    "    \n",
    "    return lconf"
   ]
  },
  {
   "cell_type": "code",
   "execution_count": 6,
   "metadata": {},
   "outputs": [
    {
     "name": "stderr",
     "output_type": "stream",
     "text": [
      "100%|██████████| 1000/1000 [12:48<00:00,  1.30it/s]\n",
      "100%|██████████| 1000/1000 [12:39<00:00,  1.32it/s]\n",
      "100%|██████████| 1000/1000 [13:06<00:00,  1.27it/s]\n",
      "100%|██████████| 1000/1000 [13:10<00:00,  1.26it/s]\n",
      "100%|██████████| 1000/1000 [14:00<00:00,  1.19it/s] \n"
     ]
    }
   ],
   "source": [
    "lconf_og_1k = get_label_confidence(dfc[\"comment\"][:1000])\n",
    "lconf_og_1k.to_csv(\"../data/lconf_og_1k.csv\", sep=\",\", index=False)\n",
    "\n",
    "lconf_aave_1k = get_label_confidence(aave[\"text\"])\n",
    "lconf_aave_1k.to_csv(\"../data/lconf_aave_1k.csv\", sep=\",\", index=False)\n",
    "\n",
    "lconf_nigerianD_1k = get_label_confidence(nigerianD[\"text\"])\n",
    "lconf_nigerianD_1k.to_csv(\"../data/lconf_nigerianD_1k.csv\", sep=\",\", index=False)\n",
    "\n",
    "lconf_indianD_1k = get_label_confidence(indianD[\"text\"])\n",
    "lconf_indianD_1k.to_csv(\"../data/lconf_indianD_1k.csv\", sep=\",\", index=False)\n",
    "\n",
    "lconf_singlish_1k = get_label_confidence(singlish[\"text\"])\n",
    "lconf_singlish_1k.to_csv(\"../data/lconf_singlish_1k.csv\", sep=\",\", index=False)"
   ]
  },
  {
   "cell_type": "markdown",
   "metadata": {},
   "source": [
    "### check DeBERTa toxicity ratings of the first 1000  sentences"
   ]
  },
  {
   "cell_type": "code",
   "execution_count": 14,
   "metadata": {},
   "outputs": [
    {
     "name": "stdout",
     "output_type": "stream",
     "text": [
      "Counter({0.0: 964, 1.0: 36})\n",
      "Counter({0.0: 963, 1.0: 37})\n",
      "Counter({0.0: 965, 1.0: 35})\n",
      "Counter({0.0: 966, 1.0: 34})\n",
      "Counter({0.0: 963, 1.0: 37})\n"
     ]
    }
   ],
   "source": [
    "# load saved predictions and check distribution of labels   \n",
    "lconf_og_1k = pd.read_csv(\"../data/lconf_og_1k.csv\")\n",
    "lconf_aave_1k = pd.read_csv(\"../data/lconf_aave_1k.csv\")\n",
    "lconf_nigerianD_1k = pd.read_csv(\"../data/lconf_nigerianD_1k.csv\")\n",
    "lconf_indianD_1k = pd.read_csv(\"../data/lconf_indianD_1k.csv\")\n",
    "lconf_singlish_1k = pd.read_csv(\"../data/lconf_singlish_1k.csv\")\n",
    "\n",
    "print(Counter(lconf_og_1k[\"label\"]))\n",
    "print(Counter(lconf_aave_1k[\"label\"]))\n",
    "print(Counter(lconf_nigerianD_1k[\"label\"]))\n",
    "print(Counter(lconf_indianD_1k[\"label\"]))\n",
    "print(Counter(lconf_singlish_1k[\"label\"]))"
   ]
  },
  {
   "cell_type": "code",
   "execution_count": 15,
   "metadata": {},
   "outputs": [
    {
     "data": {
      "image/png": "[encoded data removed]",
      "text/plain": [
       "<Figure size 640x480 with 1 Axes>"
      ]
     },
     "metadata": {},
     "output_type": "display_data"
    }
   ],
   "source": [
    "plt.hist(lconf_og_1k[\"confidence\"], bins=100, edgecolor='black', alpha=0.7, label=\"original\")\n",
    "plt.hist(lconf_aave_1k[\"confidence\"], bins=100, edgecolor='black', alpha=0.7, label=\"aave\")\n",
    "plt.xlabel('prediction confidence')\n",
    "plt.ylabel('frequency')\n",
    "plt.legend()\n",
    "plt.grid(True)\n",
    "plt.show()"
   ]
  },
  {
   "cell_type": "markdown",
   "metadata": {},
   "source": [
    "### KS test trial runs"
   ]
  },
  {
   "cell_type": "code",
   "execution_count": 16,
   "metadata": {},
   "outputs": [
    {
     "name": "stdout",
     "output_type": "stream",
     "text": [
      "overall: KS test for prediction confidence original vs. dialects\n",
      "Statistics=0.07200, p=0.01119\n",
      "Statistics=0.05600, p=0.08690\n",
      "Statistics=0.05400, p=0.10829\n",
      "Statistics=0.10100, p=0.00007\n"
     ]
    }
   ],
   "source": [
    "print(\"overall: KS test for prediction confidence original vs. dialects\")\n",
    "stat, p = ks_2samp([abs(c) for c in lconf_og_1k[\"confidence\"]], [abs(c) for c in lconf_aave_1k[\"confidence\"]])\n",
    "print('Statistics=%.5f, p=%.5f' % (stat, p))\n",
    "stat, p = ks_2samp([abs(c) for c in lconf_og_1k[\"confidence\"]], [abs(c) for c in lconf_nigerianD_1k[\"confidence\"]])\n",
    "print('Statistics=%.5f, p=%.5f' % (stat, p))\n",
    "stat, p = ks_2samp([abs(c) for c in lconf_og_1k[\"confidence\"]], [abs(c) for c in lconf_indianD_1k[\"confidence\"]])\n",
    "print('Statistics=%.5f, p=%.5f' % (stat, p))\n",
    "stat, p = ks_2samp([abs(c) for c in lconf_og_1k[\"confidence\"]], [abs(c) for c in lconf_singlish_1k[\"confidence\"]])\n",
    "print('Statistics=%.5f, p=%.5f' % (stat, p))"
   ]
  },
  {
   "cell_type": "code",
   "execution_count": 20,
   "metadata": {},
   "outputs": [
    {
     "name": "stdout",
     "output_type": "stream",
     "text": [
      "non-toxic only: KS test for prediction confidence original vs. dialects\n",
      "Statistics=0.07245, p=0.01149\n",
      "Statistics=0.05637, p=0.08949\n",
      "Statistics=0.05429, p=0.11049\n",
      "Statistics=0.10447, p=0.00005\n"
     ]
    }
   ],
   "source": [
    "print(\"non-toxic only: KS test for prediction confidence original vs. dialects\")\n",
    "stat, p = ks_2samp([abs(c) for c in lconf_og_1k[\"confidence\"] if c > 0], [abs(c) for c in lconf_aave_1k[\"confidence\"] if c > 0])\n",
    "print('Statistics=%.5f, p=%.5f' % (stat, p))\n",
    "stat, p = ks_2samp([abs(c) for c in lconf_og_1k[\"confidence\"] if c > 0], [abs(c) for c in lconf_nigerianD_1k[\"confidence\"] if c > 0])\n",
    "print('Statistics=%.5f, p=%.5f' % (stat, p))\n",
    "stat, p = ks_2samp([abs(c) for c in lconf_og_1k[\"confidence\"] if c > 0], [abs(c) for c in lconf_indianD_1k[\"confidence\"] if c > 0])\n",
    "print('Statistics=%.5f, p=%.5f' % (stat, p))\n",
    "stat, p = ks_2samp([abs(c) for c in lconf_og_1k[\"confidence\"] if c > 0], [abs(c) for c in lconf_singlish_1k[\"confidence\"] if c > 0])\n",
    "print('Statistics=%.5f, p=%.5f' % (stat, p))"
   ]
  },
  {
   "cell_type": "code",
   "execution_count": 21,
   "metadata": {},
   "outputs": [
    {
     "name": "stdout",
     "output_type": "stream",
     "text": [
      "toxic only: KS test for prediction confidence original vs. dialects\n",
      "Statistics=0.12838, p=0.86492\n",
      "Statistics=0.08254, p=0.99743\n",
      "Statistics=0.14216, p=0.80039\n",
      "Statistics=0.09459, p=0.98719\n"
     ]
    }
   ],
   "source": [
    "print(\"toxic only: KS test for prediction confidence original vs. dialects\")\n",
    "stat, p = ks_2samp([abs(c) for c in lconf_og_1k[\"confidence\"] if c < 0], [abs(c) for c in lconf_aave_1k[\"confidence\"] if c < 0])\n",
    "print('Statistics=%.5f, p=%.5f' % (stat, p))\n",
    "stat, p = ks_2samp([abs(c) for c in lconf_og_1k[\"confidence\"] if c < 0], [abs(c) for c in lconf_nigerianD_1k[\"confidence\"] if c < 0])\n",
    "print('Statistics=%.5f, p=%.5f' % (stat, p))\n",
    "stat, p = ks_2samp([abs(c) for c in lconf_og_1k[\"confidence\"] if c < 0], [abs(c) for c in lconf_indianD_1k[\"confidence\"] if c < 0])\n",
    "print('Statistics=%.5f, p=%.5f' % (stat, p))\n",
    "stat, p = ks_2samp([abs(c) for c in lconf_og_1k[\"confidence\"] if c < 0], [abs(c) for c in lconf_singlish_1k[\"confidence\"] if c < 0])\n",
    "print('Statistics=%.5f, p=%.5f' % (stat, p))"
   ]
  },
  {
   "cell_type": "markdown",
   "metadata": {},
   "source": [
    "### Mann Whitney U test trial runs"
   ]
  },
  {
   "cell_type": "code",
   "execution_count": 23,
   "metadata": {},
   "outputs": [
    {
     "name": "stdout",
     "output_type": "stream",
     "text": [
      "overall: Mann Whitney U test for prediction confidence original vs. dialects\n",
      "Statistics=532990.50000, p=0.01063\n",
      "Statistics=527190.50000, p=0.03524\n",
      "Statistics=522656.50000, p=0.07935\n",
      "Statistics=549670.50000, p=0.00012\n"
     ]
    }
   ],
   "source": [
    "print(\"overall: Mann Whitney U test for prediction confidence original vs. dialects\")\n",
    "stat, p = mannwhitneyu([abs(c) for c in lconf_og_1k[\"confidence\"]], [abs(c) for c in lconf_aave_1k[\"confidence\"]])\n",
    "print('Statistics=%.5f, p=%.5f' % (stat, p))\n",
    "stat, p = mannwhitneyu([abs(c) for c in lconf_og_1k[\"confidence\"]], [abs(c) for c in lconf_nigerianD_1k[\"confidence\"]])\n",
    "print('Statistics=%.5f, p=%.5f' % (stat, p))\n",
    "stat, p = mannwhitneyu([abs(c) for c in lconf_og_1k[\"confidence\"]], [abs(c) for c in lconf_indianD_1k[\"confidence\"]])\n",
    "print('Statistics=%.5f, p=%.5f' % (stat, p))\n",
    "stat, p = mannwhitneyu([abs(c) for c in lconf_og_1k[\"confidence\"]], [abs(c) for c in lconf_singlish_1k[\"confidence\"]])\n",
    "print('Statistics=%.5f, p=%.5f' % (stat, p))"
   ]
  },
  {
   "cell_type": "code",
   "execution_count": 25,
   "metadata": {},
   "outputs": [
    {
     "name": "stdout",
     "output_type": "stream",
     "text": [
      "toxic only: Mann Whitney U test for prediction confidence original vs. dialects\n",
      "Statistics=495677.00000, p=0.00988\n",
      "Statistics=491538.00000, p=0.03086\n",
      "Statistics=487759.00000, p=0.07043\n",
      "Statistics=512274.00000, p=0.00008\n"
     ]
    }
   ],
   "source": [
    "print(\"toxic only: Mann Whitney U test for prediction confidence original vs. dialects\")\n",
    "stat, p = mannwhitneyu([abs(c) for c in lconf_og_1k[\"confidence\"] if c > 0], [abs(c) for c in lconf_aave_1k[\"confidence\"] if c > 0])\n",
    "print('Statistics=%.5f, p=%.5f' % (stat, p))\n",
    "stat, p = mannwhitneyu([abs(c) for c in lconf_og_1k[\"confidence\"] if c > 0], [abs(c) for c in lconf_nigerianD_1k[\"confidence\"] if c > 0])\n",
    "print('Statistics=%.5f, p=%.5f' % (stat, p))\n",
    "stat, p = mannwhitneyu([abs(c) for c in lconf_og_1k[\"confidence\"] if c > 0], [abs(c) for c in lconf_indianD_1k[\"confidence\"] if c > 0])\n",
    "print('Statistics=%.5f, p=%.5f' % (stat, p))\n",
    "stat, p = mannwhitneyu([abs(c) for c in lconf_og_1k[\"confidence\"] if c > 0], [abs(c) for c in lconf_singlish_1k[\"confidence\"] if c > 0])\n",
    "print('Statistics=%.5f, p=%.5f' % (stat, p))"
   ]
  },
  {
   "cell_type": "code",
   "execution_count": 26,
   "metadata": {},
   "outputs": [
    {
     "name": "stdout",
     "output_type": "stream",
     "text": [
      "non-toxic only: Mann Whitney U test for prediction confidence original vs. dialects\n",
      "Statistics=712.50000, p=0.61176\n",
      "Statistics=632.50000, p=0.98165\n",
      "Statistics=682.50000, p=0.41074\n",
      "Statistics=700.50000, p=0.70754\n"
     ]
    }
   ],
   "source": [
    "print(\"non-toxic only: Mann Whitney U test for prediction confidence original vs. dialects\")\n",
    "stat, p = mannwhitneyu([abs(c) for c in lconf_og_1k[\"confidence\"] if c < 0], [abs(c) for c in lconf_aave_1k[\"confidence\"] if c < 0])\n",
    "print('Statistics=%.5f, p=%.5f' % (stat, p))\n",
    "stat, p = mannwhitneyu([abs(c) for c in lconf_og_1k[\"confidence\"] if c < 0], [abs(c) for c in lconf_nigerianD_1k[\"confidence\"] if c < 0])\n",
    "print('Statistics=%.5f, p=%.5f' % (stat, p))\n",
    "stat, p = mannwhitneyu([abs(c) for c in lconf_og_1k[\"confidence\"] if c < 0], [abs(c) for c in lconf_indianD_1k[\"confidence\"] if c < 0])\n",
    "print('Statistics=%.5f, p=%.5f' % (stat, p))\n",
    "stat, p = mannwhitneyu([abs(c) for c in lconf_og_1k[\"confidence\"] if c < 0], [abs(c) for c in lconf_singlish_1k[\"confidence\"] if c < 0])\n",
    "print('Statistics=%.5f, p=%.5f' % (stat, p))"
   ]
  },
  {
   "cell_type": "markdown",
   "metadata": {},
   "source": [
    "### some other statistics"
   ]
  },
  {
   "cell_type": "code",
   "execution_count": 29,
   "metadata": {},
   "outputs": [
    {
     "name": "stdout",
     "output_type": "stream",
     "text": [
      "0.7971735123991966\n",
      "0.7897873933911324\n",
      "0.7925030663609505\n",
      "0.796678382396698\n"
     ]
    }
   ],
   "source": [
    "print(np.average([c for c in lconf_og_1k[\"confidence\"]]))\n",
    "print(np.average([c for c in lconf_aave_1k[\"confidence\"]]))\n",
    "print(np.average([c for c in lconf_nigerianD_1k[\"confidence\"]]))\n",
    "print(np.average([c for c in lconf_indianD_1k[\"confidence\"]]))"
   ]
  },
  {
   "cell_type": "code",
   "execution_count": 8,
   "metadata": {},
   "outputs": [
    {
     "name": "stdout",
     "output_type": "stream",
     "text": [
      "0.6760093635982938\n",
      "0.6629518753773457\n",
      "0.6716517278126308\n",
      "0.6530748658320483\n",
      "\n",
      "0.8521886405484805\n",
      "0.8456039592732026\n",
      "0.8456071262532565\n",
      "0.8477048942391177\n"
     ]
    }
   ],
   "source": [
    "# average confidence of toxic predictions  \n",
    "print(np.average([abs(c) for c in lconf_og_1k[\"confidence\"] if c < 0]))\n",
    "print(np.average([abs(c) for c in lconf_aave_1k[\"confidence\"] if c < 0]))\n",
    "print(np.average([abs(c) for c in lconf_nigerianD_1k[\"confidence\"] if c < 0]))\n",
    "print(np.average([abs(c) for c in lconf_indianD_1k[\"confidence\"] if c < 0]))\n",
    "print(\"\")\n",
    "\n",
    "# average confidence of non-toxic predictions  \n",
    "print(np.average([abs(c) for c in lconf_og_1k[\"confidence\"] if c > 0]))\n",
    "print(np.average([abs(c) for c in lconf_aave_1k[\"confidence\"] if c > 0]))\n",
    "print(np.average([abs(c) for c in lconf_nigerianD_1k[\"confidence\"] if c > 0]))\n",
    "print(np.average([abs(c) for c in lconf_indianD_1k[\"confidence\"] if c > 0]))"
   ]
  },
  {
   "cell_type": "markdown",
   "metadata": {},
   "source": [
    "## Try out Twitter data"
   ]
  },
  {
   "cell_type": "code",
   "execution_count": 4,
   "metadata": {},
   "outputs": [],
   "source": [
    "# read in original data\n",
    "dft = pd.read_csv('../data/labeled_data.csv', sep=',', index_col=0)\n",
    "\n",
    "# read in dialect subsets\n",
    "aave = pd.read_json(\"../data/aave_tw.jsonl\", lines=True)\n",
    "nigerianD = pd.read_json(\"../data/nigerianD_tw.jsonl\", lines=True)\n",
    "indianD = pd.read_json(\"../data/indianD_tw.jsonl\", lines=True)\n",
    "singlish = pd.read_json(\"../data/singlish_tw.jsonl\", lines=True)\n",
    "\n",
    "# get the first 1000 toxicity scores in dfa for development\n",
    "dft_sample = dft.iloc[:1000]"
   ]
  },
  {
   "cell_type": "code",
   "execution_count": 5,
   "metadata": {},
   "outputs": [],
   "source": [
    "def get_label_confidence(sents):\n",
    "    label_confidence = []  # list of tuple\n",
    "    for sent in tqdm(sents):\n",
    "        result = toxpipe(sent)[0]\n",
    "\n",
    "        # confidence: numerical score of toxicity rating: (-1 ~ 1)\n",
    "        if result[\"label\"] == \"LABEL_1\":  # convert score to negative if labeled as toxic\n",
    "            label = 1  # 1: toxic == true\n",
    "            confidence = -result[\"score\"]\n",
    "        else:\n",
    "            label = 0  # 0: toxic == false\n",
    "            confidence = result[\"score\"]\n",
    "\n",
    "        res = [label, confidence]\n",
    "        label_confidence.append(res)\n",
    "\n",
    "    # convert results to a dataframe with labels\n",
    "    lconf = pd.DataFrame(label_confidence, columns =['label', 'confidence'], dtype = float) \n",
    "    \n",
    "    return lconf"
   ]
  },
  {
   "cell_type": "code",
   "execution_count": 6,
   "metadata": {},
   "outputs": [
    {
     "data": {
      "text/html": [
       "<div>\n",
       "<style scoped>\n",
       "    .dataframe tbody tr th:only-of-type {\n",
       "        vertical-align: middle;\n",
       "    }\n",
       "\n",
       "    .dataframe tbody tr th {\n",
       "        vertical-align: top;\n",
       "    }\n",
       "\n",
       "    .dataframe thead th {\n",
       "        text-align: right;\n",
       "    }\n",
       "</style>\n",
       "<table border=\"1\" class=\"dataframe\">\n",
       "  <thead>\n",
       "    <tr style=\"text-align: right;\">\n",
       "      <th></th>\n",
       "      <th>count</th>\n",
       "      <th>hate_speech</th>\n",
       "      <th>offensive_language</th>\n",
       "      <th>neither</th>\n",
       "      <th>class</th>\n",
       "      <th>tweet</th>\n",
       "    </tr>\n",
       "  </thead>\n",
       "  <tbody>\n",
       "    <tr>\n",
       "      <th>0</th>\n",
       "      <td>3</td>\n",
       "      <td>0</td>\n",
       "      <td>0</td>\n",
       "      <td>3</td>\n",
       "      <td>2</td>\n",
       "      <td>!!! RT @mayasolovely: As a woman you shouldn't...</td>\n",
       "    </tr>\n",
       "    <tr>\n",
       "      <th>1</th>\n",
       "      <td>3</td>\n",
       "      <td>0</td>\n",
       "      <td>3</td>\n",
       "      <td>0</td>\n",
       "      <td>1</td>\n",
       "      <td>!!!!! RT @mleew17: boy dats cold...tyga dwn ba...</td>\n",
       "    </tr>\n",
       "    <tr>\n",
       "      <th>2</th>\n",
       "      <td>3</td>\n",
       "      <td>0</td>\n",
       "      <td>3</td>\n",
       "      <td>0</td>\n",
       "      <td>1</td>\n",
       "      <td>!!!!!!! RT @UrKindOfBrand Dawg!!!! RT @80sbaby...</td>\n",
       "    </tr>\n",
       "    <tr>\n",
       "      <th>3</th>\n",
       "      <td>3</td>\n",
       "      <td>0</td>\n",
       "      <td>2</td>\n",
       "      <td>1</td>\n",
       "      <td>1</td>\n",
       "      <td>!!!!!!!!! RT @C_G_Anderson: @viva_based she lo...</td>\n",
       "    </tr>\n",
       "    <tr>\n",
       "      <th>4</th>\n",
       "      <td>6</td>\n",
       "      <td>0</td>\n",
       "      <td>6</td>\n",
       "      <td>0</td>\n",
       "      <td>1</td>\n",
       "      <td>!!!!!!!!!!!!! RT @ShenikaRoberts: The shit you...</td>\n",
       "    </tr>\n",
       "    <tr>\n",
       "      <th>5</th>\n",
       "      <td>3</td>\n",
       "      <td>1</td>\n",
       "      <td>2</td>\n",
       "      <td>0</td>\n",
       "      <td>1</td>\n",
       "      <td>!!!!!!!!!!!!!!!!!!\"@T_Madison_x: The shit just...</td>\n",
       "    </tr>\n",
       "    <tr>\n",
       "      <th>6</th>\n",
       "      <td>3</td>\n",
       "      <td>0</td>\n",
       "      <td>3</td>\n",
       "      <td>0</td>\n",
       "      <td>1</td>\n",
       "      <td>!!!!!!\"@__BrighterDays: I can not just sit up ...</td>\n",
       "    </tr>\n",
       "    <tr>\n",
       "      <th>7</th>\n",
       "      <td>3</td>\n",
       "      <td>0</td>\n",
       "      <td>3</td>\n",
       "      <td>0</td>\n",
       "      <td>1</td>\n",
       "      <td>!!!!&amp;#8220;@selfiequeenbri: cause I'm tired of...</td>\n",
       "    </tr>\n",
       "    <tr>\n",
       "      <th>8</th>\n",
       "      <td>3</td>\n",
       "      <td>0</td>\n",
       "      <td>3</td>\n",
       "      <td>0</td>\n",
       "      <td>1</td>\n",
       "      <td>\" &amp;amp; you might not get ya bitch back &amp;amp; ...</td>\n",
       "    </tr>\n",
       "    <tr>\n",
       "      <th>9</th>\n",
       "      <td>3</td>\n",
       "      <td>1</td>\n",
       "      <td>2</td>\n",
       "      <td>0</td>\n",
       "      <td>1</td>\n",
       "      <td>\" @rhythmixx_ :hobbies include: fighting Maria...</td>\n",
       "    </tr>\n",
       "  </tbody>\n",
       "</table>\n",
       "</div>"
      ],
      "text/plain": [
       "   count  hate_speech  offensive_language  neither  class  \\\n",
       "0      3            0                   0        3      2   \n",
       "1      3            0                   3        0      1   \n",
       "2      3            0                   3        0      1   \n",
       "3      3            0                   2        1      1   \n",
       "4      6            0                   6        0      1   \n",
       "5      3            1                   2        0      1   \n",
       "6      3            0                   3        0      1   \n",
       "7      3            0                   3        0      1   \n",
       "8      3            0                   3        0      1   \n",
       "9      3            1                   2        0      1   \n",
       "\n",
       "                                               tweet  \n",
       "0  !!! RT @mayasolovely: As a woman you shouldn't...  \n",
       "1  !!!!! RT @mleew17: boy dats cold...tyga dwn ba...  \n",
       "2  !!!!!!! RT @UrKindOfBrand Dawg!!!! RT @80sbaby...  \n",
       "3  !!!!!!!!! RT @C_G_Anderson: @viva_based she lo...  \n",
       "4  !!!!!!!!!!!!! RT @ShenikaRoberts: The shit you...  \n",
       "5  !!!!!!!!!!!!!!!!!!\"@T_Madison_x: The shit just...  \n",
       "6  !!!!!!\"@__BrighterDays: I can not just sit up ...  \n",
       "7  !!!!&#8220;@selfiequeenbri: cause I'm tired of...  \n",
       "8  \" &amp; you might not get ya bitch back &amp; ...  \n",
       "9  \" @rhythmixx_ :hobbies include: fighting Maria...  "
      ]
     },
     "execution_count": 6,
     "metadata": {},
     "output_type": "execute_result"
    }
   ],
   "source": [
    "dft_sample.head(10)"
   ]
  },
  {
   "cell_type": "code",
   "execution_count": 10,
   "metadata": {},
   "outputs": [],
   "source": [
    "lconf_og_1k = get_label_confidence(dft_sample[\"tweet\"][:1000])\n",
    "lconf_og_1k.to_csv(\"../data/lconf_og_1k_tw.csv\", sep=\",\", index=False)\n",
    "\n",
    "lconf_aave_1k = get_label_confidence(aave[\"text\"])\n",
    "lconf_aave_1k.to_csv(\"../data/lconf_aave_1k_tw.csv\", sep=\",\", index=False)\n",
    "\n",
    "lconf_nigerianD_1k = get_label_confidence(nigerianD[\"text\"])\n",
    "lconf_nigerianD_1k.to_csv(\"../data/lconf_nigerianD_1k_tw.csv\", sep=\",\", index=False)\n",
    "\n",
    "lconf_indianD_1k = get_label_confidence(indianD[\"text\"])\n",
    "lconf_indianD_1k.to_csv(\"../data/lconf_indianD_1k_tw.csv\", sep=\",\", index=False)\n",
    "\n",
    "lconf_singlish_1k = get_label_confidence(singlish[\"text\"])\n",
    "lconf_singlish_1k.to_csv(\"../data/lconf_singlish_1k_tw.csv\", sep=\",\", index=False)"
   ]
  },
  {
   "cell_type": "code",
   "execution_count": 19,
   "metadata": {},
   "outputs": [
    {
     "name": "stdout",
     "output_type": "stream",
     "text": [
      "Counter({1.0: 796, 0.0: 204})\n",
      "Counter({1.0: 778, 0.0: 222})\n",
      "Counter({1.0: 790, 0.0: 210})\n",
      "Counter({1.0: 779, 0.0: 221})\n",
      "Counter({1.0: 779, 0.0: 221})\n"
     ]
    }
   ],
   "source": [
    "# load saved predictions and check distribution of labels   \n",
    "lconf_og_1k = pd.read_csv(\"../data/lconf_og_1k_tw.csv\")\n",
    "lconf_aave_1k = pd.read_csv(\"../data/lconf_aave_1k_tw.csv\")\n",
    "lconf_nigerianD_1k = pd.read_csv(\"../data/lconf_nigerianD_1k_tw.csv\")\n",
    "lconf_indianD_1k = pd.read_csv(\"../data/lconf_indianD_1k_tw.csv\")\n",
    "lconf_singlish_1k = pd.read_csv(\"../data/lconf_singlish_1k_tw.csv\")\n",
    "\n",
    "print(Counter(lconf_og_1k[\"label\"]))\n",
    "print(Counter(lconf_aave_1k[\"label\"]))\n",
    "print(Counter(lconf_nigerianD_1k[\"label\"]))\n",
    "print(Counter(lconf_indianD_1k[\"label\"]))\n",
    "print(Counter(lconf_singlish_1k[\"label\"]))"
   ]
  },
  {
   "cell_type": "code",
   "execution_count": 20,
   "metadata": {},
   "outputs": [
    {
     "name": "stdout",
     "output_type": "stream",
     "text": [
      "overall: KS test for prediction confidence original vs. dialects\n",
      "Statistics=0.05100, p=0.14836\n",
      "Statistics=0.04000, p=0.40063\n",
      "Statistics=0.06600, p=0.02563\n",
      "Statistics=0.06100, p=0.04840\n"
     ]
    }
   ],
   "source": [
    "print(\"overall: KS test for prediction confidence original vs. dialects\")\n",
    "stat, p = ks_2samp([abs(c) for c in lconf_og_1k[\"confidence\"]], [abs(c) for c in lconf_aave_1k[\"confidence\"]])\n",
    "print('Statistics=%.5f, p=%.5f' % (stat, p))\n",
    "stat, p = ks_2samp([abs(c) for c in lconf_og_1k[\"confidence\"]], [abs(c) for c in lconf_nigerianD_1k[\"confidence\"]])\n",
    "print('Statistics=%.5f, p=%.5f' % (stat, p))\n",
    "stat, p = ks_2samp([abs(c) for c in lconf_og_1k[\"confidence\"]], [abs(c) for c in lconf_indianD_1k[\"confidence\"]])\n",
    "print('Statistics=%.5f, p=%.5f' % (stat, p))\n",
    "stat, p = ks_2samp([abs(c) for c in lconf_og_1k[\"confidence\"]], [abs(c) for c in lconf_singlish_1k[\"confidence\"]])\n",
    "print('Statistics=%.5f, p=%.5f' % (stat, p))"
   ]
  },
  {
   "cell_type": "code",
   "execution_count": 21,
   "metadata": {},
   "outputs": [
    {
     "data": {
      "image/png": "[encoded data removed]",
      "text/plain": [
       "<Figure size 640x480 with 1 Axes>"
      ]
     },
     "metadata": {},
     "output_type": "display_data"
    }
   ],
   "source": [
    "plt.hist(lconf_og_1k[\"confidence\"], bins=100, edgecolor='black', alpha=0.7, label=\"original\")\n",
    "plt.hist(lconf_aave_1k[\"confidence\"], bins=100, edgecolor='black', alpha=0.7, label=\"aave\")\n",
    "plt.xlabel('prediction confidence')\n",
    "plt.ylabel('frequency')\n",
    "plt.legend()\n",
    "plt.grid(True)\n",
    "plt.show()"
   ]
  }
 ],
 "metadata": {
  "kernelspec": {
   "display_name": "BASE",
   "language": "python",
   "name": "python3"
  },
  "language_info": {
   "codemirror_mode": {
    "name": "ipython",
    "version": 3
   },
   "file_extension": ".py",
   "mimetype": "text/x-python",
   "name": "python",
   "nbconvert_exporter": "python",
   "pygments_lexer": "ipython3",
   "version": "3.11.8"
  }
 },
 "nbformat": 4,
 "nbformat_minor": 2
}
