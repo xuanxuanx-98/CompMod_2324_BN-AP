{
 "cells": [
  {
   "cell_type": "code",
   "execution_count": null,
   "metadata": {},
   "outputs": [],
   "source": [
    "import pandas as pd\n",
    "import pickle as pkl\n",
    "from tqdm import tqdm\n",
    "import sys\n",
    "import os\n",
    "import json\n",
    "\n",
    "import argparse\n",
    "from src.Dialects import AfricanAmericanVernacular\n",
    "from src.Dialects import NigerianDialect\n",
    "from src.Dialects import HongKongDialect\n",
    "from src.Dialects import ColloquialSingaporeDialect\n",
    "from src.Dialects import AfricanAmericanVernacular\n",
    "from src.Dialects import ColloquialSingaporeDialect\n",
    "from src.Dialects import IndianDialect"
   ]
  },
  {
   "cell_type": "code",
   "execution_count": null,
   "metadata": {},
   "outputs": [],
   "source": [
    "# read in original Wiki comments date with raw text\n",
    "dfc = pd.read_csv('toxicity_annotated_comments.tsv',sep='\\t')"
   ]
  },
  {
   "cell_type": "code",
   "execution_count": null,
   "metadata": {},
   "outputs": [],
   "source": [
    "def transform_to_dialect(dialect,dfc,dialect_name):\n",
    "    sents = []  # {text: ..., rules: [...]}\n",
    "\n",
    "    for i in tqdm(range(500), desc=\"Processing\"):\n",
    "        wiki_sent = dfc[\"comment\"][i]  # load original sentece\n",
    "\n",
    "        sent_dict = {}\n",
    "        sent_dict[\"text\"] = dialect.convert_sae_to_dialect(wiki_sent)\n",
    "        sent_dict[\"rules\"] = list(set([i[\"type\"] for i in dialect.executed_rules.values()]))\n",
    "\n",
    "        sents.append(sent_dict)\n",
    "\n",
    "    with open(f'{dialect_name}.jsonl', 'w') as outfile:\n",
    "        for entry in sents:\n",
    "            json.dump(entry, outfile)\n",
    "            outfile.write('\\n')\n",
    "\n",
    "    return True"
   ]
  },
  {
   "cell_type": "code",
   "execution_count": null,
   "metadata": {},
   "outputs": [],
   "source": [
    "# load and run AAVE transform module, save results\n",
    "aave = AfricanAmericanVernacular()\n",
    "transform_to_dialect(dialect=aave, dfc=dfc, dialect_name=\"aave\")"
   ]
  },
  {
   "cell_type": "code",
   "execution_count": null,
   "metadata": {},
   "outputs": [],
   "source": [
    "# load and run Nigerian dialect transform module, save results\n",
    "ngd = NigerianDialect()\n",
    "transform_to_dialect(dialect=ngd, dfc=dfc, dialect_name=\"ngd\")"
   ]
  },
  {
   "cell_type": "code",
   "execution_count": null,
   "metadata": {},
   "outputs": [],
   "source": [
    "# load and run HongKong dialect transform module, save results\n",
    "indd = IndianDialect()\n",
    "transform_to_dialect(dialect=indd, dfc=dfc, dialect_name=\"aave\")"
   ]
  },
  {
   "cell_type": "code",
   "execution_count": null,
   "metadata": {},
   "outputs": [],
   "source": [
    "# load and run Singlish dialect transform module, save results\n",
    "csgd = ColloquialSingaporeDialect()\n",
    "transform_to_dialect(dialect=csgd, dfc=dfc, dialect_name=\"aave\")"
   ]
  },
  {
   "cell_type": "code",
   "execution_count": null,
   "metadata": {},
   "outputs": [],
   "source": []
  },
  {
   "cell_type": "code",
   "execution_count": null,
   "metadata": {},
   "outputs": [],
   "source": []
  },
  {
   "cell_type": "code",
   "execution_count": null,
   "metadata": {},
   "outputs": [],
   "source": []
  },
  {
   "cell_type": "code",
   "execution_count": null,
   "metadata": {},
   "outputs": [],
   "source": [
    "sent_count = len(dfc[\"comment\"])"
   ]
  },
  {
   "cell_type": "code",
   "execution_count": null,
   "metadata": {},
   "outputs": [],
   "source": [
    "# load a dialect transformation model\n",
    "aave = AfricanAmericanVernacular()\n",
    "\n",
    "aave_sents = []\n",
    "for i in tqdm(range(sent_count), desc=\"Processing\"):\n",
    "    wiki_sent = dfc[\"comment\"][i]\n",
    "    aave_sent = aave.convert_sae_to_dialect(wiki_sent)\n",
    "    aave_sents.append(aave_sent)\n"
   ]
  }
 ],
 "metadata": {
  "kernelspec": {
   "display_name": "BASE",
   "language": "python",
   "name": "python3"
  },
  "language_info": {
   "codemirror_mode": {
    "name": "ipython",
    "version": 3
   },
   "file_extension": ".py",
   "mimetype": "text/x-python",
   "name": "python",
   "nbconvert_exporter": "python",
   "pygments_lexer": "ipython3",
   "version": "3.7.17"
  }
 },
 "nbformat": 4,
 "nbformat_minor": 2
}
